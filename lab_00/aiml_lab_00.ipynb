{
 "cells": [
  {
   "cell_type": "markdown",
   "metadata": {},
   "source": [
    "<img align=\"right\" style=\"max-width: 200px; height: auto\" src=\"hsg_logo.png\">\n",
    "\n",
    "###  Lab 00 - \"Testing the Lab Environment\"\n",
    "\n",
    "Introduction to AI and ML, University of St. Gallen, Autumn Term 2020"
   ]
  },
  {
   "cell_type": "markdown",
   "metadata": {},
   "source": [
    "The lab environment of the **7.044.1,00 \"Introduction to Artificial Intelligence and Machine Learning\"** lecture is powered by Jupyter Notebooks, which allow one to perform a great deal of data analysis and statistical validation. With this test notebook, we like to ensure that Jupyter Notebook and Python is properly set up, and you did install the first set of necessary Python libraries.\n",
    "\n",
    "In case of doubt or any questions pls. make heavy use of the discussion forum of the course website on Canvas. We are sure one of your fellow students will be able to help you out. Happy coding!"
   ]
  },
  {
   "cell_type": "markdown",
   "metadata": {},
   "source": [
    "### Test 1: Running Python"
   ]
  },
  {
   "cell_type": "markdown",
   "metadata": {},
   "source": [
    "Let's run a simple addition to determine if Python is running correctly:"
   ]
  },
  {
   "cell_type": "code",
   "execution_count": null,
   "metadata": {},
   "outputs": [],
   "source": [
    "# run simple addition\n",
    "1 + 1"
   ]
  },
  {
   "cell_type": "markdown",
   "metadata": {},
   "source": [
    "### Test 2: Importing Python Libraries"
   ]
  },
  {
   "cell_type": "markdown",
   "metadata": {},
   "source": [
    "Let's now import the needed packages to determine if they are set up correctly:"
   ]
  },
  {
   "cell_type": "code",
   "execution_count": null,
   "metadata": {},
   "outputs": [],
   "source": [
    "# import additional python libraries\n",
    "import numpy\n",
    "import scipy\n",
    "import matplotlib\n",
    "import seaborn\n",
    "import sklearn\n",
    "import pandas\n",
    "import torch"
   ]
  },
  {
   "cell_type": "markdown",
   "metadata": {},
   "source": [
    "If the code cell above executes without running into an error, you should be good to go for the upcoming labs :)"
   ]
  }
 ],
 "metadata": {
  "kernelspec": {
   "display_name": "Python 3",
   "language": "python",
   "name": "python3"
  },
  "language_info": {
   "codemirror_mode": {
    "name": "ipython",
    "version": 3
   },
   "file_extension": ".py",
   "mimetype": "text/x-python",
   "name": "python",
   "nbconvert_exporter": "python",
   "pygments_lexer": "ipython3",
   "version": "3.7.7"
  }
 },
 "nbformat": 4,
 "nbformat_minor": 2
}
