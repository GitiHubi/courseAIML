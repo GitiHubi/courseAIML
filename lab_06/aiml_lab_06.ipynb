{
 "cells": [
  {
   "cell_type": "markdown",
   "metadata": {},
   "source": [
    "<img align=\"right\" style=\"max-width: 200px; height: auto\" src=\"hsg_logo.png\">\n",
    "\n",
    "###  Lab 06 - \"Deep Learning - Convolutional Neural Networks\"\n",
    "\n",
    "Introduction to AI and ML, University of St. Gallen, Spring Term 2020"
   ]
  },
  {
   "cell_type": "markdown",
   "metadata": {},
   "source": [
    "In the last lab you learned about how to utilize a **supervised** (deep) machine learning technique namely **Artificial Neural Networks (ANNs)** to classify tiny images of handwritten digits contained in the MNIST dataset. \n",
    "\n",
    "In this lab, we will learn how to enhance ANNs using PyTorch to classify even more complex images. Therefore, we use a special type of deep neural network referred to **Convolutional Neural Networks (CNNs)**. CNNs encompass the ability to take advantage of the hierarchical pattern in data and assemble more complex patterns using smaller and simpler patterns. Therefore, CNNs are capable to learn a set of discriminative features 'pattern' and subsequently utilize the learned pattern to classify the content of an image.\n",
    "\n",
    "We will again use the functionality of the `PyTorch` library to implement and train an CNN based neural network. The network will be trained on a set of tiny images to learn a model of the image content. Upon successful training, we will utilize the learned CNN model to classify so far unseen tiny images into distinct categories such as aeroplanes, cars, birds, cats, deer, dogs, frogs, horses, ships, and trucks. \n",
    "\n",
    "The figure below illustrates a high-level view on the machine learning process we aim to establish in this lab."
   ]
  },
  {
   "cell_type": "markdown",
   "metadata": {},
   "source": [
    "<img align=\"center\" style=\"max-width: 900px\" src=\"classification.png\">"
   ]
  },
  {
   "cell_type": "markdown",
   "metadata": {},
   "source": [
    "(Image of the CNN architecture created via http://alexlenail.me/)\n",
    "\n",
    "As always, pls. don't hesitate to ask all your questions either during the lab, post them in our CANVAS (StudyNet) forum (https://learning.unisg.ch), or send us an email (using the course email)."
   ]
  },
  {
   "cell_type": "markdown",
   "metadata": {},
   "source": [
    "### Lab Objectives:"
   ]
  },
  {
   "cell_type": "markdown",
   "metadata": {},
   "source": [
    "After today's lab, you should be able to:\n",
    "\n",
    "> 1. Understand the basic concepts, intuitions and major building blocks of **Convolutional Neural Networks (CNNs)**.\n",
    "> 2. Know how to **implement and to train a CNN** to learn a model of tiny image data.\n",
    "> 3. Understand how to apply such a learned model to **classify images** images based on their content into distinct categories.\n",
    "> 4. Know how to **interpret and visualize** the model's classification results."
   ]
  },
  {
   "cell_type": "markdown",
   "metadata": {},
   "source": [
    "### Setup of the Jupyter Notebook Environment"
   ]
  },
  {
   "cell_type": "markdown",
   "metadata": {},
   "source": [
    "Similar to the previous labs, we need to import a couple of Python libraries that allow for data analysis and data visualization. We will mostly use the `PyTorch`, `Numpy`, `Sklearn`, `Matplotlib`, `Seaborn` and a few utility libraries throughout this lab:"
   ]
  },
  {
   "cell_type": "code",
   "execution_count": 1,
   "metadata": {},
   "outputs": [],
   "source": [
    "# import standard python libraries\n",
    "import os, urllib, io\n",
    "from datetime import datetime\n",
    "import numpy as np"
   ]
  },
  {
   "cell_type": "markdown",
   "metadata": {},
   "source": [
    "Import Python machine / deep learning libraries:"
   ]
  },
  {
   "cell_type": "code",
   "execution_count": 2,
   "metadata": {},
   "outputs": [],
   "source": [
    "# import the PyTorch deep learning library\n",
    "import torch, torchvision\n",
    "import torch.nn.functional as F\n",
    "from torch import nn, optim\n",
    "from torch.autograd import Variable"
   ]
  },
  {
   "cell_type": "markdown",
   "metadata": {},
   "source": [
    "Import the sklearn classification metrics:"
   ]
  },
  {
   "cell_type": "code",
   "execution_count": 3,
   "metadata": {},
   "outputs": [],
   "source": [
    "# import sklearn classification evaluation library\n",
    "from sklearn import metrics\n",
    "from sklearn.metrics import classification_report, confusion_matrix"
   ]
  },
  {
   "cell_type": "markdown",
   "metadata": {},
   "source": [
    "Import Python plotting libraries:"
   ]
  },
  {
   "cell_type": "code",
   "execution_count": 4,
   "metadata": {},
   "outputs": [],
   "source": [
    "# import matplotlib, seaborn, and PIL data visualization libary\n",
    "import matplotlib.pyplot as plt\n",
    "import seaborn as sns\n",
    "from PIL import Image"
   ]
  },
  {
   "cell_type": "markdown",
   "metadata": {},
   "source": [
    "Enable notebook matplotlib inline plotting:"
   ]
  },
  {
   "cell_type": "code",
   "execution_count": 5,
   "metadata": {},
   "outputs": [],
   "source": [
    "%matplotlib inline"
   ]
  },
  {
   "cell_type": "markdown",
   "metadata": {},
   "source": [
    "Create notebook folder structure to store the data as well as the trained neural network models:"
   ]
  },
  {
   "cell_type": "code",
   "execution_count": 6,
   "metadata": {},
   "outputs": [],
   "source": [
    "if not os.path.exists('./data'): os.makedirs('./data')  # create data directory\n",
    "if not os.path.exists('./models'): os.makedirs('./models')  # create trained models directory"
   ]
  },
  {
   "cell_type": "markdown",
   "metadata": {},
   "source": [
    "Set a random `seed` value to obtain reproducable results:"
   ]
  },
  {
   "cell_type": "code",
   "execution_count": 7,
   "metadata": {},
   "outputs": [
    {
     "data": {
      "text/plain": [
       "<torch._C.Generator at 0x114f47f30>"
      ]
     },
     "execution_count": 7,
     "metadata": {},
     "output_type": "execute_result"
    }
   ],
   "source": [
    "# init deterministic seed\n",
    "seed_value = 1234\n",
    "np.random.seed(seed_value) # set numpy seed\n",
    "torch.manual_seed(seed_value) # set pytorch seed CPU"
   ]
  },
  {
   "cell_type": "markdown",
   "metadata": {},
   "source": [
    "Enable GPU computing by setting the `device` flag and init a `CUDA` seed:"
   ]
  },
  {
   "cell_type": "code",
   "execution_count": 8,
   "metadata": {},
   "outputs": [
    {
     "name": "stdout",
     "output_type": "stream",
     "text": [
      "[LOG] notebook with cpu computation enabled\n"
     ]
    }
   ],
   "source": [
    "# set cpu or gpu enabled device\n",
    "device = torch.device('cuda' if torch.cuda.is_available() else 'cpu').type\n",
    "\n",
    "# init deterministic GPU seed\n",
    "torch.cuda.manual_seed(seed_value)\n",
    "\n",
    "# log type of device enabled\n",
    "print('[LOG] notebook with {} computation enabled'.format(str(device)))"
   ]
  },
  {
   "cell_type": "markdown",
   "metadata": {},
   "source": [
    "Let's determine if we have access to a GPU provided by e.g. Google's COLab environment:"
   ]
  },
  {
   "cell_type": "code",
   "execution_count": 9,
   "metadata": {},
   "outputs": [
    {
     "name": "stdout",
     "output_type": "stream",
     "text": [
      "/bin/sh: nvidia-smi: command not found\r\n"
     ]
    }
   ],
   "source": [
    "!nvidia-smi"
   ]
  },
  {
   "cell_type": "markdown",
   "metadata": {},
   "source": [
    "### 1. Dataset Download and Data Assessment"
   ]
  },
  {
   "cell_type": "markdown",
   "metadata": {},
   "source": [
    "The **CIFAR-10 database** (**C**anadian **I**nstitute **F**or **A**dvanced **R**esearch) is a collection of images that are commonly used to train machine learning and computer vision algorithms. The database is widely used to conduct computer vision research using machine learning and deep learning methods:"
   ]
  },
  {
   "cell_type": "markdown",
   "metadata": {},
   "source": [
    "<img align=\"center\" style=\"max-width: 500px; height: 500px\" src=\"cifar10.png\">\n",
    "\n",
    "(Source: https://www.kaggle.com/c/cifar-10)"
   ]
  },
  {
   "cell_type": "markdown",
   "metadata": {},
   "source": [
    "Further details on the dataset can be obtained via: *Krizhevsky, A., 2009. \"Learning Multiple Layers of Features from Tiny Images\",  \n",
    "( https://www.cs.toronto.edu/~kriz/learning-features-2009-TR.pdf ).\"*"
   ]
  },
  {
   "cell_type": "markdown",
   "metadata": {},
   "source": [
    "The CIFAR-10 database contains **60,000 color images** (50,000 training images and 10,000 validation images). The size of each image is 32 by 32 pixels. The collection of images encompasses 10 different classes that represent airplanes, cars, birds, cats, deer, dogs, frogs, horses, ships, and trucks. Let's define the distinct classs for further analytics:"
   ]
  },
  {
   "cell_type": "code",
   "execution_count": 10,
   "metadata": {},
   "outputs": [],
   "source": [
    "cifar10_classes = ['plane', 'car', 'bird', 'cat', 'deer', 'dog', 'frog', 'horse', 'ship', 'truck']"
   ]
  },
  {
   "cell_type": "markdown",
   "metadata": {},
   "source": [
    "Thereby the dataset contains 6,000 images for each of the ten classes. The CIFAR-10 is a straightforward dataset that can be used to teach a computer how to recognize objects in images.\n",
    "\n",
    "Let's download, transform and inspect the training images of the dataset. Therefore, we first will define the directory we aim to store the training data:"
   ]
  },
  {
   "cell_type": "code",
   "execution_count": 11,
   "metadata": {},
   "outputs": [],
   "source": [
    "train_path = './data/train_cifar10'"
   ]
  },
  {
   "cell_type": "markdown",
   "metadata": {},
   "source": [
    "Now, let's download the training data accordingly:"
   ]
  },
  {
   "cell_type": "code",
   "execution_count": 12,
   "metadata": {},
   "outputs": [
    {
     "name": "stderr",
     "output_type": "stream",
     "text": [
      "\r",
      "0it [00:00, ?it/s]"
     ]
    },
    {
     "name": "stdout",
     "output_type": "stream",
     "text": [
      "Downloading https://www.cs.toronto.edu/~kriz/cifar-10-python.tar.gz to ./data/train_cifar10/cifar-10-python.tar.gz\n"
     ]
    },
    {
     "name": "stderr",
     "output_type": "stream",
     "text": [
      "100%|█████████▉| 170418176/170498071 [01:59<00:00, 956498.77it/s] "
     ]
    },
    {
     "name": "stdout",
     "output_type": "stream",
     "text": [
      "Extracting ./data/train_cifar10/cifar-10-python.tar.gz to ./data/train_cifar10\n"
     ]
    }
   ],
   "source": [
    "# define pytorch transformation into tensor format\n",
    "transf = torchvision.transforms.Compose([torchvision.transforms.ToTensor(), torchvision.transforms.Normalize((0.5, 0.5, 0.5), (0.5, 0.5, 0.5))])\n",
    "\n",
    "# download and transform training images\n",
    "cifar10_train_data = torchvision.datasets.CIFAR10(root=train_path, train=True, transform=transf, download=True)"
   ]
  },
  {
   "cell_type": "markdown",
   "metadata": {},
   "source": [
    "Verify the volume of training images downloaded:"
   ]
  },
  {
   "cell_type": "code",
   "execution_count": 13,
   "metadata": {},
   "outputs": [
    {
     "data": {
      "text/plain": [
       "50000"
      ]
     },
     "execution_count": 13,
     "metadata": {},
     "output_type": "execute_result"
    }
   ],
   "source": [
    "# get the length of the training data\n",
    "len(cifar10_train_data)"
   ]
  },
  {
   "cell_type": "markdown",
   "metadata": {},
   "source": [
    "Furthermore, let's investigate a couple of the training images:"
   ]
  },
  {
   "cell_type": "code",
   "execution_count": 14,
   "metadata": {},
   "outputs": [
    {
     "data": {
      "text/plain": [
       "(tensor([[[ 0.0118, -0.0039,  0.0118,  ...,  0.0353,  0.0353,  0.0275],\n",
       "          [ 0.0039,  0.0039,  0.0118,  ...,  0.0275,  0.0275,  0.0196],\n",
       "          [ 0.0196,  0.0039,  0.0196,  ...,  0.0431,  0.0353,  0.0353],\n",
       "          ...,\n",
       "          [-0.2000, -0.2627, -0.4745,  ...,  0.0510,  0.0353,  0.0275],\n",
       "          [-0.1529, -0.2471, -0.3725,  ...,  0.0431,  0.0275,  0.0196],\n",
       "          [-0.1373, -0.3725, -0.4902,  ...,  0.0275,  0.0196,  0.0118]],\n",
       " \n",
       "         [[ 0.1922,  0.1765,  0.1922,  ...,  0.2000,  0.2000,  0.1922],\n",
       "          [ 0.1922,  0.1843,  0.1922,  ...,  0.1922,  0.1922,  0.1843],\n",
       "          [ 0.2000,  0.1843,  0.2000,  ...,  0.2078,  0.2000,  0.2000],\n",
       "          ...,\n",
       "          [-0.1137, -0.1843, -0.4667,  ...,  0.2314,  0.2157,  0.2078],\n",
       "          [-0.0667, -0.1451, -0.3569,  ...,  0.2235,  0.2078,  0.2000],\n",
       "          [-0.0588, -0.2471, -0.4588,  ...,  0.2078,  0.2000,  0.1922]],\n",
       " \n",
       "         [[ 0.5451,  0.5216,  0.5373,  ...,  0.5529,  0.5529,  0.5451],\n",
       "          [ 0.5373,  0.5216,  0.5373,  ...,  0.5451,  0.5451,  0.5373],\n",
       "          [ 0.5451,  0.5294,  0.5451,  ...,  0.5608,  0.5529,  0.5529],\n",
       "          ...,\n",
       "          [-0.6863, -0.6235, -0.7020,  ...,  0.5765,  0.5608,  0.5529],\n",
       "          [-0.6314, -0.5765, -0.5922,  ...,  0.5686,  0.5529,  0.5451],\n",
       "          [-0.5608, -0.6627, -0.6941,  ...,  0.5529,  0.5451,  0.5373]]]), 2)"
      ]
     },
     "execution_count": 14,
     "metadata": {},
     "output_type": "execute_result"
    }
   ],
   "source": [
    "# set (random) image id\n",
    "image_id = 1800\n",
    "\n",
    "# retrieve image exhibiting the image id\n",
    "cifar10_train_data[image_id]"
   ]
  },
  {
   "cell_type": "markdown",
   "metadata": {},
   "source": [
    "Ok, that doesn't seem easily interpretable ;) Let's first seperate the image from its label information:"
   ]
  },
  {
   "cell_type": "code",
   "execution_count": 15,
   "metadata": {},
   "outputs": [],
   "source": [
    "cifar10_train_image, cifar10_train_label = cifar10_train_data[image_id]"
   ]
  },
  {
   "cell_type": "markdown",
   "metadata": {},
   "source": [
    "Great, now we are able to visually inspect our sample image: "
   ]
  },
  {
   "cell_type": "code",
   "execution_count": 16,
   "metadata": {},
   "outputs": [
    {
     "data": {
      "text/plain": [
       "<matplotlib.image.AxesImage at 0x13c76fbd0>"
      ]
     },
     "execution_count": 16,
     "metadata": {},
     "output_type": "execute_result"
    },
    {
     "data": {
      "image/png": "[encoded data removed]",
      "text/plain": [
       "<Figure size 432x288 with 1 Axes>"
      ]
     },
     "metadata": {
      "needs_background": "light"
     },
     "output_type": "display_data"
    }
   ],
   "source": [
    "# define tensor to image transformation\n",
    "trans = torchvision.transforms.ToPILImage()\n",
    "\n",
    "# set image plot title \n",
    "plt.title('Example: {}, Label: \"{}\"'.format(str(image_id), str(cifar10_classes[cifar10_train_label])))\n",
    "\n",
    "# un-normalize cifar 10 image sample\n",
    "cifar10_train_image_plot = cifar10_train_image / 2.0 + 0.5\n",
    "\n",
    "# plot 10 image sample\n",
    "plt.imshow(trans(cifar10_train_image_plot))"
   ]
  },
  {
   "cell_type": "markdown",
   "metadata": {},
   "source": [
    "Fantastic, right? Let's now decide on where we want to store the evaluation data:"
   ]
  },
  {
   "cell_type": "code",
   "execution_count": 17,
   "metadata": {},
   "outputs": [],
   "source": [
    "eval_path = './data/eval_cifar10'"
   ]
  },
  {
   "cell_type": "markdown",
   "metadata": {},
   "source": [
    "And download the evaluation data accordingly:"
   ]
  },
  {
   "cell_type": "code",
   "execution_count": 18,
   "metadata": {},
   "outputs": [
    {
     "name": "stderr",
     "output_type": "stream",
     "text": [
      "\n",
      "0it [00:00, ?it/s]\u001b[A"
     ]
    },
    {
     "name": "stdout",
     "output_type": "stream",
     "text": [
      "Downloading https://www.cs.toronto.edu/~kriz/cifar-10-python.tar.gz to ./data/eval_cifar10/cifar-10-python.tar.gz\n"
     ]
    },
    {
     "name": "stderr",
     "output_type": "stream",
     "text": [
      "\n",
      "\n",
      "0it [00:00, ?it/s]\u001b[A\u001b[A"
     ]
    },
    {
     "name": "stdout",
     "output_type": "stream",
     "text": [
      "Failed download. Trying https -> http instead. Downloading http://www.cs.toronto.edu/~kriz/cifar-10-python.tar.gz to ./data/eval_cifar10/cifar-10-python.tar.gz\n"
     ]
    },
    {
     "name": "stderr",
     "output_type": "stream",
     "text": [
      "\n",
      "\n",
      "  0%|          | 0/170498071 [00:00<?, ?it/s]\u001b[A\u001b[A\n",
      "\n",
      "  0%|          | 49152/170498071 [00:00<08:18, 342155.20it/s]\u001b[A\u001b[A\n",
      "\n",
      "  0%|          | 106496/170498071 [00:00<07:22, 385006.57it/s]\u001b[A\u001b[A\n",
      "\n",
      "  0%|          | 196608/170498071 [00:00<06:09, 461045.98it/s]\u001b[A\u001b[A\n",
      "\n",
      "  0%|          | 286720/170498071 [00:00<05:17, 535436.50it/s]\u001b[A\u001b[A\n",
      "\n",
      "  0%|          | 385024/170498071 [00:00<04:37, 613868.02it/s]\u001b[A\u001b[A\n",
      "\n",
      "  0%|          | 491520/170498071 [00:00<04:04, 694710.35it/s]\u001b[A\u001b[A\n",
      "\n",
      "  0%|          | 589824/170498071 [00:01<03:45, 752491.72it/s]\u001b[A\u001b[A\n",
      "\n",
      "  0%|          | 704512/170498071 [00:01<03:24, 829887.40it/s]\u001b[A\u001b[A\n",
      "\n",
      "  0%|          | 827392/170498071 [00:01<03:07, 906544.33it/s]\u001b[A\u001b[A\n",
      "\n",
      "  1%|          | 950272/170498071 [00:01<02:54, 972956.34it/s]\u001b[A\u001b[A\n",
      "\n",
      "  1%|          | 1081344/170498071 [00:01<02:42, 1042034.02it/s]\u001b[A\u001b[A\n",
      "\n",
      "  1%|          | 1220608/170498071 [00:01<02:32, 1111685.29it/s]\u001b[A\u001b[A\n",
      "\n",
      "  1%|          | 1359872/170498071 [00:01<02:24, 1169508.60it/s]\u001b[A\u001b[A\n",
      "\n",
      "  1%|          | 1515520/170498071 [00:01<02:16, 1242285.49it/s]\u001b[A\u001b[A\n",
      "\n",
      "  1%|          | 1671168/170498071 [00:01<02:08, 1308752.72it/s]\u001b[A\u001b[A\n",
      "\n",
      "  1%|          | 1835008/170498071 [00:02<02:02, 1374231.31it/s]\u001b[A\u001b[A\n",
      "\n",
      "  1%|          | 1990656/170498071 [00:02<02:00, 1402539.29it/s]\u001b[A\u001b[A\n",
      "\n",
      "  1%|▏         | 2154496/170498071 [00:02<01:56, 1446024.72it/s]\u001b[A\u001b[A\n",
      "\n",
      "  1%|▏         | 2310144/170498071 [00:02<01:55, 1454853.82it/s]\u001b[A\u001b[A\n",
      "\n",
      "  1%|▏         | 2465792/170498071 [00:02<01:55, 1454598.01it/s]\u001b[A\u001b[A\n",
      "\n",
      "  2%|▏         | 2629632/170498071 [00:02<01:52, 1491422.56it/s]\u001b[A\u001b[A\n",
      "\n",
      "  2%|▏         | 2793472/170498071 [00:02<01:51, 1507045.26it/s]\u001b[A\u001b[A\n",
      "\n",
      "  2%|▏         | 2949120/170498071 [00:02<01:51, 1502507.17it/s]\u001b[A\u001b[A\n",
      "\n",
      "  2%|▏         | 3104768/170498071 [00:02<01:52, 1492479.61it/s]\u001b[A\u001b[A\n",
      "\n",
      "  2%|▏         | 3268608/170498071 [00:02<01:50, 1512636.64it/s]\u001b[A\u001b[A\n",
      "\n",
      "  2%|▏         | 3424256/170498071 [00:03<01:50, 1506721.79it/s]\u001b[A\u001b[A\n",
      "\n",
      "  2%|▏         | 3588096/170498071 [00:03<01:49, 1520110.27it/s]\u001b[A\u001b[A\n",
      "\n",
      "  2%|▏         | 3743744/170498071 [00:03<01:50, 1505612.71it/s]\u001b[A\u001b[A\n",
      "\n",
      "  2%|▏         | 3899392/170498071 [00:03<01:50, 1507215.41it/s]\u001b[A\u001b[A\n",
      "\n",
      "  2%|▏         | 4063232/170498071 [00:03<01:49, 1516674.65it/s]\u001b[A\u001b[A\n",
      "\n",
      "  2%|▏         | 4227072/170498071 [00:03<01:48, 1529635.46it/s]\u001b[A\u001b[A\n",
      "\n",
      "  3%|▎         | 4382720/170498071 [00:03<01:49, 1519474.13it/s]\u001b[A\u001b[A\n",
      "\n",
      "  3%|▎         | 4538368/170498071 [00:03<01:50, 1500270.57it/s]\u001b[A\u001b[A\n",
      "\n",
      "  3%|▎         | 4702208/170498071 [00:03<01:48, 1526274.43it/s]\u001b[A\u001b[A\n",
      "\n",
      "  3%|▎         | 4857856/170498071 [00:04<01:49, 1513730.62it/s]\u001b[A\u001b[A\n",
      "\n",
      "  3%|▎         | 5021696/170498071 [00:04<01:48, 1518583.95it/s]\u001b[A\u001b[A\n",
      "\n",
      "  3%|▎         | 5177344/170498071 [00:04<01:49, 1508278.78it/s]\u001b[A\u001b[A\n",
      "\n",
      "  3%|▎         | 5332992/170498071 [00:04<01:49, 1504368.14it/s]\u001b[A\u001b[A\n",
      "\n",
      "  3%|▎         | 5496832/170498071 [00:04<01:48, 1515037.03it/s]\u001b[A\u001b[A\n",
      "\n",
      "  3%|▎         | 5660672/170498071 [00:04<01:47, 1526280.47it/s]\u001b[A\u001b[A\n",
      "\n",
      "  3%|▎         | 5816320/170498071 [00:04<01:49, 1509848.78it/s]\u001b[A\u001b[A\n",
      "\n",
      "  4%|▎         | 5971968/170498071 [00:04<01:49, 1508305.59it/s]\u001b[A\u001b[A\n",
      "\n",
      "  4%|▎         | 6135808/170498071 [00:04<01:47, 1525107.40it/s]\u001b[A\u001b[A\n",
      "\n",
      "  4%|▎         | 6291456/170498071 [00:04<01:48, 1512173.09it/s]\u001b[A\u001b[A\n",
      "\n",
      "  4%|▍         | 6455296/170498071 [00:05<01:47, 1524670.82it/s]\u001b[A\u001b[A\n",
      "\n",
      "  4%|▍         | 6610944/170498071 [00:05<01:48, 1512987.89it/s]\u001b[A\u001b[A\n",
      "\n",
      "  4%|▍         | 6766592/170498071 [00:05<01:48, 1509851.52it/s]\u001b[A\u001b[A\n",
      "\n",
      "  4%|▍         | 6930432/170498071 [00:05<01:47, 1518566.36it/s]\u001b[A\u001b[A\n",
      "\n",
      "  4%|▍         | 7094272/170498071 [00:05<01:47, 1520479.16it/s]\u001b[A\u001b[A\n",
      "\n",
      "  4%|▍         | 7249920/170498071 [00:05<01:47, 1517196.48it/s]\u001b[A\u001b[A\n",
      "\n",
      "  4%|▍         | 7413760/170498071 [00:05<01:46, 1527472.67it/s]\u001b[A\u001b[A\n",
      "\n",
      "  4%|▍         | 7569408/170498071 [00:05<01:46, 1523606.10it/s]\u001b[A\u001b[A\n",
      "\n",
      "  5%|▍         | 7733248/170498071 [00:05<01:46, 1529015.36it/s]\u001b[A\u001b[A\n",
      "\n",
      "  5%|▍         | 7888896/170498071 [00:06<01:47, 1516142.70it/s]\u001b[A\u001b[A\n",
      "\n",
      "  5%|▍         | 8044544/170498071 [00:06<01:47, 1507611.95it/s]\u001b[A\u001b[A\n",
      "\n",
      "  5%|▍         | 8208384/170498071 [00:06<01:47, 1516146.44it/s]\u001b[A\u001b[A\n",
      "\n",
      "  5%|▍         | 8364032/170498071 [00:06<01:47, 1508135.91it/s]\u001b[A\u001b[A\n",
      "\n",
      "  5%|▌         | 8527872/170498071 [00:06<01:46, 1520127.28it/s]\u001b[A\u001b[A\n",
      "\n",
      "  5%|▌         | 8683520/170498071 [00:06<01:47, 1505669.19it/s]\u001b[A\u001b[A\n",
      "\n",
      "  5%|▌         | 8847360/170498071 [00:06<01:46, 1517493.02it/s]\u001b[A\u001b[A\n",
      "\n",
      "  5%|▌         | 9003008/170498071 [00:06<01:46, 1520321.88it/s]\u001b[A\u001b[A\n",
      "\n",
      "  5%|▌         | 9166848/170498071 [00:06<01:47, 1506892.15it/s]\u001b[A\u001b[A\n",
      "\n",
      "  5%|▌         | 9322496/170498071 [00:06<01:47, 1503136.42it/s]\u001b[A\u001b[A\n",
      "\n",
      "  6%|▌         | 9478144/170498071 [00:07<01:46, 1508545.76it/s]\u001b[A\u001b[A\n",
      "\n",
      "  6%|▌         | 9641984/170498071 [00:07<01:45, 1519390.06it/s]\u001b[A\u001b[A\n",
      "\n",
      "  6%|▌         | 9797632/170498071 [00:07<01:46, 1515282.05it/s]\u001b[A\u001b[A\n",
      "\n",
      "170500096it [02:10, 956498.77it/s]                               [A\u001b[A\n",
      "\n",
      "  6%|▌         | 10117120/170498071 [00:07<01:46, 1505651.23it/s]\u001b[A\u001b[A\n",
      "\n",
      "  6%|▌         | 10280960/170498071 [00:07<01:45, 1518700.64it/s]\u001b[A\u001b[A\n",
      "\n",
      "  6%|▌         | 10444800/170498071 [00:07<01:44, 1527829.99it/s]\u001b[A\u001b[A\n",
      "\n",
      "  6%|▌         | 10600448/170498071 [00:07<01:45, 1518342.05it/s]\u001b[A\u001b[A\n",
      "\n",
      "  6%|▋         | 10756096/170498071 [00:07<01:45, 1515257.78it/s]\u001b[A\u001b[A\n",
      "\n",
      "  6%|▋         | 10919936/170498071 [00:08<01:45, 1519438.75it/s]\u001b[A\u001b[A\n",
      "\n",
      "  6%|▋         | 11075584/170498071 [00:08<01:45, 1511598.22it/s]\u001b[A\u001b[A\n",
      "\n",
      "  7%|▋         | 11239424/170498071 [00:08<01:45, 1514548.29it/s]\u001b[A\u001b[A\n",
      "\n",
      "  7%|▋         | 11395072/170498071 [00:08<01:44, 1519060.33it/s]\u001b[A\u001b[A\n",
      "\n",
      "  7%|▋         | 11550720/170498071 [00:08<01:45, 1505454.78it/s]\u001b[A\u001b[A\n",
      "\n",
      "  7%|▋         | 11714560/170498071 [00:08<01:44, 1516473.66it/s]\u001b[A\u001b[A\n",
      "\n",
      "  7%|▋         | 11878400/170498071 [00:08<01:43, 1525292.24it/s]\u001b[A\u001b[A\n",
      "\n",
      "  7%|▋         | 12034048/170498071 [00:08<01:44, 1511766.58it/s]\u001b[A\u001b[A\n",
      "\n",
      "  7%|▋         | 12189696/170498071 [00:08<01:44, 1508713.28it/s]\u001b[A\u001b[A\n",
      "\n",
      "  7%|▋         | 12353536/170498071 [00:08<01:44, 1514028.36it/s]\u001b[A\u001b[A\n",
      "\n",
      "  7%|▋         | 12509184/170498071 [00:09<01:44, 1507784.23it/s]\u001b[A\u001b[A\n",
      "\n",
      "  7%|▋         | 12673024/170498071 [00:09<01:43, 1519547.46it/s]\u001b[A\u001b[A\n",
      "\n",
      "  8%|▊         | 12828672/170498071 [00:09<01:44, 1510330.58it/s]\u001b[A\u001b[A\n",
      "\n",
      "  8%|▊         | 12992512/170498071 [00:09<01:43, 1519299.46it/s]\u001b[A\u001b[A\n",
      "\n",
      "  8%|▊         | 13156352/170498071 [00:09<01:43, 1524848.14it/s]\u001b[A\u001b[A\n",
      "\n",
      "  8%|▊         | 13312000/170498071 [00:09<01:43, 1524975.49it/s]\u001b[A\u001b[A\n",
      "\n",
      "  8%|▊         | 13475840/170498071 [00:09<01:42, 1524868.65it/s]\u001b[A\u001b[A\n",
      "\n",
      "  8%|▊         | 13631488/170498071 [00:09<01:43, 1511154.10it/s]\u001b[A\u001b[A\n",
      "\n",
      "  8%|▊         | 13787136/170498071 [00:09<01:50, 1423346.59it/s]\u001b[A\u001b[A\n",
      "\n",
      "  8%|▊         | 13950976/170498071 [00:10<02:00, 1298562.59it/s]\u001b[A\u001b[A\n",
      "\n",
      "  8%|▊         | 14254080/170498071 [00:10<01:41, 1532390.31it/s]\u001b[A\u001b[A\n",
      "\n",
      "  8%|▊         | 14434304/170498071 [00:10<01:46, 1458742.65it/s]\u001b[A\u001b[A\n",
      "\n",
      "  9%|▊         | 14598144/170498071 [00:10<01:46, 1470363.91it/s]\u001b[A\u001b[A\n",
      "\n",
      "  9%|▊         | 14761984/170498071 [00:10<01:44, 1484891.56it/s]\u001b[A\u001b[A\n",
      "\n",
      "  9%|▊         | 14917632/170498071 [00:10<01:44, 1485428.42it/s]\u001b[A\u001b[A\n",
      "\n",
      "  9%|▉         | 15081472/170498071 [00:10<01:44, 1485991.13it/s]\u001b[A\u001b[A\n",
      "\n",
      "  9%|▉         | 15237120/170498071 [00:10<01:43, 1502140.99it/s]\u001b[A\u001b[A\n",
      "\n",
      "  9%|▉         | 15400960/170498071 [00:10<01:43, 1501654.41it/s]\u001b[A\u001b[A\n",
      "\n",
      "  9%|▉         | 15556608/170498071 [00:11<01:42, 1515576.49it/s]\u001b[A\u001b[A\n",
      "\n",
      "  9%|▉         | 15720448/170498071 [00:11<01:41, 1525797.27it/s]\u001b[A\u001b[A\n",
      "\n",
      "  9%|▉         | 15884288/170498071 [00:11<01:42, 1515815.62it/s]\u001b[A\u001b[A\n",
      "\n",
      "  9%|▉         | 16039936/170498071 [00:11<01:41, 1527232.94it/s]\u001b[A\u001b[A\n",
      "\n",
      "  9%|▉         | 16195584/170498071 [00:11<01:41, 1517374.62it/s]\u001b[A\u001b[A\n",
      "\n",
      " 10%|▉         | 16351232/170498071 [00:11<01:40, 1527718.09it/s]\u001b[A\u001b[A\n",
      "\n",
      " 10%|▉         | 16506880/170498071 [00:11<01:41, 1524493.31it/s]\u001b[A\u001b[A\n",
      "\n",
      " 10%|▉         | 16662528/170498071 [00:11<01:41, 1517356.18it/s]\u001b[A\u001b[A\n",
      "\n",
      " 10%|▉         | 16818176/170498071 [00:11<01:41, 1521504.42it/s]\u001b[A\u001b[A\n",
      "\n",
      " 10%|▉         | 16982016/170498071 [00:12<01:41, 1515021.54it/s]\u001b[A\u001b[A\n",
      "\n",
      " 10%|█         | 17137664/170498071 [00:12<01:40, 1523319.30it/s]\u001b[A\u001b[A\n",
      "\n",
      " 10%|█         | 17301504/170498071 [00:12<01:40, 1519908.68it/s]\u001b[A\u001b[A\n",
      "\n"
     ]
    },
    {
     "name": "stderr",
     "output_type": "stream",
     "text": [
      " 10%|█         | 17457152/170498071 [00:12<01:40, 1521858.68it/s]\u001b[A\u001b[A\n",
      "\n",
      " 10%|█         | 17620992/170498071 [00:12<01:40, 1517261.69it/s]\u001b[A\u001b[A\n",
      "\n",
      " 10%|█         | 17776640/170498071 [00:12<01:41, 1508070.59it/s]\u001b[A\u001b[A\n",
      "\n",
      " 11%|█         | 17940480/170498071 [00:12<01:40, 1517225.44it/s]\u001b[A\u001b[A\n",
      "\n",
      " 11%|█         | 18096128/170498071 [00:12<01:40, 1514657.30it/s]\u001b[A\u001b[A\n",
      "\n",
      " 11%|█         | 18259968/170498071 [00:12<01:39, 1524970.38it/s]\u001b[A\u001b[A\n",
      "\n",
      " 11%|█         | 18415616/170498071 [00:12<01:40, 1515213.12it/s]\u001b[A\u001b[A\n",
      "\n",
      " 11%|█         | 18579456/170498071 [00:13<01:39, 1522220.34it/s]\u001b[A\u001b[A\n",
      "\n",
      " 11%|█         | 18735104/170498071 [00:13<01:40, 1514935.07it/s]\u001b[A\u001b[A\n",
      "\n",
      " 11%|█         | 18890752/170498071 [00:13<01:39, 1520641.73it/s]\u001b[A\u001b[A\n",
      "\n",
      " 11%|█         | 19046400/170498071 [00:13<01:55, 1313480.45it/s]\u001b[A\u001b[A\n",
      "\n",
      " 11%|█▏        | 19300352/170498071 [00:13<01:43, 1455211.49it/s]\u001b[A\u001b[A\n",
      "\n",
      " 11%|█▏        | 19456000/170498071 [00:13<01:43, 1463263.34it/s]\u001b[A\u001b[A\n",
      "\n",
      " 12%|█▏        | 19619840/170498071 [00:13<01:41, 1488395.09it/s]\u001b[A\u001b[A\n",
      "\n",
      " 12%|█▏        | 19775488/170498071 [00:13<01:40, 1501951.96it/s]\u001b[A\u001b[A\n",
      "\n",
      " 12%|█▏        | 19939328/170498071 [00:13<01:40, 1502668.70it/s]\u001b[A\u001b[A\n",
      "\n",
      " 12%|█▏        | 20094976/170498071 [00:14<01:39, 1513019.78it/s]\u001b[A\u001b[A\n",
      "\n",
      " 12%|█▏        | 20258816/170498071 [00:14<01:39, 1514369.71it/s]\u001b[A\u001b[A\n",
      "\n",
      " 12%|█▏        | 20414464/170498071 [00:14<01:40, 1494146.50it/s]\u001b[A\u001b[A\n",
      "\n",
      " 12%|█▏        | 20578304/170498071 [00:14<01:38, 1521785.96it/s]\u001b[A\u001b[A\n",
      "\n",
      " 12%|█▏        | 20733952/170498071 [00:14<01:38, 1513270.94it/s]\u001b[A\u001b[A\n",
      "\n",
      " 12%|█▏        | 20889600/170498071 [00:14<01:38, 1514952.93it/s]\u001b[A\u001b[A\n",
      "\n",
      " 12%|█▏        | 21053440/170498071 [00:14<01:38, 1519283.61it/s]\u001b[A\u001b[A\n",
      "\n",
      " 12%|█▏        | 21209088/170498071 [00:14<01:38, 1513584.94it/s]\u001b[A\u001b[A\n",
      "\n",
      " 13%|█▎        | 21372928/170498071 [00:14<01:38, 1514048.11it/s]\u001b[A\u001b[A\n",
      "\n",
      " 13%|█▎        | 21536768/170498071 [00:15<01:37, 1531993.50it/s]\u001b[A\u001b[A\n",
      "\n",
      " 13%|█▎        | 21692416/170498071 [00:15<01:38, 1511412.14it/s]\u001b[A\u001b[A\n",
      "\n",
      " 13%|█▎        | 21856256/170498071 [00:15<01:36, 1532687.43it/s]\u001b[A\u001b[A\n",
      "\n",
      " 13%|█▎        | 22011904/170498071 [00:15<01:37, 1523558.13it/s]\u001b[A\u001b[A\n",
      "\n",
      " 13%|█▎        | 22167552/170498071 [00:15<01:38, 1510323.15it/s]\u001b[A\u001b[A\n",
      "\n",
      " 13%|█▎        | 22331392/170498071 [00:15<01:37, 1519286.13it/s]\u001b[A\u001b[A\n",
      "\n",
      " 13%|█▎        | 22487040/170498071 [00:15<01:37, 1514020.55it/s]\u001b[A\u001b[A\n",
      "\n",
      " 13%|█▎        | 22650880/170498071 [00:15<01:38, 1505108.38it/s]\u001b[A\u001b[A\n",
      "\n",
      " 13%|█▎        | 22806528/170498071 [00:15<01:37, 1518300.32it/s]\u001b[A\u001b[A\n",
      "\n",
      " 13%|█▎        | 22962176/170498071 [00:15<01:37, 1517238.06it/s]\u001b[A\u001b[A\n",
      "\n",
      " 14%|█▎        | 23126016/170498071 [00:16<01:37, 1514652.50it/s]\u001b[A\u001b[A\n",
      "\n",
      " 14%|█▎        | 23281664/170498071 [00:16<01:36, 1519547.42it/s]\u001b[A\u001b[A\n",
      "\n",
      " 14%|█▍        | 23445504/170498071 [00:16<01:36, 1522226.90it/s]\u001b[A\u001b[A\n",
      "\n",
      " 14%|█▍        | 23601152/170498071 [00:16<01:36, 1519342.88it/s]\u001b[A\u001b[A\n",
      "\n",
      " 14%|█▍        | 23764992/170498071 [00:16<01:36, 1517077.17it/s]\u001b[A\u001b[A\n",
      "\n",
      " 14%|█▍        | 23920640/170498071 [00:16<01:36, 1515669.93it/s]\u001b[A\u001b[A\n",
      "\n",
      " 14%|█▍        | 24076288/170498071 [00:16<01:37, 1503357.96it/s]\u001b[A\u001b[A\n",
      "\n",
      " 14%|█▍        | 24240128/170498071 [00:16<01:36, 1513476.23it/s]\u001b[A\u001b[A\n",
      "\n",
      " 14%|█▍        | 24395776/170498071 [00:16<01:36, 1506367.85it/s]\u001b[A\u001b[A\n",
      "\n",
      " 14%|█▍        | 24559616/170498071 [00:17<01:36, 1507369.23it/s]\u001b[A\u001b[A\n",
      "\n",
      " 14%|█▍        | 24715264/170498071 [00:17<01:36, 1516286.00it/s]\u001b[A\u001b[A\n",
      "\n",
      " 15%|█▍        | 24879104/170498071 [00:17<01:35, 1520842.60it/s]\u001b[A\u001b[A\n",
      "\n",
      " 15%|█▍        | 25034752/170498071 [00:17<01:35, 1527807.31it/s]\u001b[A\u001b[A\n",
      "\n",
      " 15%|█▍        | 25198592/170498071 [00:17<01:35, 1517666.13it/s]\u001b[A\u001b[A\n",
      "\n",
      " 15%|█▍        | 25354240/170498071 [00:17<01:34, 1528966.26it/s]\u001b[A\u001b[A\n",
      "\n",
      " 15%|█▍        | 25518080/170498071 [00:17<01:35, 1517805.44it/s]\u001b[A\u001b[A\n",
      "\n",
      " 15%|█▌        | 25673728/170498071 [00:17<01:34, 1527878.94it/s]\u001b[A\u001b[A\n",
      "\n",
      " 15%|█▌        | 25829376/170498071 [00:17<01:35, 1512512.37it/s]\u001b[A\u001b[A\n",
      "\n",
      " 15%|█▌        | 25993216/170498071 [00:17<01:35, 1511759.65it/s]\u001b[A\u001b[A\n",
      "\n",
      " 15%|█▌        | 26148864/170498071 [00:18<01:35, 1514208.37it/s]\u001b[A\u001b[A\n",
      "\n",
      " 15%|█▌        | 26312704/170498071 [00:18<01:37, 1478654.71it/s]\u001b[A\u001b[A\n",
      "\n",
      " 16%|█▌        | 26476544/170498071 [00:18<01:35, 1506619.63it/s]\u001b[A\u001b[A\n",
      "\n",
      " 16%|█▌        | 26632192/170498071 [00:18<01:35, 1502285.66it/s]\u001b[A\u001b[A\n",
      "\n",
      " 16%|█▌        | 26796032/170498071 [00:18<01:35, 1507886.75it/s]\u001b[A\u001b[A\n",
      "\n",
      " 16%|█▌        | 26951680/170498071 [00:18<01:36, 1486410.79it/s]\u001b[A\u001b[A\n",
      "\n",
      " 16%|█▌        | 27115520/170498071 [00:18<01:35, 1500254.45it/s]\u001b[A\u001b[A\n",
      "\n",
      " 16%|█▌        | 27271168/170498071 [00:18<01:35, 1505691.28it/s]\u001b[A\u001b[A\n",
      "\n",
      " 16%|█▌        | 27426816/170498071 [00:18<01:35, 1504199.09it/s]\u001b[A\u001b[A\n",
      "\n",
      " 16%|█▌        | 27590656/170498071 [00:19<01:34, 1515434.15it/s]\u001b[A\u001b[A\n",
      "\n",
      " 16%|█▋        | 27746304/170498071 [00:19<01:35, 1498830.55it/s]\u001b[A\u001b[A\n",
      "\n",
      " 16%|█▋        | 27910144/170498071 [00:19<01:33, 1522751.83it/s]\u001b[A\u001b[A\n",
      "\n",
      " 16%|█▋        | 28065792/170498071 [00:19<01:33, 1517593.50it/s]\u001b[A\u001b[A\n",
      "\n",
      " 17%|█▋        | 28229632/170498071 [00:19<01:35, 1494244.00it/s]\u001b[A\u001b[A\n",
      "\n",
      " 17%|█▋        | 28385280/170498071 [00:19<01:34, 1502895.94it/s]\u001b[A\u001b[A\n",
      "\n",
      " 17%|█▋        | 28549120/170498071 [00:19<01:33, 1510942.64it/s]\u001b[A\u001b[A\n",
      "\n",
      " 17%|█▋        | 28704768/170498071 [00:19<01:33, 1520429.34it/s]\u001b[A\u001b[A\n",
      "\n",
      " 17%|█▋        | 28868608/170498071 [00:19<01:33, 1509837.65it/s]\u001b[A\u001b[A\n",
      "\n",
      " 17%|█▋        | 29024256/170498071 [00:19<01:33, 1517332.84it/s]\u001b[A\u001b[A\n",
      "\n",
      " 17%|█▋        | 29179904/170498071 [00:20<01:33, 1513561.73it/s]\u001b[A\u001b[A\n",
      "\n",
      " 17%|█▋        | 29343744/170498071 [00:20<01:32, 1522243.01it/s]\u001b[A\u001b[A\n",
      "\n",
      " 17%|█▋        | 29499392/170498071 [00:20<01:32, 1516384.37it/s]\u001b[A\u001b[A\n",
      "\n",
      " 17%|█▋        | 29663232/170498071 [00:20<01:34, 1483939.08it/s]\u001b[A\u001b[A\n",
      "\n",
      " 17%|█▋        | 29827072/170498071 [00:20<01:32, 1522645.97it/s]\u001b[A\u001b[A\n",
      "\n",
      " 18%|█▊        | 29982720/170498071 [00:20<01:32, 1516650.52it/s]\u001b[A\u001b[A\n",
      "\n",
      " 18%|█▊        | 30138368/170498071 [00:20<01:32, 1518951.21it/s]\u001b[A\u001b[A\n",
      "\n",
      " 18%|█▊        | 30302208/170498071 [00:20<01:33, 1502825.22it/s]\u001b[A\u001b[A\n",
      "\n",
      " 18%|█▊        | 30457856/170498071 [00:20<01:32, 1510862.71it/s]\u001b[A\u001b[A\n",
      "\n",
      " 18%|█▊        | 30613504/170498071 [00:21<01:32, 1519287.86it/s]\u001b[A\u001b[A\n",
      "\n",
      " 18%|█▊        | 30769152/170498071 [00:21<01:38, 1416563.05it/s]\u001b[A\u001b[A\n",
      "\n",
      " 18%|█▊        | 30957568/170498071 [00:21<01:31, 1528091.69it/s]\u001b[A\u001b[A\n",
      "\n",
      " 18%|█▊        | 31121408/170498071 [00:21<01:29, 1548992.71it/s]\u001b[A\u001b[A\n",
      "\n",
      " 18%|█▊        | 31285248/170498071 [00:21<01:29, 1548207.27it/s]\u001b[A\u001b[A\n",
      "\n",
      " 18%|█▊        | 31449088/170498071 [00:21<01:30, 1541775.52it/s]\u001b[A\u001b[A\n",
      "\n",
      " 19%|█▊        | 31604736/170498071 [00:21<01:31, 1522978.49it/s]\u001b[A\u001b[A\n",
      "\n",
      " 19%|█▊        | 31760384/170498071 [00:21<01:31, 1518983.19it/s]\u001b[A\u001b[A\n",
      "\n",
      " 19%|█▊        | 31916032/170498071 [00:21<01:32, 1503465.14it/s]\u001b[A\u001b[A\n",
      "\n",
      " 19%|█▉        | 32071680/170498071 [00:21<01:32, 1497897.71it/s]\u001b[A\u001b[A\n",
      "\n",
      " 19%|█▉        | 32227328/170498071 [00:22<01:31, 1503226.73it/s]\u001b[A\u001b[A\n",
      "\n",
      " 19%|█▉        | 32382976/170498071 [00:22<01:31, 1501432.57it/s]\u001b[A\u001b[A\n",
      "\n",
      " 19%|█▉        | 32538624/170498071 [00:22<01:32, 1499135.39it/s]\u001b[A\u001b[A\n",
      "\n",
      " 19%|█▉        | 32694272/170498071 [00:22<01:31, 1499633.72it/s]\u001b[A\u001b[A\n",
      "\n",
      " 19%|█▉        | 32849920/170498071 [00:22<01:32, 1494379.19it/s]\u001b[A\u001b[A\n",
      "\n",
      " 19%|█▉        | 33005568/170498071 [00:22<01:31, 1501965.71it/s]\u001b[A\u001b[A\n",
      "\n",
      " 19%|█▉        | 33161216/170498071 [00:22<01:31, 1506132.97it/s]\u001b[A\u001b[A\n",
      "\n",
      " 20%|█▉        | 33325056/170498071 [00:22<01:31, 1502888.16it/s]\u001b[A\u001b[A\n",
      "\n",
      " 20%|█▉        | 33488896/170498071 [00:22<01:30, 1513767.87it/s]\u001b[A\u001b[A\n",
      "\n",
      " 20%|█▉        | 33644544/170498071 [00:23<01:30, 1512913.25it/s]\u001b[A\u001b[A\n",
      "\n",
      " 20%|█▉        | 33800192/170498071 [00:23<01:30, 1511593.90it/s]\u001b[A\u001b[A\n",
      "\n",
      " 20%|█▉        | 33964032/170498071 [00:23<01:30, 1511698.64it/s]\u001b[A\u001b[A\n",
      "\n",
      " 20%|██        | 34119680/170498071 [00:23<01:29, 1519429.51it/s]\u001b[A\u001b[A\n",
      "\n",
      " 20%|██        | 34283520/170498071 [00:23<01:29, 1514419.42it/s]\u001b[A\u001b[A\n",
      "\n",
      " 20%|██        | 34439168/170498071 [00:23<01:30, 1499504.44it/s]\u001b[A\u001b[A\n",
      "\n",
      " 20%|██        | 34603008/170498071 [00:23<01:30, 1501801.23it/s]\u001b[A\u001b[A\n",
      "\n",
      " 20%|██        | 34766848/170498071 [00:23<01:29, 1513486.64it/s]\u001b[A\u001b[A\n",
      "\n",
      " 20%|██        | 34922496/170498071 [00:23<01:29, 1508799.21it/s]\u001b[A\u001b[A\n",
      "\n",
      " 21%|██        | 35086336/170498071 [00:23<01:28, 1533608.64it/s]\u001b[A\u001b[A\n",
      "\n",
      " 21%|██        | 35241984/170498071 [00:24<01:29, 1516814.66it/s]\u001b[A\u001b[A\n",
      "\n"
     ]
    },
    {
     "name": "stderr",
     "output_type": "stream",
     "text": [
      " 21%|██        | 35397632/170498071 [00:24<01:29, 1506800.93it/s]\u001b[A\u001b[A\n",
      "\n",
      " 21%|██        | 35561472/170498071 [00:24<01:29, 1515188.23it/s]\u001b[A\u001b[A\n",
      "\n",
      " 21%|██        | 35717120/170498071 [00:24<01:30, 1487862.12it/s]\u001b[A\u001b[A\n",
      "\n",
      " 21%|██        | 35872768/170498071 [00:24<01:29, 1500203.51it/s]\u001b[A\u001b[A\n",
      "\n",
      " 21%|██        | 36028416/170498071 [00:24<01:33, 1437678.51it/s]\u001b[A\u001b[A\n",
      "\n",
      " 21%|██        | 36216832/170498071 [00:24<01:27, 1531446.76it/s]\u001b[A\u001b[A\n",
      "\n",
      " 21%|██▏       | 36372480/170498071 [00:24<01:27, 1526671.56it/s]\u001b[A\u001b[A\n",
      "\n",
      " 21%|██▏       | 36528128/170498071 [00:24<01:27, 1524484.22it/s]\u001b[A\u001b[A\n",
      "\n",
      " 22%|██▏       | 36683776/170498071 [00:25<01:27, 1526135.37it/s]\u001b[A\u001b[A\n",
      "\n",
      " 22%|██▏       | 36839424/170498071 [00:25<01:28, 1507950.99it/s]\u001b[A\u001b[A\n",
      "\n",
      " 22%|██▏       | 36995072/170498071 [00:25<01:28, 1506960.56it/s]\u001b[A\u001b[A\n",
      "\n",
      " 22%|██▏       | 37150720/170498071 [00:25<01:29, 1494213.65it/s]\u001b[A\u001b[A\n",
      "\n",
      " 22%|██▏       | 37306368/170498071 [00:25<01:28, 1504369.50it/s]\u001b[A\u001b[A\n",
      "\n",
      " 22%|██▏       | 37470208/170498071 [00:25<01:27, 1514597.21it/s]\u001b[A\u001b[A\n",
      "\n",
      " 22%|██▏       | 37625856/170498071 [00:25<01:27, 1511148.25it/s]\u001b[A\u001b[A\n",
      "\n",
      " 22%|██▏       | 37789696/170498071 [00:25<01:29, 1483457.65it/s]\u001b[A\u001b[A\n",
      "\n",
      " 22%|██▏       | 37953536/170498071 [00:25<01:27, 1521265.99it/s]\u001b[A\u001b[A\n",
      "\n",
      " 22%|██▏       | 38109184/170498071 [00:25<01:26, 1526411.75it/s]\u001b[A\u001b[A\n",
      "\n",
      " 22%|██▏       | 38264832/170498071 [00:26<01:32, 1429102.72it/s]\u001b[A\u001b[A\n",
      "\n",
      " 23%|██▎       | 38445056/170498071 [00:26<01:27, 1514557.18it/s]\u001b[A\u001b[A\n",
      "\n",
      " 23%|██▎       | 38600704/170498071 [00:26<01:27, 1511151.83it/s]\u001b[A\u001b[A\n",
      "\n",
      " 23%|██▎       | 38772736/170498071 [00:26<01:25, 1543751.39it/s]\u001b[A\u001b[A\n",
      "\n",
      " 23%|██▎       | 38936576/170498071 [00:26<01:24, 1557252.02it/s]\u001b[A\u001b[A\n",
      "\n",
      " 23%|██▎       | 39100416/170498071 [00:26<01:24, 1555921.15it/s]\u001b[A\u001b[A\n",
      "\n",
      " 23%|██▎       | 39264256/170498071 [00:26<01:24, 1548298.84it/s]\u001b[A\u001b[A\n",
      "\n",
      " 23%|██▎       | 39419904/170498071 [00:26<01:25, 1536224.99it/s]\u001b[A\u001b[A\n",
      "\n",
      " 23%|██▎       | 39575552/170498071 [00:26<01:26, 1518933.87it/s]\u001b[A\u001b[A\n",
      "\n",
      " 23%|██▎       | 39731200/170498071 [00:27<01:27, 1498827.45it/s]\u001b[A\u001b[A\n",
      "\n",
      " 23%|██▎       | 39895040/170498071 [00:27<01:25, 1522637.23it/s]\u001b[A\u001b[A\n",
      "\n",
      " 23%|██▎       | 40050688/170498071 [00:27<01:25, 1521394.76it/s]\u001b[A\u001b[A\n",
      "\n",
      " 24%|██▎       | 40206336/170498071 [00:27<01:26, 1512383.94it/s]\u001b[A\u001b[A\n",
      "\n",
      " 24%|██▎       | 40361984/170498071 [00:27<01:26, 1496400.99it/s]\u001b[A\u001b[A\n",
      "\n",
      " 24%|██▍       | 40517632/170498071 [00:27<01:26, 1509198.17it/s]\u001b[A\u001b[A\n",
      "\n",
      " 24%|██▍       | 40673280/170498071 [00:27<01:25, 1510149.97it/s]\u001b[A\u001b[A\n",
      "\n",
      " 24%|██▍       | 40828928/170498071 [00:27<01:25, 1523646.24it/s]\u001b[A\u001b[A\n",
      "\n",
      " 24%|██▍       | 40984576/170498071 [00:27<01:25, 1521884.74it/s]\u001b[A\u001b[A\n",
      "\n",
      " 24%|██▍       | 41140224/170498071 [00:27<01:25, 1514126.93it/s]\u001b[A\u001b[A\n",
      "\n",
      " 24%|██▍       | 41295872/170498071 [00:28<01:25, 1506596.81it/s]\u001b[A\u001b[A\n",
      "\n",
      " 24%|██▍       | 41451520/170498071 [00:28<01:25, 1512667.49it/s]\u001b[A\u001b[A\n",
      "\n",
      " 24%|██▍       | 41607168/170498071 [00:28<01:25, 1501966.67it/s]\u001b[A\u001b[A\n",
      "\n",
      " 24%|██▍       | 41771008/170498071 [00:28<01:24, 1517878.94it/s]\u001b[A\u001b[A\n",
      "\n",
      " 25%|██▍       | 41926656/170498071 [00:28<01:25, 1511630.53it/s]\u001b[A\u001b[A\n",
      "\n",
      " 25%|██▍       | 42090496/170498071 [00:28<01:24, 1517789.41it/s]\u001b[A\u001b[A\n",
      "\n",
      " 25%|██▍       | 42246144/170498071 [00:28<01:24, 1512458.22it/s]\u001b[A\u001b[A\n",
      "\n",
      " 25%|██▍       | 42409984/170498071 [00:28<01:24, 1515832.34it/s]\u001b[A\u001b[A\n",
      "\n",
      " 25%|██▍       | 42565632/170498071 [00:28<01:24, 1517714.79it/s]\u001b[A\u001b[A\n",
      "\n",
      " 25%|██▌       | 42729472/170498071 [00:29<01:24, 1517584.63it/s]\u001b[A\u001b[A\n",
      "\n",
      " 25%|██▌       | 42885120/170498071 [00:29<01:24, 1516812.76it/s]\u001b[A\u001b[A\n",
      "\n",
      " 25%|██▌       | 43040768/170498071 [00:29<01:24, 1505143.56it/s]\u001b[A\u001b[A\n",
      "\n",
      " 25%|██▌       | 43204608/170498071 [00:29<01:23, 1522898.70it/s]\u001b[A\u001b[A\n",
      "\n",
      " 25%|██▌       | 43360256/170498071 [00:29<01:23, 1514691.22it/s]\u001b[A\u001b[A\n",
      "\n",
      " 26%|██▌       | 43524096/170498071 [00:29<01:23, 1523260.32it/s]\u001b[A\u001b[A\n",
      "\n",
      " 26%|██▌       | 43687936/170498071 [00:29<01:22, 1527986.35it/s]\u001b[A\u001b[A\n",
      "\n",
      " 26%|██▌       | 43843584/170498071 [00:29<01:24, 1500523.85it/s]\u001b[A\u001b[A\n",
      "\n",
      " 26%|██▌       | 44007424/170498071 [00:29<01:22, 1527644.91it/s]\u001b[A\u001b[A\n",
      "\n",
      " 26%|██▌       | 44163072/170498071 [00:29<01:23, 1518589.14it/s]\u001b[A\u001b[A\n",
      "\n",
      " 26%|██▌       | 44318720/170498071 [00:30<01:23, 1516663.67it/s]\u001b[A\u001b[A\n",
      "\n",
      " 26%|██▌       | 44482560/170498071 [00:30<01:23, 1512531.97it/s]\u001b[A\u001b[A\n",
      "\n",
      " 26%|██▌       | 44638208/170498071 [00:30<01:22, 1517737.30it/s]\u001b[A\u001b[A\n",
      "\n",
      " 26%|██▋       | 44793856/170498071 [00:30<01:23, 1497739.49it/s]\u001b[A\u001b[A\n",
      "\n",
      " 26%|██▋       | 44957696/170498071 [00:30<01:22, 1523895.23it/s]\u001b[A\u001b[A\n",
      "\n",
      " 26%|██▋       | 45121536/170498071 [00:30<01:22, 1514278.78it/s]\u001b[A\u001b[A\n",
      "\n",
      " 27%|██▋       | 45285376/170498071 [00:30<01:21, 1536593.72it/s]\u001b[A\u001b[A\n",
      "\n",
      " 27%|██▋       | 45441024/170498071 [00:30<01:22, 1520731.95it/s]\u001b[A\u001b[A\n",
      "\n",
      " 27%|██▋       | 45596672/170498071 [00:30<01:22, 1519622.21it/s]\u001b[A\u001b[A\n",
      "\n",
      " 27%|██▋       | 45752320/170498071 [00:31<01:22, 1511961.64it/s]\u001b[A\u001b[A\n",
      "\n",
      " 27%|██▋       | 45916160/170498071 [00:31<01:22, 1515265.60it/s]\u001b[A\u001b[A\n",
      "\n",
      " 27%|██▋       | 46071808/170498071 [00:31<01:21, 1518938.52it/s]\u001b[A\u001b[A\n",
      "\n",
      " 27%|██▋       | 46235648/170498071 [00:31<01:22, 1511246.06it/s]\u001b[A\u001b[A\n",
      "\n",
      " 27%|██▋       | 46391296/170498071 [00:31<01:21, 1523222.40it/s]\u001b[A\u001b[A\n",
      "\n",
      " 27%|██▋       | 46555136/170498071 [00:31<01:21, 1519596.14it/s]\u001b[A\u001b[A\n",
      "\n",
      " 27%|██▋       | 46710784/170498071 [00:31<01:21, 1518662.78it/s]\u001b[A\u001b[A\n",
      "\n",
      " 27%|██▋       | 46874624/170498071 [00:31<01:21, 1517373.00it/s]\u001b[A\u001b[A\n",
      "\n",
      " 28%|██▊       | 47030272/170498071 [00:31<01:21, 1522253.85it/s]\u001b[A\u001b[A\n",
      "\n",
      " 28%|██▊       | 47185920/170498071 [00:31<01:21, 1508648.20it/s]\u001b[A\u001b[A\n",
      "\n",
      " 28%|██▊       | 47349760/170498071 [00:32<01:21, 1512025.74it/s]\u001b[A\u001b[A\n",
      "\n",
      " 28%|██▊       | 47505408/170498071 [00:32<01:21, 1514537.52it/s]\u001b[A\u001b[A\n",
      "\n",
      " 28%|██▊       | 47669248/170498071 [00:32<01:21, 1505573.82it/s]\u001b[A\u001b[A\n",
      "\n",
      " 28%|██▊       | 47833088/170498071 [00:32<01:20, 1526793.94it/s]\u001b[A\u001b[A\n",
      "\n",
      " 28%|██▊       | 47988736/170498071 [00:32<01:20, 1518963.57it/s]\u001b[A\u001b[A\n",
      "\n",
      " 28%|██▊       | 48144384/170498071 [00:32<01:20, 1520111.42it/s]\u001b[A\u001b[A\n",
      "\n",
      " 28%|██▊       | 48308224/170498071 [00:32<01:20, 1519981.99it/s]\u001b[A\u001b[A\n",
      "\n",
      " 28%|██▊       | 48463872/170498071 [00:32<01:20, 1517231.71it/s]\u001b[A\u001b[A\n",
      "\n",
      " 29%|██▊       | 48619520/170498071 [00:32<01:21, 1501584.62it/s]\u001b[A\u001b[A\n",
      "\n",
      " 29%|██▊       | 48783360/170498071 [00:33<01:20, 1515773.07it/s]\u001b[A\u001b[A\n",
      "\n",
      " 29%|██▊       | 48939008/170498071 [00:33<01:20, 1503955.78it/s]\u001b[A\u001b[A\n",
      "\n",
      " 29%|██▉       | 49102848/170498071 [00:33<01:19, 1527412.11it/s]\u001b[A\u001b[A\n",
      "\n",
      " 29%|██▉       | 49258496/170498071 [00:33<01:19, 1520906.10it/s]\u001b[A\u001b[A\n",
      "\n",
      " 29%|██▉       | 49422336/170498071 [00:33<01:23, 1451637.77it/s]\u001b[A\u001b[A\n",
      "\n",
      " 29%|██▉       | 49610752/170498071 [00:33<01:17, 1554275.89it/s]\u001b[A\u001b[A\n",
      "\n",
      " 29%|██▉       | 49774592/170498071 [00:33<01:17, 1553234.39it/s]\u001b[A\u001b[A\n",
      "\n",
      " 29%|██▉       | 49938432/170498071 [00:33<01:20, 1500617.02it/s]\u001b[A\u001b[A\n",
      "\n",
      " 29%|██▉       | 50118656/170498071 [00:33<01:16, 1579021.43it/s]\u001b[A\u001b[A\n",
      "\n",
      " 29%|██▉       | 50282496/170498071 [00:33<01:16, 1565807.79it/s]\u001b[A\u001b[A\n",
      "\n",
      " 30%|██▉       | 50446336/170498071 [00:34<01:16, 1559378.65it/s]\u001b[A\u001b[A\n",
      "\n",
      " 30%|██▉       | 50610176/170498071 [00:34<01:18, 1531408.89it/s]\u001b[A\u001b[A\n",
      "\n",
      " 30%|██▉       | 50765824/170498071 [00:34<01:19, 1514451.40it/s]\u001b[A\u001b[A\n",
      "\n",
      " 30%|██▉       | 50937856/170498071 [00:34<01:19, 1511125.09it/s]\u001b[A\u001b[A\n",
      "\n",
      " 30%|██▉       | 51093504/170498071 [00:34<01:19, 1503502.65it/s]\u001b[A\u001b[A\n",
      "\n",
      " 30%|███       | 51257344/170498071 [00:34<01:18, 1515300.04it/s]\u001b[A\u001b[A\n",
      "\n",
      " 30%|███       | 51412992/170498071 [00:34<01:18, 1509883.21it/s]\u001b[A\u001b[A\n",
      "\n",
      " 30%|███       | 51576832/170498071 [00:34<01:18, 1518420.69it/s]\u001b[A\u001b[A\n",
      "\n",
      " 30%|███       | 51732480/170498071 [00:34<01:18, 1511755.56it/s]\u001b[A\u001b[A\n",
      "\n",
      " 30%|███       | 51888128/170498071 [00:35<01:19, 1500048.74it/s]\u001b[A\u001b[A\n",
      "\n",
      " 31%|███       | 52043776/170498071 [00:35<01:18, 1507891.43it/s]\u001b[A\u001b[A\n",
      "\n",
      " 31%|███       | 52207616/170498071 [00:35<01:18, 1502697.41it/s]\u001b[A\u001b[A\n",
      "\n",
      " 31%|███       | 52363264/170498071 [00:35<01:29, 1319952.80it/s]\u001b[A\u001b[A\n",
      "\n",
      " 31%|███       | 52543488/170498071 [00:35<01:25, 1377770.97it/s]\u001b[A\u001b[A\n",
      "\n",
      " 31%|███       | 52699136/170498071 [00:35<01:23, 1408620.03it/s]\u001b[A\u001b[A\n",
      "\n",
      " 31%|███       | 52862976/170498071 [00:35<01:35, 1233589.94it/s]\u001b[A\u001b[A\n",
      "\n",
      " 31%|███       | 53125120/170498071 [00:35<01:23, 1414045.69it/s]\u001b[A\u001b[A\n",
      "\n",
      " 31%|███▏      | 53288960/170498071 [00:36<01:20, 1454032.30it/s]\u001b[A\u001b[A\n",
      "\n"
     ]
    },
    {
     "name": "stderr",
     "output_type": "stream",
     "text": [
      " 31%|███▏      | 53444608/170498071 [00:36<01:19, 1464787.14it/s]\u001b[A\u001b[A\n",
      "\n",
      " 31%|███▏      | 53608448/170498071 [00:36<01:18, 1483989.38it/s]\u001b[A\u001b[A\n",
      "\n",
      " 32%|███▏      | 53772288/170498071 [00:36<01:17, 1499249.77it/s]\u001b[A\u001b[A\n",
      "\n",
      " 32%|███▏      | 53927936/170498071 [00:36<01:18, 1476824.92it/s]\u001b[A\u001b[A\n",
      "\n",
      " 32%|███▏      | 54083584/170498071 [00:36<01:26, 1340011.97it/s]\u001b[A\u001b[A\n",
      "\n",
      " 32%|███▏      | 54222848/170498071 [00:36<01:27, 1336171.98it/s]\u001b[A\u001b[A\n",
      "\n",
      " 32%|███▏      | 54411264/170498071 [00:36<01:20, 1442648.61it/s]\u001b[A\u001b[A\n",
      "\n",
      " 32%|███▏      | 54575104/170498071 [00:36<01:18, 1479141.09it/s]\u001b[A\u001b[A\n",
      "\n",
      " 32%|███▏      | 54730752/170498071 [00:37<01:18, 1481124.26it/s]\u001b[A\u001b[A\n",
      "\n",
      " 32%|███▏      | 54894592/170498071 [00:37<01:17, 1500275.76it/s]\u001b[A\u001b[A\n",
      "\n",
      " 32%|███▏      | 55050240/170498071 [00:37<01:17, 1497582.40it/s]\u001b[A\u001b[A\n",
      "\n",
      " 32%|███▏      | 55205888/170498071 [00:37<01:17, 1496041.09it/s]\u001b[A\u001b[A\n",
      "\n",
      " 32%|███▏      | 55369728/170498071 [00:37<01:16, 1511655.00it/s]\u001b[A\u001b[A\n",
      "\n",
      " 33%|███▎      | 55525376/170498071 [00:37<01:16, 1502846.81it/s]\u001b[A\u001b[A\n",
      "\n",
      " 33%|███▎      | 55689216/170498071 [00:37<01:15, 1518541.28it/s]\u001b[A\u001b[A\n",
      "\n",
      " 33%|███▎      | 55844864/170498071 [00:37<01:15, 1508699.99it/s]\u001b[A\u001b[A\n",
      "\n",
      " 33%|███▎      | 56008704/170498071 [00:37<01:15, 1522863.51it/s]\u001b[A\u001b[A\n",
      "\n",
      " 33%|███▎      | 56164352/170498071 [00:37<01:15, 1512533.91it/s]\u001b[A\u001b[A\n",
      "\n",
      " 33%|███▎      | 56320000/170498071 [00:38<01:15, 1504608.66it/s]\u001b[A\u001b[A\n",
      "\n",
      " 33%|███▎      | 56483840/170498071 [00:38<01:15, 1518156.17it/s]\u001b[A\u001b[A\n",
      "\n",
      " 33%|███▎      | 56639488/170498071 [00:38<01:15, 1512272.66it/s]\u001b[A\u001b[A\n",
      "\n",
      " 33%|███▎      | 56803328/170498071 [00:38<01:15, 1510328.24it/s]\u001b[A\u001b[A\n",
      "\n",
      " 33%|███▎      | 56958976/170498071 [00:38<01:14, 1514860.89it/s]\u001b[A\u001b[A\n",
      "\n",
      " 34%|███▎      | 57122816/170498071 [00:38<01:14, 1514176.52it/s]\u001b[A\u001b[A\n",
      "\n",
      " 34%|███▎      | 57278464/170498071 [00:38<01:15, 1507010.96it/s]\u001b[A\u001b[A\n",
      "\n",
      " 34%|███▎      | 57442304/170498071 [00:38<01:14, 1519554.85it/s]\u001b[A\u001b[A\n",
      "\n",
      " 34%|███▍      | 57597952/170498071 [00:38<01:14, 1511145.37it/s]\u001b[A\u001b[A\n",
      "\n",
      " 34%|███▍      | 57761792/170498071 [00:39<01:14, 1516301.89it/s]\u001b[A\u001b[A\n",
      "\n",
      " 34%|███▍      | 57917440/170498071 [00:39<01:14, 1513354.82it/s]\u001b[A\u001b[A\n",
      "\n",
      " 34%|███▍      | 58081280/170498071 [00:39<01:13, 1525766.61it/s]\u001b[A\u001b[A\n",
      "\n",
      " 34%|███▍      | 58236928/170498071 [00:39<01:14, 1510913.74it/s]\u001b[A\u001b[A\n",
      "\n",
      " 34%|███▍      | 58400768/170498071 [00:39<01:14, 1508757.83it/s]\u001b[A\u001b[A\n",
      "\n",
      " 34%|███▍      | 58556416/170498071 [00:39<01:13, 1522086.32it/s]\u001b[A\u001b[A\n",
      "\n",
      " 34%|███▍      | 58720256/170498071 [00:39<01:12, 1531418.81it/s]\u001b[A\u001b[A\n",
      "\n",
      " 35%|███▍      | 58875904/170498071 [00:39<01:13, 1517926.33it/s]\u001b[A\u001b[A\n",
      "\n",
      " 35%|███▍      | 59039744/170498071 [00:39<01:13, 1525617.22it/s]\u001b[A\u001b[A\n",
      "\n",
      " 35%|███▍      | 59195392/170498071 [00:39<01:13, 1508324.13it/s]\u001b[A\u001b[A\n",
      "\n",
      " 35%|███▍      | 59351040/170498071 [00:40<01:13, 1509833.65it/s]\u001b[A\u001b[A\n",
      "\n",
      " 35%|███▍      | 59514880/170498071 [00:40<01:12, 1523016.41it/s]\u001b[A\u001b[A\n",
      "\n",
      " 35%|███▍      | 59670528/170498071 [00:40<01:13, 1513182.23it/s]\u001b[A\u001b[A\n",
      "\n",
      " 35%|███▌      | 59834368/170498071 [00:40<01:12, 1522666.29it/s]\u001b[A\u001b[A\n",
      "\n",
      " 35%|███▌      | 59990016/170498071 [00:40<01:13, 1509871.91it/s]\u001b[A\u001b[A\n",
      "\n",
      " 35%|███▌      | 60145664/170498071 [00:40<01:13, 1501074.09it/s]\u001b[A\u001b[A\n",
      "\n",
      " 35%|███▌      | 60309504/170498071 [00:40<01:12, 1520199.06it/s]\u001b[A\u001b[A\n",
      "\n",
      " 35%|███▌      | 60473344/170498071 [00:40<01:11, 1528398.50it/s]\u001b[A\u001b[A\n",
      "\n",
      " 36%|███▌      | 60628992/170498071 [00:40<01:12, 1518171.35it/s]\u001b[A\u001b[A\n",
      "\n",
      " 36%|███▌      | 60784640/170498071 [00:41<01:12, 1503959.46it/s]\u001b[A\u001b[A\n",
      "\n",
      " 36%|███▌      | 60948480/170498071 [00:41<01:11, 1524262.96it/s]\u001b[A\u001b[A\n",
      "\n",
      " 36%|███▌      | 61104128/170498071 [00:41<01:12, 1513677.93it/s]\u001b[A\u001b[A\n",
      "\n",
      " 36%|███▌      | 61267968/170498071 [00:41<01:11, 1520588.13it/s]\u001b[A\u001b[A\n",
      "\n",
      " 36%|███▌      | 61423616/170498071 [00:41<01:11, 1515247.14it/s]\u001b[A\u001b[A\n",
      "\n",
      " 36%|███▌      | 61587456/170498071 [00:41<01:11, 1525445.74it/s]\u001b[A\u001b[A\n",
      "\n",
      " 36%|███▌      | 61743104/170498071 [00:41<01:11, 1512480.54it/s]\u001b[A\u001b[A\n",
      "\n",
      " 36%|███▋      | 61906944/170498071 [00:41<01:11, 1524353.80it/s]\u001b[A\u001b[A\n",
      "\n",
      " 36%|███▋      | 62062592/170498071 [00:41<01:11, 1512676.82it/s]\u001b[A\u001b[A\n",
      "\n",
      " 36%|███▋      | 62218240/170498071 [00:41<01:12, 1502137.96it/s]\u001b[A\u001b[A\n",
      "\n",
      " 37%|███▋      | 62382080/170498071 [00:42<01:10, 1524581.69it/s]\u001b[A\u001b[A\n",
      "\n",
      " 37%|███▋      | 62537728/170498071 [00:42<01:11, 1506149.38it/s]\u001b[A\u001b[A\n",
      "\n",
      " 37%|███▋      | 62701568/170498071 [00:42<01:10, 1522777.64it/s]\u001b[A\u001b[A\n",
      "\n",
      " 37%|███▋      | 62857216/170498071 [00:42<01:11, 1512422.05it/s]\u001b[A\u001b[A\n",
      "\n",
      " 37%|███▋      | 63021056/170498071 [00:42<01:10, 1524099.23it/s]\u001b[A\u001b[A\n",
      "\n",
      " 37%|███▋      | 63176704/170498071 [00:42<01:10, 1514858.76it/s]\u001b[A\u001b[A\n",
      "\n",
      " 37%|███▋      | 63340544/170498071 [00:42<01:10, 1526765.16it/s]\u001b[A\u001b[A\n",
      "\n",
      " 37%|███▋      | 63496192/170498071 [00:42<01:10, 1513661.96it/s]\u001b[A\u001b[A\n",
      "\n",
      " 37%|███▋      | 63651840/170498071 [00:42<01:10, 1505282.61it/s]\u001b[A\u001b[A\n",
      "\n",
      " 37%|███▋      | 63815680/170498071 [00:43<01:10, 1522230.15it/s]\u001b[A\u001b[A\n",
      "\n",
      " 38%|███▊      | 63971328/170498071 [00:43<01:10, 1509519.34it/s]\u001b[A\u001b[A\n",
      "\n",
      " 38%|███▊      | 64135168/170498071 [00:43<01:09, 1520776.61it/s]\u001b[A\u001b[A\n",
      "\n",
      " 38%|███▊      | 64290816/170498071 [00:43<01:10, 1508374.19it/s]\u001b[A\u001b[A\n",
      "\n",
      " 38%|███▊      | 64454656/170498071 [00:43<01:09, 1524548.47it/s]\u001b[A\u001b[A\n",
      "\n",
      " 38%|███▊      | 64610304/170498071 [00:43<01:09, 1513905.55it/s]\u001b[A\u001b[A\n",
      "\n",
      " 38%|███▊      | 64774144/170498071 [00:43<01:09, 1522564.35it/s]\u001b[A\u001b[A\n",
      "\n",
      " 38%|███▊      | 64929792/170498071 [00:43<01:09, 1508493.49it/s]\u001b[A\u001b[A\n",
      "\n",
      " 38%|███▊      | 65085440/170498071 [00:43<01:09, 1511904.77it/s]\u001b[A\u001b[A\n",
      "\n",
      " 38%|███▊      | 65249280/170498071 [00:43<01:09, 1522508.06it/s]\u001b[A\u001b[A\n",
      "\n",
      " 38%|███▊      | 65404928/170498071 [00:44<01:09, 1509398.57it/s]\u001b[A\u001b[A\n",
      "\n",
      " 38%|███▊      | 65568768/170498071 [00:44<01:08, 1521870.86it/s]\u001b[A\u001b[A\n",
      "\n",
      " 39%|███▊      | 65724416/170498071 [00:44<01:09, 1513237.10it/s]\u001b[A\u001b[A\n",
      "\n",
      " 39%|███▊      | 65888256/170498071 [00:44<01:08, 1523449.51it/s]\u001b[A\u001b[A\n",
      "\n",
      " 39%|███▊      | 66043904/170498071 [00:44<01:08, 1515215.02it/s]\u001b[A\u001b[A\n",
      "\n",
      " 39%|███▉      | 66207744/170498071 [00:44<01:08, 1524839.07it/s]\u001b[A\u001b[A\n",
      "\n",
      " 39%|███▉      | 66363392/170498071 [00:44<01:08, 1514521.32it/s]\u001b[A\u001b[A\n",
      "\n",
      " 39%|███▉      | 66519040/170498071 [00:44<01:08, 1511325.19it/s]\u001b[A\u001b[A\n",
      "\n",
      " 39%|███▉      | 66682880/170498071 [00:44<01:08, 1514708.90it/s]\u001b[A\u001b[A\n",
      "\n",
      " 39%|███▉      | 66838528/170498071 [00:45<01:08, 1515238.39it/s]\u001b[A\u001b[A\n",
      "\n",
      " 39%|███▉      | 67002368/170498071 [00:45<01:08, 1506054.61it/s]\u001b[A\u001b[A\n",
      "\n",
      " 39%|███▉      | 67158016/170498071 [00:45<01:08, 1504623.49it/s]\u001b[A\u001b[A\n",
      "\n",
      " 39%|███▉      | 67321856/170498071 [00:45<01:08, 1515513.03it/s]\u001b[A\u001b[A\n",
      "\n",
      " 40%|███▉      | 67477504/170498071 [00:45<01:07, 1517344.69it/s]\u001b[A\u001b[A\n",
      "\n",
      " 40%|███▉      | 67641344/170498071 [00:45<01:07, 1515655.98it/s]\u001b[A\u001b[A\n",
      "\n",
      " 40%|███▉      | 67796992/170498071 [00:45<01:07, 1512172.67it/s]\u001b[A\u001b[A\n",
      "\n",
      " 40%|███▉      | 67952640/170498071 [00:45<01:08, 1507953.84it/s]\u001b[A\u001b[A\n",
      "\n",
      " 40%|███▉      | 68116480/170498071 [00:45<01:07, 1519497.68it/s]\u001b[A\u001b[A\n",
      "\n",
      " 40%|████      | 68272128/170498071 [00:45<01:07, 1505580.42it/s]\u001b[A\u001b[A\n",
      "\n",
      " 40%|████      | 68435968/170498071 [00:46<01:07, 1522694.32it/s]\u001b[A\u001b[A\n",
      "\n",
      " 40%|████      | 68591616/170498071 [00:46<01:07, 1502457.31it/s]\u001b[A\u001b[A\n",
      "\n",
      " 40%|████      | 68755456/170498071 [00:46<01:06, 1522638.85it/s]\u001b[A\u001b[A\n",
      "\n",
      " 40%|████      | 68911104/170498071 [00:46<01:06, 1519684.26it/s]\u001b[A\u001b[A\n",
      "\n",
      " 41%|████      | 69074944/170498071 [00:46<01:06, 1528534.86it/s]\u001b[A\u001b[A\n",
      "\n",
      " 41%|████      | 69230592/170498071 [00:46<01:06, 1513853.75it/s]\u001b[A\u001b[A\n",
      "\n",
      " 41%|████      | 69394432/170498071 [00:46<01:06, 1525060.82it/s]\u001b[A\u001b[A\n",
      "\n",
      " 41%|████      | 69550080/170498071 [00:46<01:06, 1516560.79it/s]\u001b[A\u001b[A\n",
      "\n",
      " 41%|████      | 69705728/170498071 [00:46<01:06, 1509716.34it/s]\u001b[A\u001b[A\n",
      "\n",
      " 41%|████      | 69861376/170498071 [00:47<01:11, 1405319.53it/s]\u001b[A\u001b[A\n",
      "\n",
      " 41%|████      | 70008832/170498071 [00:47<01:12, 1380128.74it/s]\u001b[A\u001b[A\n",
      "\n",
      " 41%|████      | 70164480/170498071 [00:47<01:11, 1409362.46it/s]\u001b[A\u001b[A\n",
      "\n",
      " 41%|████      | 70320128/170498071 [00:47<01:09, 1433753.23it/s]\u001b[A\u001b[A\n",
      "\n",
      " 41%|████▏     | 70483968/170498071 [00:47<01:08, 1465389.46it/s]\u001b[A\u001b[A\n",
      "\n",
      " 41%|████▏     | 70639616/170498071 [00:47<01:07, 1474117.72it/s]\u001b[A\u001b[A\n",
      "\n",
      " 42%|████▏     | 70803456/170498071 [00:47<01:06, 1497149.11it/s]\u001b[A\u001b[A\n",
      "\n",
      " 42%|████▏     | 70967296/170498071 [00:47<01:05, 1513491.00it/s]\u001b[A\u001b[A\n",
      "\n",
      " 42%|████▏     | 71122944/170498071 [00:47<01:06, 1505386.03it/s]\u001b[A\u001b[A\n",
      "\n"
     ]
    },
    {
     "name": "stderr",
     "output_type": "stream",
     "text": [
      " 42%|████▏     | 71286784/170498071 [00:47<01:05, 1512875.39it/s]\u001b[A\u001b[A\n",
      "\n",
      " 42%|████▏     | 71442432/170498071 [00:48<01:05, 1516431.76it/s]\u001b[A\u001b[A\n",
      "\n",
      " 42%|████▏     | 71606272/170498071 [00:48<01:04, 1522511.15it/s]\u001b[A\u001b[A\n",
      "\n",
      " 42%|████▏     | 71761920/170498071 [00:48<01:05, 1514555.64it/s]\u001b[A\u001b[A\n",
      "\n",
      " 42%|████▏     | 71917568/170498071 [00:48<01:05, 1503168.53it/s]\u001b[A\u001b[A\n",
      "\n",
      " 42%|████▏     | 72081408/170498071 [00:48<01:04, 1520505.20it/s]\u001b[A\u001b[A\n",
      "\n",
      " 42%|████▏     | 72245248/170498071 [00:48<01:04, 1523333.04it/s]\u001b[A\u001b[A\n",
      "\n",
      " 42%|████▏     | 72400896/170498071 [00:48<01:04, 1510349.63it/s]\u001b[A\u001b[A\n",
      "\n",
      " 43%|████▎     | 72564736/170498071 [00:48<01:03, 1531751.36it/s]\u001b[A\u001b[A\n",
      "\n",
      " 43%|████▎     | 72720384/170498071 [00:48<01:04, 1516836.49it/s]\u001b[A\u001b[A\n",
      "\n",
      " 43%|████▎     | 72876032/170498071 [00:49<01:04, 1503327.77it/s]\u001b[A\u001b[A\n",
      "\n",
      " 43%|████▎     | 73039872/170498071 [00:49<01:04, 1521987.26it/s]\u001b[A\u001b[A\n",
      "\n",
      " 43%|████▎     | 73195520/170498071 [00:49<01:04, 1514603.72it/s]\u001b[A\u001b[A\n",
      "\n",
      " 43%|████▎     | 73351168/170498071 [00:49<01:04, 1506008.43it/s]\u001b[A\u001b[A\n",
      "\n",
      " 43%|████▎     | 73515008/170498071 [00:49<01:03, 1519640.24it/s]\u001b[A\u001b[A\n",
      "\n",
      " 43%|████▎     | 73678848/170498071 [00:49<01:03, 1526413.63it/s]\u001b[A\u001b[A\n",
      "\n",
      " 43%|████▎     | 73834496/170498071 [00:49<01:03, 1516344.40it/s]\u001b[A\u001b[A\n",
      "\n",
      " 43%|████▎     | 73990144/170498071 [00:49<01:04, 1502519.28it/s]\u001b[A\u001b[A\n",
      "\n",
      " 43%|████▎     | 74153984/170498071 [00:49<01:03, 1512303.82it/s]\u001b[A\u001b[A\n",
      "\n",
      " 44%|████▎     | 74309632/170498071 [00:49<01:03, 1521693.93it/s]\u001b[A\u001b[A\n",
      "\n",
      " 44%|████▎     | 74473472/170498071 [00:50<01:03, 1523555.75it/s]\u001b[A\u001b[A\n",
      "\n",
      " 44%|████▍     | 74629120/170498071 [00:50<01:03, 1515837.45it/s]\u001b[A\u001b[A\n",
      "\n",
      " 44%|████▍     | 74784768/170498071 [00:50<01:03, 1509500.29it/s]\u001b[A\u001b[A\n",
      "\n",
      " 44%|████▍     | 74948608/170498071 [00:50<01:02, 1521901.78it/s]\u001b[A\u001b[A\n",
      "\n",
      " 44%|████▍     | 75112448/170498071 [00:50<01:02, 1527510.86it/s]\u001b[A\u001b[A\n",
      "\n",
      " 44%|████▍     | 75268096/170498071 [00:50<01:02, 1514125.44it/s]\u001b[A\u001b[A\n",
      "\n",
      " 44%|████▍     | 75431936/170498071 [00:50<01:02, 1513759.12it/s]\u001b[A\u001b[A\n",
      "\n",
      " 44%|████▍     | 75587584/170498071 [00:50<01:03, 1486812.90it/s]\u001b[A\u001b[A\n",
      "\n",
      " 44%|████▍     | 75743232/170498071 [00:50<01:03, 1496919.29it/s]\u001b[A\u001b[A\n",
      "\n",
      " 45%|████▍     | 75907072/170498071 [00:51<01:03, 1500235.65it/s]\u001b[A\u001b[A\n",
      "\n",
      " 45%|████▍     | 76062720/170498071 [00:51<01:03, 1493309.15it/s]\u001b[A\u001b[A\n",
      "\n",
      " 45%|████▍     | 76226560/170498071 [00:51<01:02, 1501038.24it/s]\u001b[A\u001b[A\n",
      "\n",
      " 45%|████▍     | 76382208/170498071 [00:51<01:03, 1491392.17it/s]\u001b[A\u001b[A\n",
      "\n",
      " 45%|████▍     | 76546048/170498071 [00:51<01:02, 1503690.64it/s]\u001b[A\u001b[A\n",
      "\n",
      " 45%|████▍     | 76701696/170498071 [00:51<01:03, 1476709.32it/s]\u001b[A\u001b[A\n",
      "\n",
      " 45%|████▌     | 76865536/170498071 [00:51<01:02, 1507498.54it/s]\u001b[A\u001b[A\n",
      "\n",
      " 45%|████▌     | 77021184/170498071 [00:51<01:02, 1499864.28it/s]\u001b[A\u001b[A\n",
      "\n",
      " 45%|████▌     | 77176832/170498071 [00:51<01:02, 1487598.22it/s]\u001b[A\u001b[A\n",
      "\n",
      " 45%|████▌     | 77340672/170498071 [00:51<01:02, 1496371.59it/s]\u001b[A\u001b[A\n",
      "\n",
      " 45%|████▌     | 77496320/170498071 [00:52<01:02, 1492564.58it/s]\u001b[A\u001b[A\n",
      "\n",
      " 46%|████▌     | 77660160/170498071 [00:52<01:01, 1514664.23it/s]\u001b[A\u001b[A\n",
      "\n",
      " 46%|████▌     | 77815808/170498071 [00:52<01:01, 1505845.00it/s]\u001b[A\u001b[A\n",
      "\n",
      " 46%|████▌     | 77979648/170498071 [00:52<01:00, 1521726.38it/s]\u001b[A\u001b[A\n",
      "\n",
      " 46%|████▌     | 78135296/170498071 [00:52<01:01, 1503718.40it/s]\u001b[A\u001b[A\n",
      "\n",
      " 46%|████▌     | 78299136/170498071 [00:52<01:00, 1516127.49it/s]\u001b[A\u001b[A\n",
      "\n",
      " 46%|████▌     | 78454784/170498071 [00:52<01:00, 1514996.77it/s]\u001b[A\u001b[A\n",
      "\n",
      " 46%|████▌     | 78610432/170498071 [00:52<01:00, 1509900.78it/s]\u001b[A\u001b[A\n",
      "\n",
      " 46%|████▌     | 78774272/170498071 [00:52<01:00, 1517790.22it/s]\u001b[A\u001b[A\n",
      "\n",
      " 46%|████▋     | 78929920/170498071 [00:53<01:00, 1515964.22it/s]\u001b[A\u001b[A\n",
      "\n",
      " 46%|████▋     | 79093760/170498071 [00:53<01:00, 1518676.30it/s]\u001b[A\u001b[A\n",
      "\n",
      " 46%|████▋     | 79249408/170498071 [00:53<01:00, 1512672.79it/s]\u001b[A\u001b[A\n",
      "\n",
      " 47%|████▋     | 79413248/170498071 [00:53<01:00, 1511774.05it/s]\u001b[A\u001b[A\n",
      "\n",
      " 47%|████▋     | 79568896/170498071 [00:53<01:00, 1501918.85it/s]\u001b[A\u001b[A\n",
      "\n",
      " 47%|████▋     | 79732736/170498071 [00:53<01:00, 1511772.20it/s]\u001b[A\u001b[A\n",
      "\n",
      " 47%|████▋     | 79888384/170498071 [00:53<01:00, 1502996.41it/s]\u001b[A\u001b[A\n",
      "\n",
      " 47%|████▋     | 80044032/170498071 [00:53<01:00, 1492972.14it/s]\u001b[A\u001b[A\n",
      "\n",
      " 47%|████▋     | 80207872/170498071 [00:53<01:00, 1494379.94it/s]\u001b[A\u001b[A\n",
      "\n",
      " 47%|████▋     | 80363520/170498071 [00:53<01:00, 1494767.07it/s]\u001b[A\u001b[A\n",
      "\n",
      " 47%|████▋     | 80527360/170498071 [00:54<00:59, 1501560.03it/s]\u001b[A\u001b[A\n",
      "\n",
      " 47%|████▋     | 80683008/170498071 [00:54<01:00, 1493161.14it/s]\u001b[A\u001b[A\n",
      "\n",
      " 47%|████▋     | 80846848/170498071 [00:54<00:59, 1501353.62it/s]\u001b[A\u001b[A\n",
      "\n",
      " 48%|████▊     | 81002496/170498071 [00:54<00:59, 1492937.35it/s]\u001b[A\u001b[A\n",
      "\n",
      " 48%|████▊     | 81166336/170498071 [00:54<00:59, 1499504.97it/s]\u001b[A\u001b[A\n",
      "\n",
      " 48%|████▊     | 81321984/170498071 [00:54<00:59, 1500162.45it/s]\u001b[A\u001b[A\n",
      "\n",
      " 48%|████▊     | 81485824/170498071 [00:54<00:59, 1499280.94it/s]\u001b[A\u001b[A\n",
      "\n",
      " 48%|████▊     | 81641472/170498071 [00:54<00:59, 1493063.71it/s]\u001b[A\u001b[A\n",
      "\n",
      " 48%|████▊     | 81805312/170498071 [00:54<00:58, 1509316.99it/s]\u001b[A\u001b[A\n",
      "\n",
      " 48%|████▊     | 81960960/170498071 [00:55<00:58, 1507030.74it/s]\u001b[A\u001b[A\n",
      "\n",
      " 48%|████▊     | 82116608/170498071 [00:55<00:58, 1499891.50it/s]\u001b[A\u001b[A\n",
      "\n",
      " 48%|████▊     | 82280448/170498071 [00:55<00:58, 1516537.34it/s]\u001b[A\u001b[A\n",
      "\n",
      " 48%|████▊     | 82436096/170498071 [00:55<00:58, 1507472.47it/s]\u001b[A\u001b[A\n",
      "\n",
      " 48%|████▊     | 82599936/170498071 [00:55<00:57, 1518083.28it/s]\u001b[A\u001b[A\n",
      "\n",
      " 49%|████▊     | 82755584/170498071 [00:55<00:57, 1517506.34it/s]\u001b[A\u001b[A\n",
      "\n",
      " 49%|████▊     | 82919424/170498071 [00:55<00:57, 1519289.59it/s]\u001b[A\u001b[A\n",
      "\n",
      " 49%|████▊     | 83075072/170498071 [00:55<00:57, 1508053.94it/s]\u001b[A\u001b[A\n",
      "\n",
      " 49%|████▉     | 83238912/170498071 [00:55<00:57, 1521194.53it/s]\u001b[A\u001b[A\n",
      "\n",
      " 49%|████▉     | 83394560/170498071 [00:56<00:58, 1500298.28it/s]\u001b[A\u001b[A\n",
      "\n",
      " 49%|████▉     | 83550208/170498071 [00:56<00:57, 1512936.00it/s]\u001b[A\u001b[A\n",
      "\n",
      " 49%|████▉     | 83714048/170498071 [00:56<00:56, 1524780.13it/s]\u001b[A\u001b[A\n",
      "\n",
      " 49%|████▉     | 83869696/170498071 [00:56<00:57, 1500126.36it/s]\u001b[A\u001b[A\n",
      "\n",
      " 49%|████▉     | 84033536/170498071 [00:56<00:56, 1530026.33it/s]\u001b[A\u001b[A\n",
      "\n",
      " 49%|████▉     | 84189184/170498071 [00:56<00:56, 1517296.32it/s]\u001b[A\u001b[A\n",
      "\n",
      " 49%|████▉     | 84353024/170498071 [00:56<00:56, 1520568.14it/s]\u001b[A\u001b[A\n",
      "\n",
      " 50%|████▉     | 84508672/170498071 [00:56<00:56, 1516886.22it/s]\u001b[A\u001b[A\n",
      "\n",
      " 50%|████▉     | 84672512/170498071 [00:56<00:56, 1524260.60it/s]\u001b[A\u001b[A\n",
      "\n",
      " 50%|████▉     | 84828160/170498071 [00:56<00:56, 1515470.44it/s]\u001b[A\u001b[A\n",
      "\n",
      " 50%|████▉     | 84983808/170498071 [00:57<00:56, 1508732.79it/s]\u001b[A\u001b[A\n",
      "\n",
      " 50%|████▉     | 85147648/170498071 [00:57<00:56, 1515858.61it/s]\u001b[A\u001b[A\n",
      "\n",
      " 50%|█████     | 85303296/170498071 [00:57<00:56, 1507270.18it/s]\u001b[A\u001b[A\n",
      "\n",
      " 50%|█████     | 85467136/170498071 [00:57<00:55, 1520001.52it/s]\u001b[A\u001b[A\n",
      "\n",
      " 50%|█████     | 85622784/170498071 [00:57<00:55, 1517325.74it/s]\u001b[A\u001b[A\n",
      "\n",
      " 50%|█████     | 85786624/170498071 [00:57<00:55, 1522458.52it/s]\u001b[A\u001b[A\n",
      "\n",
      " 50%|█████     | 85942272/170498071 [00:57<00:55, 1514105.05it/s]\u001b[A\u001b[A\n",
      "\n",
      " 50%|█████     | 86097920/170498071 [00:57<00:55, 1510907.02it/s]\u001b[A\u001b[A\n",
      "\n",
      " 51%|█████     | 86261760/170498071 [00:57<00:55, 1516121.85it/s]\u001b[A\u001b[A\n",
      "\n",
      " 51%|█████     | 86417408/170498071 [00:57<00:55, 1515337.80it/s]\u001b[A\u001b[A\n",
      "\n",
      " 51%|█████     | 86581248/170498071 [00:58<00:55, 1521039.82it/s]\u001b[A\u001b[A\n",
      "\n",
      " 51%|█████     | 86736896/170498071 [00:58<00:56, 1476809.27it/s]\u001b[A\u001b[A\n",
      "\n",
      " 51%|█████     | 86908928/170498071 [00:58<00:54, 1534527.82it/s]\u001b[A\u001b[A\n",
      "\n",
      " 51%|█████     | 87064576/170498071 [00:58<00:54, 1526821.65it/s]\u001b[A\u001b[A\n",
      "\n",
      " 51%|█████     | 87220224/170498071 [00:58<00:54, 1515894.08it/s]\u001b[A\u001b[A\n",
      "\n",
      " 51%|█████     | 87375872/170498071 [00:58<00:54, 1513758.79it/s]\u001b[A\u001b[A\n",
      "\n",
      " 51%|█████▏    | 87531520/170498071 [00:58<00:54, 1517217.95it/s]\u001b[A\u001b[A\n",
      "\n",
      " 51%|█████▏    | 87695360/170498071 [00:58<00:54, 1517783.76it/s]\u001b[A\u001b[A\n",
      "\n",
      " 52%|█████▏    | 87851008/170498071 [00:58<00:54, 1507764.78it/s]\u001b[A\u001b[A\n",
      "\n",
      " 52%|█████▏    | 88006656/170498071 [00:59<00:54, 1504285.69it/s]\u001b[A\u001b[A\n",
      "\n",
      " 52%|█████▏    | 88170496/170498071 [00:59<00:54, 1519273.04it/s]\u001b[A\u001b[A\n",
      "\n",
      " 52%|█████▏    | 88334336/170498071 [00:59<00:53, 1525836.08it/s]\u001b[A\u001b[A\n",
      "\n",
      " 52%|█████▏    | 88489984/170498071 [00:59<00:54, 1514485.22it/s]\u001b[A\u001b[A\n",
      "\n",
      " 52%|█████▏    | 88645632/170498071 [00:59<00:54, 1509825.74it/s]\u001b[A\u001b[A\n",
      "\n",
      " 52%|█████▏    | 88809472/170498071 [00:59<00:53, 1520390.58it/s]\u001b[A\u001b[A\n",
      "\n",
      " 52%|█████▏    | 88965120/170498071 [00:59<00:53, 1513788.15it/s]\u001b[A\u001b[A\n",
      "\n"
     ]
    },
    {
     "name": "stderr",
     "output_type": "stream",
     "text": [
      " 52%|█████▏    | 89128960/170498071 [00:59<00:53, 1520860.85it/s]\u001b[A\u001b[A\n",
      "\n",
      " 52%|█████▏    | 89284608/170498071 [00:59<00:53, 1517241.37it/s]\u001b[A\u001b[A\n",
      "\n",
      " 52%|█████▏    | 89448448/170498071 [00:59<00:53, 1520690.01it/s]\u001b[A\u001b[A\n",
      "\n",
      " 53%|█████▎    | 89604096/170498071 [01:00<00:53, 1514138.14it/s]\u001b[A\u001b[A\n",
      "\n",
      " 53%|█████▎    | 89767936/170498071 [01:00<00:52, 1523879.80it/s]\u001b[A\u001b[A\n",
      "\n",
      " 53%|█████▎    | 89923584/170498071 [01:00<00:53, 1517591.87it/s]\u001b[A\u001b[A\n",
      "\n",
      " 53%|█████▎    | 90087424/170498071 [01:00<00:52, 1525423.36it/s]\u001b[A\u001b[A\n",
      "\n",
      " 53%|█████▎    | 90243072/170498071 [01:00<00:52, 1518208.60it/s]\u001b[A\u001b[A\n",
      "\n",
      " 53%|█████▎    | 90406912/170498071 [01:00<00:54, 1458528.26it/s]\u001b[A\u001b[A\n",
      "\n",
      " 53%|█████▎    | 90587136/170498071 [01:00<00:51, 1545758.04it/s]\u001b[A\u001b[A\n",
      "\n",
      " 53%|█████▎    | 90750976/170498071 [01:00<00:51, 1545681.00it/s]\u001b[A\u001b[A\n",
      "\n",
      " 53%|█████▎    | 90914816/170498071 [01:00<00:51, 1547592.34it/s]\u001b[A\u001b[A\n",
      "\n",
      " 53%|█████▎    | 91070464/170498071 [01:01<00:51, 1529964.72it/s]\u001b[A\u001b[A\n",
      "\n",
      " 54%|█████▎    | 91226112/170498071 [01:01<00:52, 1521387.67it/s]\u001b[A\u001b[A\n",
      "\n",
      " 54%|█████▎    | 91381760/170498071 [01:01<00:51, 1521698.30it/s]\u001b[A\u001b[A\n",
      "\n",
      " 54%|█████▎    | 91537408/170498071 [01:01<00:52, 1513775.53it/s]\u001b[A\u001b[A\n",
      "\n",
      " 54%|█████▍    | 91693056/170498071 [01:01<00:52, 1510113.31it/s]\u001b[A\u001b[A\n",
      "\n",
      " 54%|█████▍    | 91848704/170498071 [01:01<00:52, 1510819.57it/s]\u001b[A\u001b[A\n",
      "\n",
      " 54%|█████▍    | 92004352/170498071 [01:01<00:52, 1504590.17it/s]\u001b[A\u001b[A\n",
      "\n",
      " 54%|█████▍    | 92160000/170498071 [01:01<00:51, 1508508.28it/s]\u001b[A\u001b[A\n",
      "\n",
      " 54%|█████▍    | 92315648/170498071 [01:01<00:51, 1506112.81it/s]\u001b[A\u001b[A\n",
      "\n",
      " 54%|█████▍    | 92471296/170498071 [01:01<00:51, 1508908.41it/s]\u001b[A\u001b[A\n",
      "\n",
      " 54%|█████▍    | 92635136/170498071 [01:02<00:51, 1518410.56it/s]\u001b[A\u001b[A\n",
      "\n",
      " 54%|█████▍    | 92790784/170498071 [01:02<00:51, 1508793.76it/s]\u001b[A\u001b[A\n",
      "\n",
      " 55%|█████▍    | 92954624/170498071 [01:02<00:51, 1518320.23it/s]\u001b[A\u001b[A\n",
      "\n",
      " 55%|█████▍    | 93110272/170498071 [01:02<00:51, 1513490.01it/s]\u001b[A\u001b[A\n",
      "\n",
      " 55%|█████▍    | 93274112/170498071 [01:02<00:50, 1522704.23it/s]\u001b[A\u001b[A\n",
      "\n",
      " 55%|█████▍    | 93429760/170498071 [01:02<00:50, 1514751.59it/s]\u001b[A\u001b[A\n",
      "\n",
      " 55%|█████▍    | 93585408/170498071 [01:02<00:50, 1511728.25it/s]\u001b[A\u001b[A\n",
      "\n",
      " 55%|█████▍    | 93749248/170498071 [01:02<00:50, 1515172.66it/s]\u001b[A\u001b[A\n",
      "\n",
      " 55%|█████▌    | 93904896/170498071 [01:02<00:50, 1505172.64it/s]\u001b[A\u001b[A\n",
      "\n",
      " 55%|█████▌    | 94068736/170498071 [01:03<00:50, 1526512.24it/s]\u001b[A\u001b[A\n",
      "\n",
      " 55%|█████▌    | 94224384/170498071 [01:03<00:50, 1513475.30it/s]\u001b[A\u001b[A\n",
      "\n",
      " 55%|█████▌    | 94388224/170498071 [01:03<00:50, 1517040.48it/s]\u001b[A\u001b[A\n",
      "\n",
      " 55%|█████▌    | 94543872/170498071 [01:03<00:50, 1516534.72it/s]\u001b[A\u001b[A\n",
      "\n",
      " 56%|█████▌    | 94707712/170498071 [01:03<00:49, 1521650.25it/s]\u001b[A\u001b[A\n",
      "\n",
      " 56%|█████▌    | 94863360/170498071 [01:03<00:49, 1518861.20it/s]\u001b[A\u001b[A\n",
      "\n",
      " 56%|█████▌    | 95019008/170498071 [01:03<00:49, 1513328.27it/s]\u001b[A\u001b[A\n",
      "\n",
      " 56%|█████▌    | 95182848/170498071 [01:03<00:49, 1515670.37it/s]\u001b[A\u001b[A\n",
      "\n",
      " 56%|█████▌    | 95338496/170498071 [01:03<00:49, 1509994.92it/s]\u001b[A\u001b[A\n",
      "\n",
      " 56%|█████▌    | 95502336/170498071 [01:03<00:49, 1527145.36it/s]\u001b[A\u001b[A\n",
      "\n",
      " 56%|█████▌    | 95657984/170498071 [01:04<00:49, 1514753.93it/s]\u001b[A\u001b[A\n",
      "\n",
      " 56%|█████▌    | 95821824/170498071 [01:04<00:49, 1504707.72it/s]\u001b[A\u001b[A\n",
      "\n",
      " 56%|█████▋    | 95985664/170498071 [01:04<00:48, 1532458.80it/s]\u001b[A\u001b[A\n",
      "\n",
      " 56%|█████▋    | 96141312/170498071 [01:04<00:48, 1521688.10it/s]\u001b[A\u001b[A\n",
      "\n",
      " 56%|█████▋    | 96296960/170498071 [01:04<00:48, 1519363.76it/s]\u001b[A\u001b[A\n",
      "\n",
      " 57%|█████▋    | 96460800/170498071 [01:04<00:48, 1523898.29it/s]\u001b[A\u001b[A\n",
      "\n",
      " 57%|█████▋    | 96616448/170498071 [01:04<00:48, 1515765.37it/s]\u001b[A\u001b[A\n",
      "\n",
      " 57%|█████▋    | 96780288/170498071 [01:04<00:48, 1524461.80it/s]\u001b[A\u001b[A\n",
      "\n",
      " 57%|█████▋    | 96935936/170498071 [01:04<00:48, 1527317.15it/s]\u001b[A\u001b[A\n",
      "\n",
      " 57%|█████▋    | 97091584/170498071 [01:05<00:48, 1510445.53it/s]\u001b[A\u001b[A\n",
      "\n",
      " 57%|█████▋    | 97255424/170498071 [01:05<00:48, 1520382.29it/s]\u001b[A\u001b[A\n",
      "\n",
      " 57%|█████▋    | 97411072/170498071 [01:05<00:48, 1499104.57it/s]\u001b[A\u001b[A\n",
      "\n",
      " 57%|█████▋    | 97574912/170498071 [01:05<00:48, 1516622.51it/s]\u001b[A\u001b[A\n",
      "\n",
      " 57%|█████▋    | 97730560/170498071 [01:05<00:48, 1512748.20it/s]\u001b[A\u001b[A\n",
      "\n",
      " 57%|█████▋    | 97894400/170498071 [01:05<00:47, 1523428.79it/s]\u001b[A\u001b[A\n",
      "\n",
      " 58%|█████▊    | 98050048/170498071 [01:05<00:47, 1519216.12it/s]\u001b[A\u001b[A\n",
      "\n",
      " 58%|█████▊    | 98205696/170498071 [01:05<00:47, 1512779.43it/s]\u001b[A\u001b[A\n",
      "\n",
      " 58%|█████▊    | 98369536/170498071 [01:05<00:47, 1520644.49it/s]\u001b[A\u001b[A\n",
      "\n",
      " 58%|█████▊    | 98525184/170498071 [01:05<00:47, 1502338.53it/s]\u001b[A\u001b[A\n",
      "\n",
      " 58%|█████▊    | 98689024/170498071 [01:06<00:46, 1528306.14it/s]\u001b[A\u001b[A\n",
      "\n",
      " 58%|█████▊    | 98844672/170498071 [01:06<00:47, 1521290.36it/s]\u001b[A\u001b[A\n",
      "\n",
      " 58%|█████▊    | 99008512/170498071 [01:06<00:47, 1517561.63it/s]\u001b[A\u001b[A\n",
      "\n",
      " 58%|█████▊    | 99164160/170498071 [01:06<00:47, 1516676.17it/s]\u001b[A\u001b[A\n",
      "\n",
      " 58%|█████▊    | 99328000/170498071 [01:06<00:47, 1513624.10it/s]\u001b[A\u001b[A\n",
      "\n",
      " 58%|█████▊    | 99483648/170498071 [01:06<00:46, 1519401.74it/s]\u001b[A\u001b[A\n",
      "\n",
      " 58%|█████▊    | 99639296/170498071 [01:06<00:47, 1503869.57it/s]\u001b[A\u001b[A\n",
      "\n",
      " 59%|█████▊    | 99803136/170498071 [01:06<00:46, 1519056.49it/s]\u001b[A\u001b[A\n",
      "\n",
      " 59%|█████▊    | 99958784/170498071 [01:06<00:46, 1520533.45it/s]\u001b[A\u001b[A\n",
      "\n",
      " 59%|█████▊    | 100122624/170498071 [01:07<00:46, 1524138.43it/s]\u001b[A\u001b[A\n",
      "\n",
      " 59%|█████▉    | 100278272/170498071 [01:07<00:46, 1515390.13it/s]\u001b[A\u001b[A\n",
      "\n",
      " 59%|█████▉    | 100442112/170498071 [01:07<00:46, 1520230.77it/s]\u001b[A\u001b[A\n",
      "\n",
      " 59%|█████▉    | 100597760/170498071 [01:07<00:46, 1516771.70it/s]\u001b[A\u001b[A\n",
      "\n",
      " 59%|█████▉    | 100761600/170498071 [01:07<00:45, 1520936.13it/s]\u001b[A\u001b[A\n",
      "\n",
      " 59%|█████▉    | 100917248/170498071 [01:07<00:45, 1518634.34it/s]\u001b[A\u001b[A\n",
      "\n",
      " 59%|█████▉    | 101072896/170498071 [01:07<00:45, 1514241.45it/s]\u001b[A\u001b[A\n",
      "\n",
      " 59%|█████▉    | 101236736/170498071 [01:07<00:45, 1511686.36it/s]\u001b[A\u001b[A\n",
      "\n",
      " 59%|█████▉    | 101392384/170498071 [01:07<00:45, 1515614.33it/s]\u001b[A\u001b[A\n",
      "\n",
      " 60%|█████▉    | 101556224/170498071 [01:07<00:45, 1515935.34it/s]\u001b[A\u001b[A\n",
      "\n",
      " 60%|█████▉    | 101711872/170498071 [01:08<00:45, 1519632.37it/s]\u001b[A\u001b[A\n",
      "\n",
      " 60%|█████▉    | 101875712/170498071 [01:08<00:45, 1518181.23it/s]\u001b[A\u001b[A\n",
      "\n",
      " 60%|█████▉    | 102031360/170498071 [01:08<00:45, 1510361.90it/s]\u001b[A\u001b[A\n",
      "\n",
      " 60%|█████▉    | 102195200/170498071 [01:08<00:44, 1520369.39it/s]\u001b[A\u001b[A\n",
      "\n",
      " 60%|██████    | 102350848/170498071 [01:08<00:45, 1507260.18it/s]\u001b[A\u001b[A\n",
      "\n",
      " 60%|██████    | 102506496/170498071 [01:08<00:44, 1519801.68it/s]\u001b[A\u001b[A\n",
      "\n",
      " 60%|██████    | 102670336/170498071 [01:08<00:44, 1517431.52it/s]\u001b[A\u001b[A\n",
      "\n",
      " 60%|██████    | 102825984/170498071 [01:08<00:44, 1517752.96it/s]\u001b[A\u001b[A\n",
      "\n",
      " 60%|██████    | 102989824/170498071 [01:08<00:44, 1520864.91it/s]\u001b[A\u001b[A\n",
      "\n",
      " 60%|██████    | 103145472/170498071 [01:09<00:44, 1519767.15it/s]\u001b[A\u001b[A\n",
      "\n",
      " 61%|██████    | 103309312/170498071 [01:09<00:44, 1520071.81it/s]\u001b[A\u001b[A\n",
      "\n",
      " 61%|██████    | 103464960/170498071 [01:09<00:44, 1513691.16it/s]\u001b[A\u001b[A\n",
      "\n",
      " 61%|██████    | 103620608/170498071 [01:09<00:55, 1203296.34it/s]\u001b[A\u001b[A\n",
      "\n",
      " 61%|██████    | 103882752/170498071 [01:09<00:48, 1384175.54it/s]\u001b[A\u001b[A\n",
      "\n",
      " 61%|██████    | 104046592/170498071 [01:09<00:46, 1429910.00it/s]\u001b[A\u001b[A\n",
      "\n",
      " 61%|██████    | 104210432/170498071 [01:09<00:45, 1468203.57it/s]\u001b[A\u001b[A\n",
      "\n",
      " 61%|██████    | 104366080/170498071 [01:09<00:44, 1473664.93it/s]\u001b[A\u001b[A\n",
      "\n",
      " 61%|██████▏   | 104529920/170498071 [01:09<00:44, 1490347.88it/s]\u001b[A\u001b[A\n",
      "\n",
      " 61%|██████▏   | 104685568/170498071 [01:10<00:43, 1499489.83it/s]\u001b[A\u001b[A\n",
      "\n",
      " 61%|██████▏   | 104849408/170498071 [01:10<00:43, 1510856.43it/s]\u001b[A\u001b[A\n",
      "\n",
      " 62%|██████▏   | 105005056/170498071 [01:10<00:43, 1508281.41it/s]\u001b[A\u001b[A\n",
      "\n",
      " 62%|██████▏   | 105168896/170498071 [01:10<00:42, 1522018.66it/s]\u001b[A\u001b[A\n",
      "\n",
      " 62%|██████▏   | 105324544/170498071 [01:10<00:43, 1500377.11it/s]\u001b[A\u001b[A\n",
      "\n",
      " 62%|██████▏   | 105488384/170498071 [01:10<00:42, 1517757.22it/s]\u001b[A\u001b[A\n",
      "\n",
      " 62%|██████▏   | 105644032/170498071 [01:10<00:43, 1503960.74it/s]\u001b[A\u001b[A\n",
      "\n",
      " 62%|██████▏   | 105807872/170498071 [01:10<00:42, 1522038.74it/s]\u001b[A\u001b[A\n",
      "\n",
      " 62%|██████▏   | 105963520/170498071 [01:10<00:42, 1511044.59it/s]\u001b[A\u001b[A\n",
      "\n",
      " 62%|██████▏   | 106119168/170498071 [01:11<00:42, 1516126.49it/s]\u001b[A\u001b[A\n",
      "\n",
      " 62%|██████▏   | 106283008/170498071 [01:11<00:42, 1526819.16it/s]\u001b[A\u001b[A\n",
      "\n",
      " 62%|██████▏   | 106438656/170498071 [01:11<00:42, 1515392.00it/s]\u001b[A\u001b[A\n",
      "\n",
      " 63%|██████▎   | 106602496/170498071 [01:11<00:41, 1526030.25it/s]\u001b[A\u001b[A\n",
      "\n",
      " 63%|██████▎   | 106758144/170498071 [01:11<00:42, 1514789.91it/s]\u001b[A\u001b[A\n",
      "\n"
     ]
    },
    {
     "name": "stderr",
     "output_type": "stream",
     "text": [
      " 63%|██████▎   | 106921984/170498071 [01:11<00:41, 1526450.67it/s]\u001b[A\u001b[A\n",
      "\n",
      " 63%|██████▎   | 107077632/170498071 [01:11<00:42, 1500598.41it/s]\u001b[A\u001b[A\n",
      "\n",
      " 63%|██████▎   | 107241472/170498071 [01:11<00:41, 1529555.59it/s]\u001b[A\u001b[A\n",
      "\n",
      " 63%|██████▎   | 107397120/170498071 [01:11<00:42, 1501989.12it/s]\u001b[A\u001b[A\n",
      "\n",
      " 63%|██████▎   | 107552768/170498071 [01:11<00:41, 1511857.54it/s]\u001b[A\u001b[A\n",
      "\n",
      " 63%|██████▎   | 107716608/170498071 [01:12<00:41, 1499434.24it/s]\u001b[A\u001b[A\n",
      "\n",
      " 63%|██████▎   | 107888640/170498071 [01:12<00:40, 1556856.07it/s]\u001b[A\u001b[A\n",
      "\n",
      " 63%|██████▎   | 108052480/170498071 [01:12<00:40, 1548898.60it/s]\u001b[A\u001b[A\n",
      "\n",
      " 63%|██████▎   | 108208128/170498071 [01:12<00:40, 1532064.19it/s]\u001b[A\u001b[A\n",
      "\n",
      " 64%|██████▎   | 108363776/170498071 [01:12<00:40, 1521919.01it/s]\u001b[A\u001b[A\n",
      "\n",
      " 64%|██████▎   | 108519424/170498071 [01:12<00:41, 1506249.40it/s]\u001b[A\u001b[A\n",
      "\n",
      " 64%|██████▎   | 108675072/170498071 [01:12<00:40, 1508364.25it/s]\u001b[A\u001b[A\n",
      "\n",
      " 64%|██████▍   | 108830720/170498071 [01:12<00:41, 1486185.23it/s]\u001b[A\u001b[A\n",
      "\n",
      " 64%|██████▍   | 108986368/170498071 [01:12<00:40, 1501613.27it/s]\u001b[A\u001b[A\n",
      "\n",
      " 64%|██████▍   | 109150208/170498071 [01:13<00:40, 1505310.43it/s]\u001b[A\u001b[A\n",
      "\n",
      " 64%|██████▍   | 109305856/170498071 [01:13<00:40, 1500951.74it/s]\u001b[A\u001b[A\n",
      "\n",
      " 64%|██████▍   | 109469696/170498071 [01:13<00:40, 1524771.86it/s]\u001b[A\u001b[A\n",
      "\n",
      " 64%|██████▍   | 109625344/170498071 [01:13<00:40, 1517358.86it/s]\u001b[A\u001b[A\n",
      "\n",
      " 64%|██████▍   | 109789184/170498071 [01:13<00:39, 1521248.33it/s]\u001b[A\u001b[A\n",
      "\n",
      " 64%|██████▍   | 109944832/170498071 [01:13<00:39, 1515922.43it/s]\u001b[A\u001b[A\n",
      "\n",
      " 65%|██████▍   | 110108672/170498071 [01:13<00:39, 1521728.03it/s]\u001b[A\u001b[A\n",
      "\n",
      " 65%|██████▍   | 110264320/170498071 [01:13<00:39, 1516646.85it/s]\u001b[A\u001b[A\n",
      "\n",
      " 65%|██████▍   | 110419968/170498071 [01:13<00:40, 1499509.86it/s]\u001b[A\u001b[A\n",
      "\n",
      " 65%|██████▍   | 110583808/170498071 [01:13<00:39, 1519698.50it/s]\u001b[A\u001b[A\n",
      "\n",
      " 65%|██████▍   | 110739456/170498071 [01:14<00:39, 1510100.67it/s]\u001b[A\u001b[A\n",
      "\n",
      " 65%|██████▌   | 110903296/170498071 [01:14<00:39, 1522958.48it/s]\u001b[A\u001b[A\n",
      "\n",
      " 65%|██████▌   | 111058944/170498071 [01:14<00:39, 1511162.55it/s]\u001b[A\u001b[A\n",
      "\n",
      " 65%|██████▌   | 111222784/170498071 [01:14<00:38, 1522560.78it/s]\u001b[A\u001b[A\n",
      "\n",
      " 65%|██████▌   | 111378432/170498071 [01:14<00:39, 1514373.94it/s]\u001b[A\u001b[A\n",
      "\n",
      " 65%|██████▌   | 111534080/170498071 [01:14<00:39, 1504355.57it/s]\u001b[A\u001b[A\n",
      "\n",
      " 66%|██████▌   | 111697920/170498071 [01:14<00:38, 1522057.77it/s]\u001b[A\u001b[A\n",
      "\n",
      " 66%|██████▌   | 111853568/170498071 [01:14<00:38, 1511163.71it/s]\u001b[A\u001b[A\n",
      "\n",
      " 66%|██████▌   | 112017408/170498071 [01:14<00:38, 1520802.72it/s]\u001b[A\u001b[A\n",
      "\n",
      " 66%|██████▌   | 112173056/170498071 [01:15<00:38, 1510432.71it/s]\u001b[A\u001b[A\n",
      "\n",
      " 66%|██████▌   | 112336896/170498071 [01:15<00:38, 1519846.61it/s]\u001b[A\u001b[A\n",
      "\n",
      " 66%|██████▌   | 112492544/170498071 [01:15<00:38, 1518064.42it/s]\u001b[A\u001b[A\n",
      "\n",
      " 66%|██████▌   | 112656384/170498071 [01:15<00:38, 1517280.37it/s]\u001b[A\u001b[A\n",
      "\n",
      " 66%|██████▌   | 112812032/170498071 [01:15<00:38, 1515120.62it/s]\u001b[A\u001b[A\n",
      "\n",
      " 66%|██████▋   | 112975872/170498071 [01:15<00:37, 1527984.17it/s]\u001b[A\u001b[A\n",
      "\n",
      " 66%|██████▋   | 113131520/170498071 [01:15<00:37, 1522724.23it/s]\u001b[A\u001b[A\n",
      "\n",
      " 66%|██████▋   | 113295360/170498071 [01:15<00:37, 1525755.83it/s]\u001b[A\u001b[A\n",
      "\n",
      " 67%|██████▋   | 113451008/170498071 [01:15<00:37, 1514999.22it/s]\u001b[A\u001b[A\n",
      "\n",
      " 67%|██████▋   | 113606656/170498071 [01:15<00:37, 1509098.31it/s]\u001b[A\u001b[A\n",
      "\n",
      " 67%|██████▋   | 113770496/170498071 [01:16<00:37, 1519402.34it/s]\u001b[A\u001b[A\n",
      "\n",
      " 67%|██████▋   | 113926144/170498071 [01:16<00:37, 1516022.16it/s]\u001b[A\u001b[A\n",
      "\n",
      " 67%|██████▋   | 114089984/170498071 [01:16<00:37, 1518295.22it/s]\u001b[A\u001b[A\n",
      "\n",
      " 67%|██████▋   | 114245632/170498071 [01:16<00:37, 1507271.94it/s]\u001b[A\u001b[A\n",
      "\n",
      " 67%|██████▋   | 114409472/170498071 [01:16<00:36, 1522808.90it/s]\u001b[A\u001b[A\n",
      "\n",
      " 67%|██████▋   | 114565120/170498071 [01:16<00:36, 1519553.43it/s]\u001b[A\u001b[A\n",
      "\n",
      " 67%|██████▋   | 114728960/170498071 [01:16<00:36, 1520891.95it/s]\u001b[A\u001b[A\n",
      "\n",
      " 67%|██████▋   | 114884608/170498071 [01:16<00:36, 1514033.84it/s]\u001b[A\u001b[A\n",
      "\n",
      " 67%|██████▋   | 115040256/170498071 [01:16<00:36, 1512985.60it/s]\u001b[A\u001b[A\n",
      "\n",
      " 68%|██████▊   | 115204096/170498071 [01:16<00:36, 1518840.11it/s]\u001b[A\u001b[A\n",
      "\n",
      " 68%|██████▊   | 115359744/170498071 [01:17<00:36, 1511958.30it/s]\u001b[A\u001b[A\n",
      "\n",
      " 68%|██████▊   | 115523584/170498071 [01:17<00:36, 1518372.89it/s]\u001b[A\u001b[A\n",
      "\n",
      " 68%|██████▊   | 115679232/170498071 [01:17<00:36, 1511889.38it/s]\u001b[A\u001b[A\n",
      "\n",
      " 68%|██████▊   | 115843072/170498071 [01:17<00:35, 1520957.51it/s]\u001b[A\u001b[A\n",
      "\n",
      " 68%|██████▊   | 115998720/170498071 [01:17<00:35, 1517161.67it/s]\u001b[A\u001b[A\n",
      "\n",
      " 68%|██████▊   | 116162560/170498071 [01:17<00:35, 1524607.48it/s]\u001b[A\u001b[A\n",
      "\n",
      " 68%|██████▊   | 116318208/170498071 [01:17<00:35, 1512411.12it/s]\u001b[A\u001b[A\n",
      "\n",
      " 68%|██████▊   | 116473856/170498071 [01:17<00:35, 1506385.78it/s]\u001b[A\u001b[A\n",
      "\n",
      " 68%|██████▊   | 116637696/170498071 [01:17<00:35, 1519255.94it/s]\u001b[A\u001b[A\n",
      "\n",
      " 69%|██████▊   | 116793344/170498071 [01:18<00:35, 1514153.37it/s]\u001b[A\u001b[A\n",
      "\n",
      " 69%|██████▊   | 116957184/170498071 [01:18<00:35, 1523308.91it/s]\u001b[A\u001b[A\n",
      "\n",
      " 69%|██████▊   | 117112832/170498071 [01:18<00:35, 1511094.44it/s]\u001b[A\u001b[A\n",
      "\n",
      " 69%|██████▉   | 117276672/170498071 [01:18<00:34, 1524494.35it/s]\u001b[A\u001b[A\n",
      "\n",
      " 69%|██████▉   | 117440512/170498071 [01:18<00:34, 1535197.86it/s]\u001b[A\u001b[A\n",
      "\n",
      " 69%|██████▉   | 117596160/170498071 [01:18<00:34, 1520651.87it/s]\u001b[A\u001b[A\n",
      "\n",
      " 69%|██████▉   | 117751808/170498071 [01:18<00:34, 1511566.48it/s]\u001b[A\u001b[A\n",
      "\n",
      " 69%|██████▉   | 117915648/170498071 [01:18<00:34, 1523783.83it/s]\u001b[A\u001b[A\n",
      "\n",
      " 69%|██████▉   | 118071296/170498071 [01:18<00:34, 1511160.20it/s]\u001b[A\u001b[A\n",
      "\n",
      " 69%|██████▉   | 118235136/170498071 [01:18<00:34, 1524195.28it/s]\u001b[A\u001b[A\n",
      "\n",
      " 69%|██████▉   | 118390784/170498071 [01:19<00:34, 1518721.85it/s]\u001b[A\u001b[A\n",
      "\n",
      " 70%|██████▉   | 118546432/170498071 [01:19<00:34, 1497864.90it/s]\u001b[A\u001b[A\n",
      "\n",
      " 70%|██████▉   | 118710272/170498071 [01:19<00:33, 1523832.00it/s]\u001b[A\u001b[A\n",
      "\n",
      " 70%|██████▉   | 118874112/170498071 [01:19<00:33, 1527106.13it/s]\u001b[A\u001b[A\n",
      "\n",
      " 70%|██████▉   | 119029760/170498071 [01:19<00:34, 1507654.80it/s]\u001b[A\u001b[A\n",
      "\n",
      " 70%|██████▉   | 119185408/170498071 [01:19<00:49, 1044879.74it/s]\u001b[A\u001b[A\n",
      "\n",
      " 70%|███████   | 119398400/170498071 [01:19<00:43, 1178338.20it/s]\u001b[A\u001b[A\n",
      "\n",
      " 70%|███████   | 119537664/170498071 [01:20<00:43, 1158459.72it/s]\u001b[A\u001b[A\n",
      "\n",
      " 70%|███████   | 119668736/170498071 [01:20<00:43, 1173829.62it/s]\u001b[A\u001b[A\n",
      "\n",
      " 70%|███████   | 119832576/170498071 [01:20<00:39, 1269143.72it/s]\u001b[A\u001b[A\n",
      "\n",
      " 70%|███████   | 119971840/170498071 [01:20<00:43, 1157450.44it/s]\u001b[A\u001b[A\n",
      "\n",
      " 70%|███████   | 120119296/170498071 [01:20<00:40, 1231873.42it/s]\u001b[A\u001b[A\n",
      "\n",
      " 71%|███████   | 120250368/170498071 [01:20<00:52, 962402.98it/s] \u001b[A\u001b[A\n",
      "\n",
      " 71%|███████   | 120397824/170498071 [01:20<00:47, 1058739.60it/s]\u001b[A\u001b[A\n",
      "\n",
      " 71%|███████   | 120520704/170498071 [01:20<00:53, 932679.69it/s] \u001b[A\u001b[A\n",
      "\n",
      " 71%|███████   | 120659968/170498071 [01:21<00:49, 997150.77it/s]\u001b[A\u001b[A\n",
      "\n",
      " 71%|███████   | 120807424/170498071 [01:21<00:45, 1099843.34it/s]\u001b[A\u001b[A\n",
      "\n",
      " 71%|███████   | 120930304/170498071 [01:21<00:45, 1078028.25it/s]\u001b[A\u001b[A\n",
      "\n",
      " 71%|███████   | 121069568/170498071 [01:21<00:43, 1129386.15it/s]\u001b[A\u001b[A\n",
      "\n",
      " 71%|███████   | 121217024/170498071 [01:21<00:40, 1209415.75it/s]\u001b[A\u001b[A\n",
      "\n",
      " 71%|███████   | 121356288/170498071 [01:21<00:39, 1242205.88it/s]\u001b[A\u001b[A\n",
      "\n",
      " 71%|███████▏  | 121487360/170498071 [01:21<00:39, 1230816.57it/s]\u001b[A\u001b[A\n",
      "\n",
      " 71%|███████▏  | 121659392/170498071 [01:21<00:36, 1333915.14it/s]\u001b[A\u001b[A\n",
      "\n",
      " 71%|███████▏  | 121798656/170498071 [01:22<00:44, 1088856.90it/s]\u001b[A\u001b[A\n",
      "\n",
      " 72%|███████▏  | 121995264/170498071 [01:22<00:38, 1254875.12it/s]\u001b[A\u001b[A\n",
      "\n",
      " 72%|███████▏  | 122150912/170498071 [01:22<00:36, 1328797.98it/s]\u001b[A\u001b[A\n",
      "\n",
      " 72%|███████▏  | 122298368/170498071 [01:22<00:35, 1359421.49it/s]\u001b[A\u001b[A\n",
      "\n",
      " 72%|███████▏  | 122445824/170498071 [01:22<00:35, 1354568.47it/s]\u001b[A\u001b[A\n",
      "\n",
      " 72%|███████▏  | 122593280/170498071 [01:22<00:34, 1385087.59it/s]\u001b[A\u001b[A\n",
      "\n",
      " 72%|███████▏  | 122740736/170498071 [01:22<00:33, 1406500.82it/s]\u001b[A\u001b[A\n",
      "\n",
      " 72%|███████▏  | 122896384/170498071 [01:22<00:33, 1433467.97it/s]\u001b[A\u001b[A\n",
      "\n",
      " 72%|███████▏  | 123052032/170498071 [01:22<00:32, 1452808.58it/s]\u001b[A\u001b[A\n",
      "\n",
      " 72%|███████▏  | 123215872/170498071 [01:22<00:32, 1474860.08it/s]\u001b[A\u001b[A\n",
      "\n",
      " 72%|███████▏  | 123379712/170498071 [01:23<00:31, 1497805.50it/s]\u001b[A\u001b[A\n",
      "\n",
      " 72%|███████▏  | 123535360/170498071 [01:23<00:31, 1502452.89it/s]\u001b[A\u001b[A\n",
      "\n",
      " 73%|███████▎  | 123691008/170498071 [01:23<00:30, 1512773.02it/s]\u001b[A\u001b[A\n",
      "\n",
      " 73%|███████▎  | 123854848/170498071 [01:23<00:30, 1510402.63it/s]\u001b[A\u001b[A\n",
      "\n",
      " 73%|███████▎  | 124010496/170498071 [01:23<00:30, 1519758.85it/s]\u001b[A\u001b[A\n",
      "\n"
     ]
    },
    {
     "name": "stderr",
     "output_type": "stream",
     "text": [
      " 73%|███████▎  | 124166144/170498071 [01:23<00:31, 1492346.09it/s]\u001b[A\u001b[A\n",
      "\n",
      " 73%|███████▎  | 124329984/170498071 [01:23<00:30, 1517262.42it/s]\u001b[A\u001b[A\n",
      "\n",
      " 73%|███████▎  | 124485632/170498071 [01:23<00:30, 1514581.89it/s]\u001b[A\u001b[A\n",
      "\n",
      " 73%|███████▎  | 124649472/170498071 [01:23<00:30, 1514359.73it/s]\u001b[A\u001b[A\n",
      "\n",
      " 73%|███████▎  | 124805120/170498071 [01:23<00:29, 1523473.51it/s]\u001b[A\u001b[A\n",
      "\n",
      " 73%|███████▎  | 124960768/170498071 [01:24<00:30, 1507215.74it/s]\u001b[A\u001b[A\n",
      "\n",
      " 73%|███████▎  | 125124608/170498071 [01:24<00:29, 1525285.43it/s]\u001b[A\u001b[A\n",
      "\n",
      " 73%|███████▎  | 125288448/170498071 [01:24<00:29, 1519995.24it/s]\u001b[A\u001b[A\n",
      "\n",
      " 74%|███████▎  | 125444096/170498071 [01:24<00:29, 1520311.77it/s]\u001b[A\u001b[A\n",
      "\n",
      " 74%|███████▎  | 125607936/170498071 [01:24<00:29, 1514478.91it/s]\u001b[A\u001b[A\n",
      "\n",
      " 74%|███████▍  | 125771776/170498071 [01:24<00:29, 1523229.52it/s]\u001b[A\u001b[A\n",
      "\n",
      " 74%|███████▍  | 125927424/170498071 [01:24<00:29, 1517469.38it/s]\u001b[A\u001b[A\n",
      "\n",
      " 74%|███████▍  | 126083072/170498071 [01:24<00:29, 1514050.71it/s]\u001b[A\u001b[A\n",
      "\n",
      " 74%|███████▍  | 126238720/170498071 [01:24<00:29, 1509013.66it/s]\u001b[A\u001b[A\n",
      "\n",
      " 74%|███████▍  | 126394368/170498071 [01:25<00:29, 1500409.84it/s]\u001b[A\u001b[A\n",
      "\n",
      " 74%|███████▍  | 126558208/170498071 [01:25<00:29, 1513760.58it/s]\u001b[A\u001b[A\n",
      "\n",
      " 74%|███████▍  | 126713856/170498071 [01:25<00:28, 1516038.54it/s]\u001b[A\u001b[A\n",
      "\n",
      " 74%|███████▍  | 126877696/170498071 [01:25<00:28, 1529867.78it/s]\u001b[A\u001b[A\n",
      "\n",
      " 75%|███████▍  | 127033344/170498071 [01:25<00:28, 1514300.69it/s]\u001b[A\u001b[A\n",
      "\n",
      " 75%|███████▍  | 127197184/170498071 [01:25<00:28, 1512975.81it/s]\u001b[A\u001b[A\n",
      "\n",
      " 75%|███████▍  | 127352832/170498071 [01:25<00:28, 1512483.38it/s]\u001b[A\u001b[A\n",
      "\n",
      " 75%|███████▍  | 127508480/170498071 [01:25<00:28, 1504906.62it/s]\u001b[A\u001b[A\n",
      "\n",
      " 75%|███████▍  | 127672320/170498071 [01:25<00:28, 1513944.96it/s]\u001b[A\u001b[A\n",
      "\n",
      " 75%|███████▍  | 127827968/170498071 [01:25<00:28, 1511130.09it/s]\u001b[A\u001b[A\n",
      "\n",
      " 75%|███████▌  | 127991808/170498071 [01:26<00:27, 1519163.13it/s]\u001b[A\u001b[A\n",
      "\n",
      " 75%|███████▌  | 128147456/170498071 [01:26<00:27, 1520946.22it/s]\u001b[A\u001b[A\n",
      "\n",
      " 75%|███████▌  | 128303104/170498071 [01:26<00:27, 1513971.42it/s]\u001b[A\u001b[A\n",
      "\n",
      " 75%|███████▌  | 128466944/170498071 [01:26<00:27, 1523625.78it/s]\u001b[A\u001b[A\n",
      "\n",
      " 75%|███████▌  | 128622592/170498071 [01:26<00:27, 1515636.81it/s]\u001b[A\u001b[A\n",
      "\n",
      " 76%|███████▌  | 128786432/170498071 [01:26<00:27, 1510094.72it/s]\u001b[A\u001b[A\n",
      "\n",
      " 76%|███████▌  | 128942080/170498071 [01:26<00:27, 1518838.52it/s]\u001b[A\u001b[A\n",
      "\n",
      " 76%|███████▌  | 129105920/170498071 [01:26<00:27, 1514794.35it/s]\u001b[A\u001b[A\n",
      "\n",
      " 76%|███████▌  | 129261568/170498071 [01:26<00:27, 1517925.89it/s]\u001b[A\u001b[A\n",
      "\n",
      " 76%|███████▌  | 129417216/170498071 [01:27<00:27, 1510860.23it/s]\u001b[A\u001b[A\n",
      "\n",
      " 76%|███████▌  | 129581056/170498071 [01:27<00:27, 1501862.42it/s]\u001b[A\u001b[A\n",
      "\n",
      " 76%|███████▌  | 129736704/170498071 [01:27<00:26, 1514553.84it/s]\u001b[A\u001b[A\n",
      "\n",
      " 76%|███████▌  | 129900544/170498071 [01:27<00:26, 1517491.17it/s]\u001b[A\u001b[A\n",
      "\n",
      " 76%|███████▋  | 130056192/170498071 [01:27<00:26, 1507365.29it/s]\u001b[A\u001b[A\n",
      "\n",
      " 76%|███████▋  | 130220032/170498071 [01:27<00:26, 1515878.51it/s]\u001b[A\u001b[A\n",
      "\n",
      " 76%|███████▋  | 130375680/170498071 [01:27<00:26, 1512138.56it/s]\u001b[A\u001b[A\n",
      "\n",
      " 77%|███████▋  | 130539520/170498071 [01:27<00:26, 1519640.50it/s]\u001b[A\u001b[A\n",
      "\n",
      " 77%|███████▋  | 130695168/170498071 [01:27<00:26, 1517059.09it/s]\u001b[A\u001b[A\n",
      "\n",
      " 77%|███████▋  | 130850816/170498071 [01:27<00:26, 1518952.80it/s]\u001b[A\u001b[A\n",
      "\n",
      " 77%|███████▋  | 131014656/170498071 [01:28<00:26, 1518035.27it/s]\u001b[A\u001b[A\n",
      "\n",
      " 77%|███████▋  | 131170304/170498071 [01:28<00:25, 1521256.70it/s]\u001b[A\u001b[A\n",
      "\n",
      " 77%|███████▋  | 131334144/170498071 [01:28<00:25, 1520577.42it/s]\u001b[A\u001b[A\n",
      "\n",
      " 77%|███████▋  | 131489792/170498071 [01:28<00:25, 1522393.97it/s]\u001b[A\u001b[A\n",
      "\n",
      " 77%|███████▋  | 131653632/170498071 [01:28<00:25, 1512726.16it/s]\u001b[A\u001b[A\n",
      "\n",
      " 77%|███████▋  | 131809280/170498071 [01:28<00:25, 1513609.93it/s]\u001b[A\u001b[A\n",
      "\n",
      " 77%|███████▋  | 131973120/170498071 [01:28<00:25, 1515485.02it/s]\u001b[A\u001b[A\n",
      "\n",
      " 77%|███████▋  | 132128768/170498071 [01:28<00:25, 1517472.11it/s]\u001b[A\u001b[A\n",
      "\n",
      " 78%|███████▊  | 132284416/170498071 [01:28<00:25, 1518038.67it/s]\u001b[A\u001b[A\n",
      "\n",
      " 78%|███████▊  | 132448256/170498071 [01:29<00:25, 1518282.11it/s]\u001b[A\u001b[A\n",
      "\n",
      " 78%|███████▊  | 132603904/170498071 [01:29<00:24, 1518802.08it/s]\u001b[A\u001b[A\n",
      "\n",
      " 78%|███████▊  | 132767744/170498071 [01:29<00:24, 1518575.94it/s]\u001b[A\u001b[A\n",
      "\n",
      " 78%|███████▊  | 132923392/170498071 [01:29<00:24, 1519905.46it/s]\u001b[A\u001b[A\n",
      "\n",
      " 78%|███████▊  | 133087232/170498071 [01:29<00:24, 1518798.88it/s]\u001b[A\u001b[A\n",
      "\n",
      " 78%|███████▊  | 133242880/170498071 [01:29<00:24, 1522793.36it/s]\u001b[A\u001b[A\n",
      "\n",
      " 78%|███████▊  | 133406720/170498071 [01:29<00:24, 1515233.02it/s]\u001b[A\u001b[A\n",
      "\n",
      " 78%|███████▊  | 133562368/170498071 [01:29<00:24, 1511203.88it/s]\u001b[A\u001b[A\n",
      "\n",
      " 78%|███████▊  | 133726208/170498071 [01:29<00:24, 1518975.57it/s]\u001b[A\u001b[A\n",
      "\n",
      " 79%|███████▊  | 133881856/170498071 [01:29<00:24, 1516685.00it/s]\u001b[A\u001b[A\n",
      "\n",
      " 79%|███████▊  | 134037504/170498071 [01:30<00:24, 1518099.08it/s]\u001b[A\u001b[A\n",
      "\n",
      " 79%|███████▊  | 134201344/170498071 [01:30<00:23, 1518316.36it/s]\u001b[A\u001b[A\n",
      "\n",
      " 79%|███████▉  | 134356992/170498071 [01:30<00:23, 1517763.57it/s]\u001b[A\u001b[A\n",
      "\n",
      " 79%|███████▉  | 134520832/170498071 [01:30<00:23, 1519301.76it/s]\u001b[A\u001b[A\n",
      "\n",
      " 79%|███████▉  | 134676480/170498071 [01:30<00:23, 1520253.96it/s]\u001b[A\u001b[A\n",
      "\n",
      " 79%|███████▉  | 134840320/170498071 [01:30<00:23, 1516178.93it/s]\u001b[A\u001b[A\n",
      "\n",
      " 79%|███████▉  | 134995968/170498071 [01:30<00:23, 1512734.69it/s]\u001b[A\u001b[A\n",
      "\n",
      " 79%|███████▉  | 135159808/170498071 [01:30<00:23, 1520374.65it/s]\u001b[A\u001b[A\n",
      "\n",
      " 79%|███████▉  | 135315456/170498071 [01:30<00:23, 1514182.62it/s]\u001b[A\u001b[A\n",
      "\n",
      " 79%|███████▉  | 135471104/170498071 [01:31<00:23, 1516401.40it/s]\u001b[A\u001b[A\n",
      "\n",
      " 80%|███████▉  | 135634944/170498071 [01:31<00:22, 1518055.25it/s]\u001b[A\u001b[A\n",
      "\n",
      " 80%|███████▉  | 135790592/170498071 [01:31<00:22, 1516507.47it/s]\u001b[A\u001b[A\n",
      "\n",
      " 80%|███████▉  | 135954432/170498071 [01:31<00:22, 1520319.16it/s]\u001b[A\u001b[A\n",
      "\n",
      " 80%|███████▉  | 136110080/170498071 [01:31<00:22, 1508843.38it/s]\u001b[A\u001b[A\n",
      "\n",
      " 80%|███████▉  | 136273920/170498071 [01:31<00:22, 1513474.80it/s]\u001b[A\u001b[A\n",
      "\n",
      " 80%|████████  | 136429568/170498071 [01:31<00:22, 1516492.82it/s]\u001b[A\u001b[A\n",
      "\n",
      " 80%|████████  | 136585216/170498071 [01:31<00:26, 1289180.37it/s]\u001b[A\u001b[A\n",
      "\n",
      " 80%|████████  | 136814592/170498071 [01:31<00:23, 1420776.99it/s]\u001b[A\u001b[A\n",
      "\n",
      " 80%|████████  | 136970240/170498071 [01:32<00:23, 1449735.53it/s]\u001b[A\u001b[A\n",
      "\n",
      " 80%|████████  | 137134080/170498071 [01:32<00:22, 1480054.09it/s]\u001b[A\u001b[A\n",
      "\n",
      " 81%|████████  | 137297920/170498071 [01:32<00:22, 1500214.07it/s]\u001b[A\u001b[A\n",
      "\n",
      " 81%|████████  | 137461760/170498071 [01:32<00:21, 1512174.22it/s]\u001b[A\u001b[A\n",
      "\n",
      " 81%|████████  | 137617408/170498071 [01:32<00:21, 1512787.56it/s]\u001b[A\u001b[A\n",
      "\n",
      " 81%|████████  | 137781248/170498071 [01:32<00:21, 1521148.08it/s]\u001b[A\u001b[A\n",
      "\n",
      " 81%|████████  | 137936896/170498071 [01:32<00:21, 1508067.50it/s]\u001b[A\u001b[A\n",
      "\n",
      " 81%|████████  | 138100736/170498071 [01:32<00:21, 1530895.99it/s]\u001b[A\u001b[A\n",
      "\n",
      " 81%|████████  | 138256384/170498071 [01:32<00:21, 1517002.87it/s]\u001b[A\u001b[A\n",
      "\n",
      " 81%|████████  | 138420224/170498071 [01:32<00:21, 1525991.19it/s]\u001b[A\u001b[A\n",
      "\n",
      " 81%|████████▏ | 138575872/170498071 [01:33<00:21, 1515993.41it/s]\u001b[A\u001b[A\n",
      "\n",
      " 81%|████████▏ | 138739712/170498071 [01:33<00:20, 1526477.46it/s]\u001b[A\u001b[A\n",
      "\n",
      " 81%|████████▏ | 138895360/170498071 [01:33<00:20, 1515909.97it/s]\u001b[A\u001b[A\n",
      "\n",
      " 82%|████████▏ | 139059200/170498071 [01:33<00:20, 1516037.01it/s]\u001b[A\u001b[A\n",
      "\n",
      " 82%|████████▏ | 139214848/170498071 [01:33<00:20, 1518071.25it/s]\u001b[A\u001b[A\n",
      "\n",
      " 82%|████████▏ | 139370496/170498071 [01:33<00:20, 1509779.60it/s]\u001b[A\u001b[A\n",
      "\n",
      " 82%|████████▏ | 139534336/170498071 [01:33<00:20, 1517815.12it/s]\u001b[A\u001b[A\n",
      "\n",
      " 82%|████████▏ | 139689984/170498071 [01:33<00:20, 1512956.65it/s]\u001b[A\u001b[A\n",
      "\n",
      " 82%|████████▏ | 139853824/170498071 [01:33<00:20, 1523369.06it/s]\u001b[A\u001b[A\n",
      "\n",
      " 82%|████████▏ | 140009472/170498071 [01:34<00:20, 1515703.86it/s]\u001b[A\u001b[A\n",
      "\n",
      " 82%|████████▏ | 140165120/170498071 [01:34<00:20, 1506471.32it/s]\u001b[A\u001b[A\n",
      "\n",
      " 82%|████████▏ | 140328960/170498071 [01:34<00:19, 1518216.21it/s]\u001b[A\u001b[A\n",
      "\n",
      " 82%|████████▏ | 140484608/170498071 [01:34<00:19, 1510267.69it/s]\u001b[A\u001b[A\n",
      "\n",
      " 82%|████████▏ | 140648448/170498071 [01:34<00:19, 1519643.95it/s]\u001b[A\u001b[A\n",
      "\n",
      " 83%|████████▎ | 140804096/170498071 [01:34<00:19, 1512811.28it/s]\u001b[A\u001b[A\n",
      "\n",
      " 83%|████████▎ | 140967936/170498071 [01:34<00:19, 1521298.23it/s]\u001b[A\u001b[A\n",
      "\n",
      " 83%|████████▎ | 141123584/170498071 [01:34<00:19, 1516400.80it/s]\u001b[A\u001b[A\n",
      "\n",
      " 83%|████████▎ | 141287424/170498071 [01:34<00:19, 1517987.43it/s]\u001b[A\u001b[A\n",
      "\n",
      " 83%|████████▎ | 141451264/170498071 [01:34<00:19, 1498940.53it/s]\u001b[A\u001b[A\n",
      "\n",
      " 83%|████████▎ | 141615104/170498071 [01:35<00:18, 1536687.18it/s]\u001b[A\u001b[A\n",
      "\n"
     ]
    },
    {
     "name": "stderr",
     "output_type": "stream",
     "text": [
      " 83%|████████▎ | 141770752/170498071 [01:35<00:18, 1522397.25it/s]\u001b[A\u001b[A\n",
      "\n",
      " 83%|████████▎ | 141926400/170498071 [01:35<00:18, 1519586.88it/s]\u001b[A\u001b[A\n",
      "\n",
      " 83%|████████▎ | 142082048/170498071 [01:35<00:18, 1511074.16it/s]\u001b[A\u001b[A\n",
      "\n",
      " 83%|████████▎ | 142245888/170498071 [01:35<00:18, 1519410.74it/s]\u001b[A\u001b[A\n",
      "\n",
      " 84%|████████▎ | 142401536/170498071 [01:35<00:18, 1511556.76it/s]\u001b[A\u001b[A\n",
      "\n",
      " 84%|████████▎ | 142557184/170498071 [01:35<00:18, 1499446.65it/s]\u001b[A\u001b[A\n",
      "\n",
      " 84%|████████▎ | 142721024/170498071 [01:35<00:18, 1504536.33it/s]\u001b[A\u001b[A\n",
      "\n",
      " 84%|████████▍ | 142884864/170498071 [01:35<00:18, 1518202.22it/s]\u001b[A\u001b[A\n",
      "\n",
      " 84%|████████▍ | 143040512/170498071 [01:36<00:18, 1510358.62it/s]\u001b[A\u001b[A\n",
      "\n",
      " 84%|████████▍ | 143196160/170498071 [01:36<00:18, 1509231.96it/s]\u001b[A\u001b[A\n",
      "\n",
      " 84%|████████▍ | 143360000/170498071 [01:36<00:17, 1515322.64it/s]\u001b[A\u001b[A\n",
      "\n",
      " 84%|████████▍ | 143515648/170498071 [01:36<00:17, 1510479.53it/s]\u001b[A\u001b[A\n",
      "\n",
      " 84%|████████▍ | 143679488/170498071 [01:36<00:17, 1508718.02it/s]\u001b[A\u001b[A\n",
      "\n",
      " 84%|████████▍ | 143835136/170498071 [01:36<00:17, 1500922.30it/s]\u001b[A\u001b[A\n",
      "\n",
      " 84%|████████▍ | 143990784/170498071 [01:36<00:17, 1504126.84it/s]\u001b[A\u001b[A\n",
      "\n",
      " 85%|████████▍ | 144154624/170498071 [01:36<00:17, 1514664.36it/s]\u001b[A\u001b[A\n",
      "\n",
      " 85%|████████▍ | 144318464/170498071 [01:36<00:17, 1521750.72it/s]\u001b[A\u001b[A\n",
      "\n",
      " 85%|████████▍ | 144474112/170498071 [01:36<00:17, 1506550.05it/s]\u001b[A\u001b[A\n",
      "\n",
      " 85%|████████▍ | 144629760/170498071 [01:37<00:17, 1509105.69it/s]\u001b[A\u001b[A\n",
      "\n",
      " 85%|████████▍ | 144793600/170498071 [01:37<00:16, 1515221.51it/s]\u001b[A\u001b[A\n",
      "\n",
      " 85%|████████▌ | 144949248/170498071 [01:37<00:16, 1509942.82it/s]\u001b[A\u001b[A\n",
      "\n",
      " 85%|████████▌ | 145113088/170498071 [01:37<00:16, 1515429.08it/s]\u001b[A\u001b[A\n",
      "\n",
      " 85%|████████▌ | 145268736/170498071 [01:37<00:16, 1511618.60it/s]\u001b[A\u001b[A\n",
      "\n",
      " 85%|████████▌ | 145424384/170498071 [01:37<00:16, 1507808.36it/s]\u001b[A\u001b[A\n",
      "\n",
      " 85%|████████▌ | 145588224/170498071 [01:37<00:16, 1510656.63it/s]\u001b[A\u001b[A\n",
      "\n",
      " 85%|████████▌ | 145743872/170498071 [01:37<00:16, 1494797.84it/s]\u001b[A\u001b[A\n",
      "\n",
      " 86%|████████▌ | 145907712/170498071 [01:37<00:16, 1507101.41it/s]\u001b[A\u001b[A\n",
      "\n",
      " 86%|████████▌ | 146071552/170498071 [01:38<00:16, 1516327.80it/s]\u001b[A\u001b[A\n",
      "\n",
      " 86%|████████▌ | 146227200/170498071 [01:38<00:16, 1512715.38it/s]\u001b[A\u001b[A\n",
      "\n",
      " 86%|████████▌ | 146391040/170498071 [01:38<00:15, 1521626.46it/s]\u001b[A\u001b[A\n",
      "\n",
      " 86%|████████▌ | 146546688/170498071 [01:38<00:15, 1511793.94it/s]\u001b[A\u001b[A\n",
      "\n",
      " 86%|████████▌ | 146702336/170498071 [01:38<00:15, 1496574.84it/s]\u001b[A\u001b[A\n",
      "\n",
      " 86%|████████▌ | 146866176/170498071 [01:38<00:15, 1513544.03it/s]\u001b[A\u001b[A\n",
      "\n",
      " 86%|████████▌ | 147021824/170498071 [01:38<00:15, 1499115.25it/s]\u001b[A\u001b[A\n",
      "\n",
      " 86%|████████▋ | 147177472/170498071 [01:38<00:15, 1493426.13it/s]\u001b[A\u001b[A\n",
      "\n",
      " 86%|████████▋ | 147341312/170498071 [01:38<00:15, 1499504.50it/s]\u001b[A\u001b[A\n",
      "\n",
      " 87%|████████▋ | 147505152/170498071 [01:39<00:15, 1511033.30it/s]\u001b[A\u001b[A\n",
      "\n",
      " 87%|████████▋ | 147660800/170498071 [01:39<00:15, 1493576.29it/s]\u001b[A\u001b[A\n",
      "\n",
      " 87%|████████▋ | 147816448/170498071 [01:39<00:15, 1496438.97it/s]\u001b[A\u001b[A\n",
      "\n",
      " 87%|████████▋ | 147980288/170498071 [01:39<00:15, 1500859.03it/s]\u001b[A\u001b[A\n",
      "\n",
      " 87%|████████▋ | 148135936/170498071 [01:39<00:15, 1487203.90it/s]\u001b[A\u001b[A\n",
      "\n",
      " 87%|████████▋ | 148291584/170498071 [01:39<00:14, 1488202.73it/s]\u001b[A\u001b[A\n",
      "\n",
      " 87%|████████▋ | 148455424/170498071 [01:39<00:14, 1492670.96it/s]\u001b[A\u001b[A\n",
      "\n",
      " 87%|████████▋ | 148611072/170498071 [01:39<00:14, 1493220.27it/s]\u001b[A\u001b[A\n",
      "\n",
      " 87%|████████▋ | 148774912/170498071 [01:39<00:14, 1504370.33it/s]\u001b[A\u001b[A\n",
      "\n",
      " 87%|████████▋ | 148930560/170498071 [01:39<00:14, 1501500.25it/s]\u001b[A\u001b[A\n",
      "\n",
      " 87%|████████▋ | 149094400/170498071 [01:40<00:14, 1511848.40it/s]\u001b[A\u001b[A\n",
      "\n",
      " 88%|████████▊ | 149250048/170498071 [01:40<00:14, 1508078.13it/s]\u001b[A\u001b[A\n",
      "\n",
      " 88%|████████▊ | 149413888/170498071 [01:40<00:14, 1501186.38it/s]\u001b[A\u001b[A\n",
      "\n",
      " 88%|████████▊ | 149569536/170498071 [01:40<00:13, 1496007.11it/s]\u001b[A\u001b[A\n",
      "\n",
      " 88%|████████▊ | 149725184/170498071 [01:40<00:13, 1506853.07it/s]\u001b[A\u001b[A\n",
      "\n",
      " 88%|████████▊ | 149889024/170498071 [01:40<00:13, 1516274.26it/s]\u001b[A\u001b[A\n",
      "\n",
      " 88%|████████▊ | 150044672/170498071 [01:40<00:13, 1490079.11it/s]\u001b[A\u001b[A\n",
      "\n",
      " 88%|████████▊ | 150208512/170498071 [01:40<00:13, 1514230.75it/s]\u001b[A\u001b[A\n",
      "\n",
      " 88%|████████▊ | 150364160/170498071 [01:40<00:13, 1516053.80it/s]\u001b[A\u001b[A\n",
      "\n",
      " 88%|████████▊ | 150528000/170498071 [01:41<00:13, 1525962.03it/s]\u001b[A\u001b[A\n",
      "\n",
      " 88%|████████▊ | 150683648/170498071 [01:41<00:13, 1521495.53it/s]\u001b[A\u001b[A\n",
      "\n",
      " 88%|████████▊ | 150847488/170498071 [01:41<00:12, 1525224.12it/s]\u001b[A\u001b[A\n",
      "\n",
      " 89%|████████▊ | 151003136/170498071 [01:41<00:12, 1515419.07it/s]\u001b[A\u001b[A\n",
      "\n",
      " 89%|████████▊ | 151158784/170498071 [01:41<00:12, 1501588.87it/s]\u001b[A\u001b[A\n",
      "\n",
      " 89%|████████▉ | 151322624/170498071 [01:41<00:12, 1523867.32it/s]\u001b[A\u001b[A\n",
      "\n",
      " 89%|████████▉ | 151478272/170498071 [01:41<00:12, 1505884.25it/s]\u001b[A\u001b[A\n",
      "\n",
      " 89%|████████▉ | 151642112/170498071 [01:41<00:12, 1521439.08it/s]\u001b[A\u001b[A\n",
      "\n",
      " 89%|████████▉ | 151797760/170498071 [01:41<00:12, 1504092.54it/s]\u001b[A\u001b[A\n",
      "\n",
      " 89%|████████▉ | 151961600/170498071 [01:41<00:12, 1527988.73it/s]\u001b[A\u001b[A\n",
      "\n",
      " 89%|████████▉ | 152117248/170498071 [01:42<00:12, 1517546.42it/s]\u001b[A\u001b[A\n",
      "\n",
      " 89%|████████▉ | 152281088/170498071 [01:42<00:12, 1498125.90it/s]\u001b[A\u001b[A\n",
      "\n",
      " 89%|████████▉ | 152453120/170498071 [01:42<00:11, 1547473.84it/s]\u001b[A\u001b[A\n",
      "\n",
      " 90%|████████▉ | 152608768/170498071 [01:42<00:11, 1525057.82it/s]\u001b[A\u001b[A\n",
      "\n",
      " 90%|████████▉ | 152764416/170498071 [01:42<00:11, 1524244.18it/s]\u001b[A\u001b[A\n",
      "\n",
      " 90%|████████▉ | 152920064/170498071 [01:42<00:11, 1515716.64it/s]\u001b[A\u001b[A\n",
      "\n",
      " 90%|████████▉ | 153075712/170498071 [01:42<00:11, 1512501.87it/s]\u001b[A\u001b[A\n",
      "\n",
      " 90%|████████▉ | 153239552/170498071 [01:42<00:11, 1521315.58it/s]\u001b[A\u001b[A\n",
      "\n",
      " 90%|████████▉ | 153395200/170498071 [01:42<00:11, 1507385.62it/s]\u001b[A\u001b[A\n",
      "\n",
      " 90%|█████████ | 153550848/170498071 [01:43<00:12, 1390830.78it/s]\u001b[A\u001b[A\n",
      "\n",
      " 90%|█████████ | 153739264/170498071 [01:43<00:11, 1484801.49it/s]\u001b[A\u001b[A\n",
      "\n",
      " 90%|█████████ | 153894912/170498071 [01:43<00:11, 1477690.60it/s]\u001b[A\u001b[A\n",
      "\n",
      " 90%|█████████ | 154066944/170498071 [01:43<00:10, 1542216.34it/s]\u001b[A\u001b[A\n",
      "\n",
      " 90%|█████████ | 154230784/170498071 [01:43<00:10, 1515013.85it/s]\u001b[A\u001b[A\n",
      "\n",
      " 91%|█████████ | 154419200/170498071 [01:43<00:10, 1606579.51it/s]\u001b[A\u001b[A\n",
      "\n",
      " 91%|█████████ | 154583040/170498071 [01:43<00:10, 1528894.57it/s]\u001b[A\u001b[A\n",
      "\n",
      " 91%|█████████ | 154763264/170498071 [01:43<00:09, 1599120.06it/s]\u001b[A\u001b[A\n",
      "\n",
      " 91%|█████████ | 154927104/170498071 [01:43<00:09, 1587621.21it/s]\u001b[A\u001b[A\n",
      "\n",
      " 91%|█████████ | 155090944/170498071 [01:44<00:11, 1361299.60it/s]\u001b[A\u001b[A\n",
      "\n",
      " 91%|█████████ | 155303936/170498071 [01:44<00:10, 1477757.85it/s]\u001b[A\u001b[A\n",
      "\n",
      " 91%|█████████ | 155467776/170498071 [01:44<00:10, 1493783.14it/s]\u001b[A\u001b[A\n",
      "\n",
      " 91%|█████████▏| 155623424/170498071 [01:44<00:09, 1496985.83it/s]\u001b[A\u001b[A\n",
      "\n",
      " 91%|█████████▏| 155787264/170498071 [01:44<00:09, 1508674.54it/s]\u001b[A\u001b[A\n",
      "\n",
      " 91%|█████████▏| 155951104/170498071 [01:44<00:09, 1503679.87it/s]\u001b[A\u001b[A\n",
      "\n",
      " 92%|█████████▏| 156106752/170498071 [01:44<00:09, 1516621.56it/s]\u001b[A\u001b[A\n",
      "\n",
      " 92%|█████████▏| 156270592/170498071 [01:44<00:09, 1525196.89it/s]\u001b[A\u001b[A\n",
      "\n",
      " 92%|█████████▏| 156426240/170498071 [01:44<00:09, 1509497.87it/s]\u001b[A\u001b[A\n",
      "\n",
      " 92%|█████████▏| 156590080/170498071 [01:45<00:09, 1510543.32it/s]\u001b[A\u001b[A\n",
      "\n",
      " 92%|█████████▏| 156745728/170498071 [01:45<00:09, 1501702.27it/s]\u001b[A\u001b[A\n",
      "\n",
      " 92%|█████████▏| 156901376/170498071 [01:45<00:09, 1510536.58it/s]\u001b[A\u001b[A\n",
      "\n",
      " 92%|█████████▏| 157065216/170498071 [01:45<00:08, 1515414.47it/s]\u001b[A\u001b[A\n",
      "\n",
      " 92%|█████████▏| 157220864/170498071 [01:45<00:08, 1502541.63it/s]\u001b[A\u001b[A\n",
      "\n",
      " 92%|█████████▏| 157384704/170498071 [01:45<00:08, 1511288.96it/s]\u001b[A\u001b[A\n",
      "\n",
      " 92%|█████████▏| 157540352/170498071 [01:45<00:08, 1497804.06it/s]\u001b[A\u001b[A\n",
      "\n",
      " 92%|█████████▏| 157704192/170498071 [01:45<00:08, 1519337.83it/s]\u001b[A\u001b[A\n",
      "\n",
      " 93%|█████████▎| 157859840/170498071 [01:45<00:08, 1504964.57it/s]\u001b[A\u001b[A\n",
      "\n",
      " 93%|█████████▎| 158023680/170498071 [01:45<00:08, 1517448.18it/s]\u001b[A\u001b[A\n",
      "\n",
      " 93%|█████████▎| 158179328/170498071 [01:46<00:08, 1507992.61it/s]\u001b[A\u001b[A\n",
      "\n",
      " 93%|█████████▎| 158334976/170498071 [01:46<00:08, 1508248.26it/s]\u001b[A\u001b[A\n",
      "\n",
      " 93%|█████████▎| 158498816/170498071 [01:46<00:07, 1515982.59it/s]\u001b[A\u001b[A\n",
      "\n",
      " 93%|█████████▎| 158654464/170498071 [01:46<00:07, 1513100.60it/s]\u001b[A\u001b[A\n",
      "\n",
      " 93%|█████████▎| 158818304/170498071 [01:46<00:07, 1519190.20it/s]\u001b[A\u001b[A\n",
      "\n",
      " 93%|█████████▎| 158982144/170498071 [01:46<00:07, 1515426.09it/s]\u001b[A\u001b[A\n",
      "\n",
      " 93%|█████████▎| 159145984/170498071 [01:46<00:07, 1529353.55it/s]\u001b[A\u001b[A\n",
      "\n",
      " 93%|█████████▎| 159301632/170498071 [01:46<00:07, 1529266.41it/s]\u001b[A\u001b[A\n",
      "\n"
     ]
    },
    {
     "name": "stderr",
     "output_type": "stream",
     "text": [
      " 94%|█████████▎| 159457280/170498071 [01:46<00:07, 1508508.76it/s]\u001b[A\u001b[A\n",
      "\n",
      " 94%|█████████▎| 159612928/170498071 [01:47<00:07, 1511632.99it/s]\u001b[A\u001b[A\n",
      "\n",
      " 94%|█████████▎| 159776768/170498071 [01:47<00:07, 1524453.81it/s]\u001b[A\u001b[A\n",
      "\n",
      " 94%|█████████▍| 159932416/170498071 [01:47<00:07, 1501601.60it/s]\u001b[A\u001b[A\n",
      "\n",
      " 94%|█████████▍| 160088064/170498071 [01:47<00:06, 1513630.82it/s]\u001b[A\u001b[A\n",
      "\n",
      " 94%|█████████▍| 160251904/170498071 [01:47<00:06, 1516909.73it/s]\u001b[A\u001b[A\n",
      "\n",
      " 94%|█████████▍| 160415744/170498071 [01:47<00:06, 1534783.31it/s]\u001b[A\u001b[A\n",
      "\n",
      " 94%|█████████▍| 160571392/170498071 [01:47<00:06, 1517054.92it/s]\u001b[A\u001b[A\n",
      "\n",
      " 94%|█████████▍| 160727040/170498071 [01:47<00:06, 1510552.79it/s]\u001b[A\u001b[A\n",
      "\n",
      " 94%|█████████▍| 160890880/170498071 [01:47<00:06, 1525837.34it/s]\u001b[A\u001b[A\n",
      "\n",
      " 94%|█████████▍| 161046528/170498071 [01:47<00:06, 1497966.29it/s]\u001b[A\u001b[A\n",
      "\n",
      " 95%|█████████▍| 161210368/170498071 [01:48<00:06, 1527759.55it/s]\u001b[A\u001b[A\n",
      "\n",
      " 95%|█████████▍| 161366016/170498071 [01:48<00:06, 1518196.96it/s]\u001b[A\u001b[A\n",
      "\n",
      " 95%|█████████▍| 161521664/170498071 [01:48<00:05, 1508874.17it/s]\u001b[A\u001b[A\n",
      "\n",
      " 95%|█████████▍| 161685504/170498071 [01:48<00:05, 1515550.29it/s]\u001b[A\u001b[A\n",
      "\n",
      " 95%|█████████▍| 161849344/170498071 [01:48<00:05, 1518841.56it/s]\u001b[A\u001b[A\n",
      "\n",
      " 95%|█████████▌| 162004992/170498071 [01:48<00:05, 1514793.62it/s]\u001b[A\u001b[A\n",
      "\n",
      " 95%|█████████▌| 162168832/170498071 [01:48<00:05, 1507105.24it/s]\u001b[A\u001b[A\n",
      "\n",
      " 95%|█████████▌| 162324480/170498071 [01:48<00:05, 1515828.65it/s]\u001b[A\u001b[A\n",
      "\n",
      " 95%|█████████▌| 162488320/170498071 [01:48<00:05, 1525618.41it/s]\u001b[A\u001b[A\n",
      "\n",
      " 95%|█████████▌| 162643968/170498071 [01:49<00:05, 1508764.16it/s]\u001b[A\u001b[A\n",
      "\n",
      " 95%|█████████▌| 162799616/170498071 [01:49<00:05, 1503110.72it/s]\u001b[A\u001b[A\n",
      "\n",
      " 96%|█████████▌| 162963456/170498071 [01:49<00:04, 1516001.96it/s]\u001b[A\u001b[A\n",
      "\n",
      " 96%|█████████▌| 163119104/170498071 [01:49<00:04, 1495365.26it/s]\u001b[A\u001b[A\n",
      "\n",
      " 96%|█████████▌| 163282944/170498071 [01:49<00:04, 1525374.99it/s]\u001b[A\u001b[A\n",
      "\n",
      " 96%|█████████▌| 163438592/170498071 [01:49<00:04, 1512706.26it/s]\u001b[A\u001b[A\n",
      "\n",
      " 96%|█████████▌| 163594240/170498071 [01:49<00:04, 1490263.21it/s]\u001b[A\u001b[A\n",
      "\n",
      " 96%|█████████▌| 163749888/170498071 [01:49<00:04, 1499093.09it/s]\u001b[A\u001b[A\n",
      "\n",
      " 96%|█████████▌| 163913728/170498071 [01:49<00:04, 1494043.93it/s]\u001b[A\u001b[A\n",
      "\n",
      " 96%|█████████▌| 164077568/170498071 [01:49<00:04, 1522432.58it/s]\u001b[A\u001b[A\n",
      "\n",
      " 96%|█████████▋| 164233216/170498071 [01:50<00:04, 1518593.48it/s]\u001b[A\u001b[A\n",
      "\n",
      " 96%|█████████▋| 164388864/170498071 [01:50<00:04, 1510660.08it/s]\u001b[A\u001b[A\n",
      "\n",
      " 97%|█████████▋| 164552704/170498071 [01:50<00:03, 1514085.03it/s]\u001b[A\u001b[A\n",
      "\n",
      " 97%|█████████▋| 164708352/170498071 [01:50<00:03, 1510170.63it/s]\u001b[A\u001b[A\n",
      "\n",
      " 97%|█████████▋| 164872192/170498071 [01:50<00:03, 1519777.81it/s]\u001b[A\u001b[A\n",
      "\n",
      " 97%|█████████▋| 165036032/170498071 [01:50<00:03, 1526280.92it/s]\u001b[A\u001b[A\n",
      "\n",
      " 97%|█████████▋| 165191680/170498071 [01:50<00:03, 1515950.62it/s]\u001b[A\u001b[A\n",
      "\n",
      " 97%|█████████▋| 165355520/170498071 [01:50<00:03, 1519166.31it/s]\u001b[A\u001b[A\n",
      "\n",
      " 97%|█████████▋| 165511168/170498071 [01:50<00:03, 1502097.20it/s]\u001b[A\u001b[A\n",
      "\n",
      " 97%|█████████▋| 165675008/170498071 [01:51<00:03, 1513307.04it/s]\u001b[A\u001b[A\n",
      "\n",
      " 97%|█████████▋| 165830656/170498071 [01:51<00:03, 1505604.40it/s]\u001b[A\u001b[A\n",
      "\n",
      " 97%|█████████▋| 165994496/170498071 [01:51<00:03, 1499165.48it/s]\u001b[A\u001b[A\n",
      "\n",
      " 97%|█████████▋| 166158336/170498071 [01:51<00:02, 1532583.39it/s]\u001b[A\u001b[A\n",
      "\n",
      " 98%|█████████▊| 166313984/170498071 [01:51<00:02, 1524213.92it/s]\u001b[A\u001b[A\n",
      "\n",
      " 98%|█████████▊| 166469632/170498071 [01:51<00:02, 1505093.00it/s]\u001b[A\u001b[A\n",
      "\n",
      " 98%|█████████▊| 166633472/170498071 [01:51<00:02, 1521880.03it/s]\u001b[A\u001b[A\n",
      "\n",
      " 98%|█████████▊| 166789120/170498071 [01:51<00:02, 1508882.73it/s]\u001b[A\u001b[A\n",
      "\n",
      " 98%|█████████▊| 166952960/170498071 [01:51<00:02, 1524141.98it/s]\u001b[A\u001b[A\n",
      "\n",
      " 98%|█████████▊| 167108608/170498071 [01:51<00:02, 1496195.35it/s]\u001b[A\u001b[A\n",
      "\n",
      " 98%|█████████▊| 167264256/170498071 [01:52<00:02, 1491777.84it/s]\u001b[A\u001b[A\n",
      "\n",
      " 98%|█████████▊| 167428096/170498071 [01:52<00:02, 1517386.76it/s]\u001b[A\u001b[A\n",
      "\n",
      " 98%|█████████▊| 167591936/170498071 [01:52<00:01, 1525290.49it/s]\u001b[A\u001b[A\n",
      "\n",
      " 98%|█████████▊| 167747584/170498071 [01:52<00:01, 1519469.05it/s]\u001b[A\u001b[A\n",
      "\n",
      " 98%|█████████▊| 167911424/170498071 [01:52<00:01, 1514576.09it/s]\u001b[A\u001b[A\n",
      "\n",
      " 99%|█████████▊| 168067072/170498071 [01:52<00:01, 1521454.72it/s]\u001b[A\u001b[A\n",
      "\n",
      " 99%|█████████▊| 168230912/170498071 [01:52<00:01, 1525886.29it/s]\u001b[A\u001b[A\n",
      "\n",
      " 99%|█████████▉| 168386560/170498071 [01:52<00:01, 1509851.06it/s]\u001b[A\u001b[A\n",
      "\n",
      " 99%|█████████▉| 168542208/170498071 [01:52<00:01, 1514524.82it/s]\u001b[A\u001b[A\n",
      "\n",
      " 99%|█████████▉| 168706048/170498071 [01:53<00:01, 1519518.26it/s]\u001b[A\u001b[A\n",
      "\n",
      " 99%|█████████▉| 168861696/170498071 [01:53<00:01, 1517303.81it/s]\u001b[A\u001b[A\n",
      "\n",
      " 99%|█████████▉| 169017344/170498071 [01:53<00:00, 1524718.96it/s]\u001b[A\u001b[A\n",
      "\n",
      " 99%|█████████▉| 169172992/170498071 [01:53<00:00, 1486324.76it/s]\u001b[A\u001b[A\n",
      "\n",
      " 99%|█████████▉| 169345024/170498071 [01:53<00:00, 1515960.15it/s]\u001b[A\u001b[A\n",
      "\n",
      " 99%|█████████▉| 169500672/170498071 [01:53<00:00, 1494376.65it/s]\u001b[A\u001b[A\n",
      "\n",
      "100%|█████████▉| 169664512/170498071 [01:53<00:00, 1504681.56it/s]\u001b[A\u001b[A\n",
      "\n",
      "100%|█████████▉| 169828352/170498071 [01:53<00:00, 1517617.69it/s]\u001b[A\u001b[A\n",
      "\n",
      "100%|█████████▉| 169984000/170498071 [01:53<00:00, 1503181.29it/s]\u001b[A\u001b[A\n",
      "\n",
      "100%|█████████▉| 170147840/170498071 [01:53<00:00, 1508669.28it/s]\u001b[A\u001b[A\n",
      "\n",
      "100%|█████████▉| 170303488/170498071 [01:54<00:00, 1516722.27it/s]\u001b[A\u001b[A\n",
      "\n",
      "100%|█████████▉| 170459136/170498071 [01:54<00:00, 1341247.92it/s]\u001b[A\u001b[A"
     ]
    },
    {
     "name": "stdout",
     "output_type": "stream",
     "text": [
      "Extracting ./data/eval_cifar10/cifar-10-python.tar.gz to ./data/eval_cifar10\n"
     ]
    }
   ],
   "source": [
    "# define pytorch transformation into tensor format\n",
    "transf = torchvision.transforms.Compose([torchvision.transforms.ToTensor(), torchvision.transforms.Normalize((0.5, 0.5, 0.5), (0.5, 0.5, 0.5))])\n",
    "\n",
    "# download and transform validation images\n",
    "cifar10_eval_data = torchvision.datasets.CIFAR10(root=eval_path, train=False, transform=transf, download=True)"
   ]
  },
  {
   "cell_type": "markdown",
   "metadata": {},
   "source": [
    "Verify the volume of validation images downloaded:"
   ]
  },
  {
   "cell_type": "code",
   "execution_count": 19,
   "metadata": {},
   "outputs": [
    {
     "data": {
      "text/plain": [
       "10000"
      ]
     },
     "execution_count": 19,
     "metadata": {},
     "output_type": "execute_result"
    }
   ],
   "source": [
    "# get the length of the training data\n",
    "len(cifar10_eval_data)"
   ]
  },
  {
   "cell_type": "markdown",
   "metadata": {},
   "source": [
    "### 2. Neural Network Implementation"
   ]
  },
  {
   "cell_type": "markdown",
   "metadata": {},
   "source": [
    "In this section we, will implement the architecture of the **neural network** we aim to utilize to learn a model that is capable of classifying the 32x32 pixel CIFAR 10 images according to the objects contained in each image. However, before we start the implementation, let's briefly revisit the process to be established. The following cartoon provides a birds-eye view:"
   ]
  },
  {
   "cell_type": "markdown",
   "metadata": {},
   "source": [
    "<img align=\"center\" style=\"max-width: 900px\" src=\"process.png\">"
   ]
  },
  {
   "cell_type": "markdown",
   "metadata": {},
   "source": [
    "Our CNN, which we name 'CIFAR10Net' and aim to implement consists of two **convolutional layers** and three **fully-connected layers**. In general, convolutional layers are specifically designed to learn a set of **high-level features** (\"patterns\") in the processed images, e.g., tiny edges and shapes. The fully-connected layers utilize the learned features to learn **non-linear feature combinations** that allow for highly accurate classification of the image content into the different image classes of the CIFAR-10 dataset, such as, birds, aeroplanes, horses."
   ]
  },
  {
   "cell_type": "markdown",
   "metadata": {},
   "source": [
    "Let's implement the network architecture and subsequently have a more in-depth look into its architectural details:"
   ]
  },
  {
   "cell_type": "code",
   "execution_count": 20,
   "metadata": {},
   "outputs": [],
   "source": [
    "# implement the CIFAR10Net network architecture\n",
    "class CIFAR10Net(nn.Module):\n",
    "    \n",
    "    # define the class constructor\n",
    "    def __init__(self):\n",
    "        \n",
    "        # call super class constructor\n",
    "        super(CIFAR10Net, self).__init__()\n",
    "        \n",
    "        # specify convolution layer 1\n",
    "        self.conv1 = nn.Conv2d(in_channels=3, out_channels=6, kernel_size=5, stride=1, padding=0)\n",
    "        \n",
    "        # define max-pooling layer 1\n",
    "        self.pool1 = nn.MaxPool2d(kernel_size=2, stride=2)\n",
    "        \n",
    "        # specify convolution layer 2\n",
    "        self.conv2 = nn.Conv2d(in_channels=6, out_channels=16, kernel_size=5, stride=1, padding=0)\n",
    "        \n",
    "        # define max-pooling layer 2\n",
    "        self.pool2 = nn.MaxPool2d(kernel_size=2, stride=2)\n",
    "        \n",
    "        # specify fc layer 1 - in 16 * 5 * 5, out 120\n",
    "        self.linear1 = nn.Linear(16 * 5 * 5, 120, bias=True) # the linearity W*x+b\n",
    "        self.relu1 = nn.ReLU(inplace=True) # the non-linearity\n",
    "        \n",
    "        # specify fc layer 2 - in 120, out 84\n",
    "        self.linear2 = nn.Linear(120, 84, bias=True) # the linearity W*x+b\n",
    "        self.relu2 = nn.ReLU(inplace=True) # the non-linarity\n",
    "        \n",
    "        # specify fc layer 3 - in 84, out 10\n",
    "        self.linear3 = nn.Linear(84, 10) # the linearity W*x+b\n",
    "        \n",
    "        # add a softmax to the last layer\n",
    "        self.logsoftmax = nn.LogSoftmax(dim=1) # the softmax\n",
    "        \n",
    "    # define network forward pass\n",
    "    def forward(self, images):\n",
    "        \n",
    "        # high-level feature learning via convolutional layers\n",
    "        \n",
    "        # define conv layer 1 forward pass\n",
    "        x = self.pool1(self.relu1(self.conv1(images)))\n",
    "        \n",
    "        # define conv layer 2 forward pass\n",
    "        x = self.pool2(self.relu2(self.conv2(x)))\n",
    "        \n",
    "        # feature flattening\n",
    "        \n",
    "        # reshape image pixels\n",
    "        x = x.view(-1, 16 * 5 * 5)\n",
    "        \n",
    "        # combination of feature learning via non-linear layers\n",
    "        \n",
    "        # define fc layer 1 forward pass\n",
    "        x = self.relu1(self.linear1(x))\n",
    "        \n",
    "        # define fc layer 2 forward pass\n",
    "        x = self.relu2(self.linear2(x))\n",
    "        \n",
    "        # define layer 3 forward pass\n",
    "        x = self.logsoftmax(self.linear3(x))\n",
    "        \n",
    "        # return forward pass result\n",
    "        return x"
   ]
  },
  {
   "cell_type": "markdown",
   "metadata": {},
   "source": [
    "You may have noticed that we applied two more layers (compared to the MNIST example described in the last lab) before the fully-connected layers. These layers are referred to as **convolutional** layers and are usually comprised of three operations, (1) **convolution**, (2) **non-linearity**, and (3) **max-pooling**. Those operations are usually executed in sequential order during the forward pass through a convolutional layer."
   ]
  },
  {
   "cell_type": "markdown",
   "metadata": {},
   "source": [
    "In the following, we will have a detailed look into the functionality and number of parameters in each layer. We will start with providing images of 3x32x32 dimensions to the network, i.e., the three channels (red, green, blue) of an image each of size 32x32 pixels."
   ]
  },
  {
   "cell_type": "markdown",
   "metadata": {},
   "source": [
    "#### 2.1. High-Level Feature Learning by Convolutional Layers"
   ]
  },
  {
   "cell_type": "markdown",
   "metadata": {},
   "source": [
    "Let's first have a look into the convolutional layers of the network as illustrated in the following:"
   ]
  },
  {
   "cell_type": "markdown",
   "metadata": {},
   "source": [
    "<img align=\"center\" style=\"max-width: 600px\" src=\"convolutions.png\">"
   ]
  },
  {
   "cell_type": "markdown",
   "metadata": {},
   "source": [
    "**First Convolutional Layer**: The first convolutional layer expects three input channels and will convolve six filters each of size 3x5x5. Let's briefly revisit how we can perform a convolutional operation on a given image. For that, we need to define a kernel which is a matrix of size 5x5, for example. To perform the convolution operation, we slide the kernel along with the image horizontally and vertically and obtain the dot product of the kernel and the pixel values of the image inside the kernel ('receptive field' of the kernel)."
   ]
  },
  {
   "cell_type": "markdown",
   "metadata": {},
   "source": [
    "The following illustration shows an example of a discrete convolution:"
   ]
  },
  {
   "cell_type": "markdown",
   "metadata": {},
   "source": [
    "<img align=\"center\" style=\"max-width: 800px\" src=\"convsample.png\">"
   ]
  },
  {
   "cell_type": "markdown",
   "metadata": {},
   "source": [
    "The left grid is called the input (an image or feature map). The middle grid, referred to as kernel, slides across the input feature map (or image). At each location, the product between each element of the kernel and the input element it overlaps is computed, and the results are summed up to obtain the output in the current location. In general, a discrete convolution is mathematically expressed by:"
   ]
  },
  {
   "cell_type": "markdown",
   "metadata": {},
   "source": [
    "<center> $y(m, n) = x(m, n) * h(m, n) = \\sum^{m}_{j=0} \\sum^{n}_{i=0} x(i, j) * h(m-i, n-j)$, </center>"
   ]
  },
  {
   "cell_type": "markdown",
   "metadata": {},
   "source": [
    "where $x$ denotes the input image or feature map, $h$ the applied kernel, and, $y$ the output."
   ]
  },
  {
   "cell_type": "markdown",
   "metadata": {},
   "source": [
    "When performing the convolution operation the 'stride' defines the number of pixels to pass at a time when sliding the kernel over the input. While 'padding' adds the number of pixels to the input image (or feature map) to ensure that the output has the same shape as the input. Let's have a look at another animated example:"
   ]
  },
  {
   "cell_type": "markdown",
   "metadata": {},
   "source": [
    "<img align=\"center\" style=\"max-width: 800px\" src=\"convsample_animated.gif\">"
   ]
  },
  {
   "cell_type": "markdown",
   "metadata": {},
   "source": [
    "(Source: https://towardsdatascience.com/a-comprehensive-guide-to-convolutional-neural-networks-the-eli5-way-3bd2b1164a53)\n",
    "\n",
    "In our implementation padding is set to 0 and stride is set to 1. As a result, the output size of the convolutional layer becomes 6x28x28, because (32 - 5) + 1 = 28. This layer exhibits ((5 x 5 x 3) + 1) x 6 = 456 parameter. "
   ]
  },
  {
   "cell_type": "markdown",
   "metadata": {},
   "source": [
    "**First Max-Pooling Layer:** The max-pooling process is a sample-based discretization operation. The objective is to down-sample an input representation (image, hidden-layer output matrix, etc.), reducing its dimensionality and allowing for assumptions to be made about features contained in the sub-regions binned.\n",
    "\n",
    "To conduct such an operation, we again need to define a kernel. Max-pooling kernels are usually a tiny matrix of, e.g, of size 2x2. To perform the max-pooling operation, we slide the kernel along the image horizontally and vertically (similarly to a convolution) and compute the maximum pixel value of the image (or feature map) inside the kernel (the receptive field of the kernel)."
   ]
  },
  {
   "cell_type": "markdown",
   "metadata": {},
   "source": [
    "The following illustration shows an example of a max-pooling operation:"
   ]
  },
  {
   "cell_type": "markdown",
   "metadata": {},
   "source": [
    "<img align=\"center\" style=\"max-width: 500px\" src=\"poolsample.png\">"
   ]
  },
  {
   "cell_type": "markdown",
   "metadata": {},
   "source": [
    "The left grid is called the input (an image or feature map). The middle grid, referred to as kernel, slides across the input feature map (or image). We use a stride of 2, meaning the step distance for stepping over our input will be 2 pixels and won't overlap regions. At each location, the max value of the region that overlaps with the elements of the kernel and the input elements it overlaps is computed, and the results are obtained in the output of the current location."
   ]
  },
  {
   "cell_type": "markdown",
   "metadata": {},
   "source": [
    "In our implementation, we do max-pooling with a 2x2 kernel and stride 2 this effectively drops the original image size from 6x28x28 to 6x14x14. Let's have a look at an exemplary visualization of 64 features learnt in the first convolutional layer on the CIFAR- 10 dataset."
   ]
  },
  {
   "cell_type": "markdown",
   "metadata": {},
   "source": [
    "<img align=\"center\" style=\"max-width: 600px\" src=\"cnnfeatures.png\">\n",
    "\n",
    "(Source: Yu, Dingjun, Hanli Wang, Peiqiu Chen, and Zhihua Wei. **\"Mixed pooling for convolutional neural networks.\"** In International conference on rough sets and knowledge technology, pp. 364-375. Springer, Cham, 2014)"
   ]
  },
  {
   "cell_type": "markdown",
   "metadata": {},
   "source": [
    "**Second Convolutional Layer:** The second convolutional layer expects 6 input channels and will convolve 16 filters each of size 6x5x5x. Since padding is set to 0 and stride is set 1, the output size is 16x10x10, because (14  - 5) + 1 = 10. This layer therefore has ((5 x 5 x 6) + 1 x 16) = 24,16 parameter.\n",
    "\n",
    "**Second Max-Pooling Layer:** The second down-sampling layer uses max-pooling with 2x2 kernel and stride set to 2. This effectively drops the size from 16x10x10 to 16x5x5. "
   ]
  },
  {
   "cell_type": "markdown",
   "metadata": {},
   "source": [
    "#### 2.2. Feature Flattening\n",
    "\n",
    "The output of the final-max pooling layer needs to be flattened so that we can connect it to a fully connected layer. This is achieved using the `torch.Tensor.view` method. Setting the parameter of the method to `-1` will automatically infer the number of rows required to handle the mini-batch size of the data. "
   ]
  },
  {
   "cell_type": "markdown",
   "metadata": {},
   "source": [
    "#### 2.3. Learning of Feature Combinations"
   ]
  },
  {
   "cell_type": "markdown",
   "metadata": {},
   "source": [
    "Let's now have a look into the non-linear layers of the network illustrated in the following:"
   ]
  },
  {
   "cell_type": "markdown",
   "metadata": {},
   "source": [
    "<img align=\"center\" style=\"max-width: 600px\" src=\"fullyconnected.png\">"
   ]
  },
  {
   "cell_type": "markdown",
   "metadata": {},
   "source": [
    "The first fully connected layer uses 'Rectified Linear Units' (ReLU) activation functions to learn potential nonlinear combinations of features. The layers are implemented similarly to the fifth lab. Therefore, we will only focus on the number of parameters of each fully-connected layer:"
   ]
  },
  {
   "cell_type": "markdown",
   "metadata": {},
   "source": [
    "**First Fully-Connected Layer:** The first fully-connected layer consists of 120 neurons, thus in total exhibits ((16 x 5 x 5) + 1) x 120 = 48,120 parameter. \n",
    "\n",
    "**Second Fully-Connected Layer:** The output of the first fully-connected layer is then transferred to second fully-connected layer. The layer consists of 84 neurons equipped with ReLu activation functions, this in total exhibits (120 + 1) x 84 = 10,164 parameter."
   ]
  },
  {
   "cell_type": "markdown",
   "metadata": {},
   "source": [
    "The output of the second fully-connected layer is then transferred to the output-layer (third fully-connected layer). The output layer is equipped with a softmax (that you learned about in the previous lab 05) and is made up of ten neurons, one for each object class contained in the CIFAR-10 dataset. This layer exhibits (84 + 1) x 10 = 850 parameter.\n",
    "\n",
    "\n",
    "As a result our CIFAR-10 convolutional neural exhibits a total of 456 + 2,416 + 48,120 + 10,164 + 850 = 62,006 parameter.\n",
    "\n",
    "(Source: https://www.stefanfiott.com/machine-learning/cifar-10-classifier-using-cnn-in-pytorch/)"
   ]
  },
  {
   "cell_type": "markdown",
   "metadata": {},
   "source": [
    "Now, that we have implemented our first Convolutional Neural Network we are ready to instantiate a network model to be trained:"
   ]
  },
  {
   "cell_type": "code",
   "execution_count": 21,
   "metadata": {},
   "outputs": [],
   "source": [
    "model = CIFAR10Net()"
   ]
  },
  {
   "cell_type": "markdown",
   "metadata": {},
   "source": [
    "Let's push the initialized `CIFAR10Net` model to the computing `device` that is enabled:"
   ]
  },
  {
   "cell_type": "code",
   "execution_count": 22,
   "metadata": {},
   "outputs": [],
   "source": [
    "model = model.to(device)"
   ]
  },
  {
   "cell_type": "markdown",
   "metadata": {},
   "source": [
    "Let's double check if our model was deployed to the GPU if available:"
   ]
  },
  {
   "cell_type": "code",
   "execution_count": 23,
   "metadata": {},
   "outputs": [
    {
     "name": "stdout",
     "output_type": "stream",
     "text": [
      "/bin/sh: nvidia-smi: command not found\r\n"
     ]
    }
   ],
   "source": [
    "!nvidia-smi"
   ]
  },
  {
   "cell_type": "markdown",
   "metadata": {},
   "source": [
    "Once the model is initialized we can visualize the model structure and review the implemented network architecture by execution of the following cell:"
   ]
  },
  {
   "cell_type": "code",
   "execution_count": 24,
   "metadata": {},
   "outputs": [
    {
     "name": "stdout",
     "output_type": "stream",
     "text": [
      "[LOG] CIFAR10Net architecture:\n",
      "\n",
      "CIFAR10Net(\n",
      "  (conv1): Conv2d(3, 6, kernel_size=(5, 5), stride=(1, 1))\n",
      "  (pool1): MaxPool2d(kernel_size=2, stride=2, padding=0, dilation=1, ceil_mode=False)\n",
      "  (conv2): Conv2d(6, 16, kernel_size=(5, 5), stride=(1, 1))\n",
      "  (pool2): MaxPool2d(kernel_size=2, stride=2, padding=0, dilation=1, ceil_mode=False)\n",
      "  (linear1): Linear(in_features=400, out_features=120, bias=True)\n",
      "  (relu1): ReLU(inplace=True)\n",
      "  (linear2): Linear(in_features=120, out_features=84, bias=True)\n",
      "  (relu2): ReLU(inplace=True)\n",
      "  (linear3): Linear(in_features=84, out_features=10, bias=True)\n",
      "  (logsoftmax): LogSoftmax()\n",
      ")\n",
      "\n"
     ]
    }
   ],
   "source": [
    "# print the initialized architectures\n",
    "print('[LOG] CIFAR10Net architecture:\\n\\n{}\\n'.format(model))"
   ]
  },
  {
   "cell_type": "markdown",
   "metadata": {},
   "source": [
    "Looks like intended? Brilliant! Finally, let's have a look into the number of model parameters that we aim to train in the next steps of the notebook:"
   ]
  },
  {
   "cell_type": "code",
   "execution_count": 25,
   "metadata": {},
   "outputs": [
    {
     "name": "stdout",
     "output_type": "stream",
     "text": [
      "[LOG] Number of to be trained CIFAR10Net model parameters: 62006.\n"
     ]
    }
   ],
   "source": [
    "# init the number of model parameters\n",
    "num_params = 0\n",
    "\n",
    "# iterate over the distinct parameters\n",
    "for param in model.parameters():\n",
    "\n",
    "    # collect number of parameters\n",
    "    num_params += param.numel()\n",
    "    \n",
    "# print the number of model paramters\n",
    "print('[LOG] Number of to be trained CIFAR10Net model parameters: {}.'.format(num_params))"
   ]
  },
  {
   "cell_type": "markdown",
   "metadata": {},
   "source": [
    "Ok, our \"simple\" CIFAR10Net model already encompasses an impressive number 62'006 model parameters to be trained."
   ]
  },
  {
   "cell_type": "markdown",
   "metadata": {},
   "source": [
    "Now that we have implemented the CIFAR10Net, we are ready to train the network. However, before starting the training, we need to define an appropriate loss function. Remember, we aim to train our model to learn a set of model parameters $\\theta$ that minimize the classification error of the true class $c^{i}$ of a given CIFAR-10 image $x^{i}$ and its predicted class $\\hat{c}^{i} = f_\\theta(x^{i})$ as faithfully as possible. \n",
    "\n",
    "In this lab we use (similarly to lab 05) the **'Negative Log-Likelihood (NLL)'** loss. During training the NLL loss will penalize models that result in a high classification error between the predicted class labels $\\hat{c}^{i}$ and their respective true class label $c^{i}$. Now that we have implemented the CIFAR10Net, we are ready to train the network. Before starting the training, we need to define an appropriate loss function. Remember, we aim to train our model to learn a set of model parameters $\\theta$ that minimize the classification error of the true class $c^{i}$ of a given CIFAR-10 image $x^{i}$ and its predicted class $\\hat{c}^{i} = f_\\theta(x^{i})$ as faithfully as possible. "
   ]
  },
  {
   "cell_type": "markdown",
   "metadata": {},
   "source": [
    "Let's instantiate the NLL via the execution of the following PyTorch command:"
   ]
  },
  {
   "cell_type": "code",
   "execution_count": 26,
   "metadata": {},
   "outputs": [],
   "source": [
    "# define the optimization criterion / loss function\n",
    "nll_loss = nn.NLLLoss()"
   ]
  },
  {
   "cell_type": "markdown",
   "metadata": {},
   "source": [
    "Let's also push the initialized `nll_loss` computation to the computing `device` that is enabled:"
   ]
  },
  {
   "cell_type": "code",
   "execution_count": 27,
   "metadata": {},
   "outputs": [],
   "source": [
    "nll_loss = nll_loss.to(device)"
   ]
  },
  {
   "cell_type": "markdown",
   "metadata": {},
   "source": [
    "Based on the loss magnitude of a certain mini-batch PyTorch automatically computes the gradients. But even better, based on the gradient, the library also helps us in the optimization and update of the network parameters $\\theta$.\n",
    "\n",
    "We will use the **Stochastic Gradient Descent (SGD) optimization** and set the `learning-rate to 0.001`. Each mini-batch step the optimizer will update the model parameters $\\theta$ values according to the degree of classification error (the NLL loss)."
   ]
  },
  {
   "cell_type": "code",
   "execution_count": 28,
   "metadata": {},
   "outputs": [],
   "source": [
    "# define learning rate and optimization strategy\n",
    "learning_rate = 0.001\n",
    "optimizer = optim.SGD(params=model.parameters(), lr=learning_rate)"
   ]
  },
  {
   "cell_type": "markdown",
   "metadata": {},
   "source": [
    "Now that we have successfully implemented and defined the three CNN building blocks let's take some time to review the `CIFAR10Net` model definition as well as the `loss`. Please, read the above code and comments carefully and don't hesitate to let us know any questions you might have."
   ]
  },
  {
   "cell_type": "markdown",
   "metadata": {},
   "source": [
    "### 3. Training the Neural Network Model"
   ]
  },
  {
   "cell_type": "markdown",
   "metadata": {},
   "source": [
    "In this section, we will train our neural network model (as implemented in the section above) using the transformed images. More specifically, we will have a detailed look into the distinct training steps as well as how to monitor the training progress."
   ]
  },
  {
   "cell_type": "markdown",
   "metadata": {},
   "source": [
    "#### 3.1. Preparing the Network Training"
   ]
  },
  {
   "cell_type": "markdown",
   "metadata": {},
   "source": [
    "So far, we have pre-processed the dataset, implemented the CNN and defined the classification error. Let's now start to train a corresponding model for **20 epochs** and a **mini-batch size of 128** CIFAR-10 images per batch. This implies that the whole dataset will be fed to the CNN 20 times in chunks of 4 images yielding to **12,500 mini-batches** (50.000 training images / 4 images per mini-batch) per epoch. After the processing of each mini-batch, the parameters of the network will be updated. "
   ]
  },
  {
   "cell_type": "code",
   "execution_count": 29,
   "metadata": {},
   "outputs": [],
   "source": [
    "# specify the training parameters\n",
    "num_epochs = 20 # number of training epochs\n",
    "mini_batch_size = 4 # size of the mini-batches"
   ]
  },
  {
   "cell_type": "markdown",
   "metadata": {},
   "source": [
    "Furthermore, lets specifiy and instantiate a corresponding PyTorch data loader that feeds the image tensors to our neural network:"
   ]
  },
  {
   "cell_type": "code",
   "execution_count": 30,
   "metadata": {},
   "outputs": [],
   "source": [
    "cifar10_train_dataloader = torch.utils.data.DataLoader(cifar10_train_data, batch_size=mini_batch_size, shuffle=True)"
   ]
  },
  {
   "cell_type": "markdown",
   "metadata": {},
   "source": [
    "#### 3.2. Running the Network Training"
   ]
  },
  {
   "cell_type": "markdown",
   "metadata": {},
   "source": [
    "Finally, we start training the model. The training procedure for each mini-batch is performed as follows: \n",
    "\n",
    ">1. do a forward pass through the CIFAR10Net network, \n",
    ">2. compute the negative log-likelihood classification error $\\mathcal{L}^{NLL}_{\\theta}(c^{i};\\hat{c}^{i})$, \n",
    ">3. do a backward pass through the CIFAR10Net network, and \n",
    ">4. update the parameters of the network $f_\\theta(\\cdot)$.\n",
    "\n",
    "To ensure learning while training our CNN model, we will monitor whether the loss decreases with progressing training. Therefore, we obtain and evaluate the classification performance of the entire training dataset after each training epoch. Based on this evaluation, we can conclude on the training progress and whether the loss is converging (indicating that the model might not improve any further).\n",
    "\n",
    "The following elements of the network training code below should be given particular attention:\n",
    " \n",
    ">- `loss.backward()` computes the gradients based on the magnitude of the reconstruction loss,\n",
    ">- `optimizer.step()` updates the network parameters based on the gradient."
   ]
  },
  {
   "cell_type": "code",
   "execution_count": null,
   "metadata": {
    "scrolled": true
   },
   "outputs": [
    {
     "name": "stderr",
     "output_type": "stream",
     "text": [
      "\n",
      "\n",
      "170500096it [02:07, 1341247.92it/s]                               \u001b[A\u001b[A"
     ]
    },
    {
     "name": "stdout",
     "output_type": "stream",
     "text": [
      "[LOG 20200511-09:49:16] epoch: 0 train-loss: 2.238219862680435\n",
      "[LOG 20200511-09:49:46] epoch: 1 train-loss: 1.935777970509529\n",
      "[LOG 20200511-09:50:14] epoch: 2 train-loss: 1.684436317577362\n",
      "[LOG 20200511-09:50:42] epoch: 3 train-loss: 1.5414427460861206\n",
      "[LOG 20200511-09:51:10] epoch: 4 train-loss: 1.4574027087664605\n",
      "[LOG 20200511-09:53:24] epoch: 5 train-loss: 1.3850340257668494\n",
      "[LOG 20200511-09:54:06] epoch: 6 train-loss: 1.3218666888189317\n",
      "[LOG 20200511-09:54:49] epoch: 7 train-loss: 1.265575843114853\n",
      "[LOG 20200511-09:55:26] epoch: 8 train-loss: 1.2157743350499868\n",
      "[LOG 20200511-09:56:00] epoch: 9 train-loss: 1.1745015937310457\n",
      "[LOG 20200511-09:56:33] epoch: 10 train-loss: 1.135681571468711\n",
      "[LOG 20200511-09:57:05] epoch: 11 train-loss: 1.0998355753684044\n",
      "[LOG 20200511-09:57:37] epoch: 12 train-loss: 1.0676548833155632\n",
      "[LOG 20200511-09:58:10] epoch: 13 train-loss: 1.0361538963371515\n",
      "[LOG 20200511-09:58:40] epoch: 14 train-loss: 1.0077817464274168\n",
      "[LOG 20200511-09:59:16] epoch: 15 train-loss: 0.9818167420062422\n",
      "[LOG 20200511-09:59:49] epoch: 16 train-loss: 0.9577325039881468\n",
      "[LOG 20200511-10:00:25] epoch: 17 train-loss: 0.9335133895949275\n"
     ]
    }
   ],
   "source": [
    "# init collection of training epoch losses\n",
    "train_epoch_losses = []\n",
    "\n",
    "# set the model in training mode\n",
    "model.train()\n",
    "\n",
    "# train the CIFAR10 model\n",
    "for epoch in range(num_epochs):\n",
    "    \n",
    "    # init collection of mini-batch losses\n",
    "    train_mini_batch_losses = []\n",
    "    \n",
    "    # iterate over all-mini batches\n",
    "    for i, (images, labels) in enumerate(cifar10_train_dataloader):\n",
    "        \n",
    "        # push mini-batch data to computation device\n",
    "        images = images.to(device)\n",
    "        labels = labels.to(device)\n",
    "\n",
    "        # run forward pass through the network\n",
    "        output = model(images)\n",
    "        \n",
    "        # reset graph gradients\n",
    "        model.zero_grad()\n",
    "        \n",
    "        # determine classification loss\n",
    "        loss = nll_loss(output, labels)\n",
    "        \n",
    "        # run backward pass\n",
    "        loss.backward()\n",
    "        \n",
    "        # update network paramaters\n",
    "        optimizer.step()\n",
    "        \n",
    "        # collect mini-batch reconstruction loss\n",
    "        train_mini_batch_losses.append(loss.data.item())\n",
    "\n",
    "    # determine mean min-batch loss of epoch\n",
    "    train_epoch_loss = np.mean(train_mini_batch_losses)\n",
    "    \n",
    "    # print epoch loss\n",
    "    now = datetime.utcnow().strftime(\"%Y%m%d-%H:%M:%S\")\n",
    "    print('[LOG {}] epoch: {} train-loss: {}'.format(str(now), str(epoch), str(train_epoch_loss)))\n",
    "    \n",
    "    # save model to local directory\n",
    "    model_name = 'cifar10_model_epoch_{}.pth'.format(str(epoch))\n",
    "    torch.save(model.state_dict(), os.path.join(\"./models\", model_name))\n",
    "    \n",
    "    # determine mean min-batch loss of epoch\n",
    "    train_epoch_losses.append(train_epoch_loss)"
   ]
  },
  {
   "cell_type": "markdown",
   "metadata": {},
   "source": [
    "Upon successfull training let's visualize and inspect the training loss per epoch:"
   ]
  },
  {
   "cell_type": "code",
   "execution_count": null,
   "metadata": {},
   "outputs": [],
   "source": [
    "# prepare plot\n",
    "fig = plt.figure()\n",
    "ax = fig.add_subplot(111)\n",
    "\n",
    "# add grid\n",
    "ax.grid(linestyle='dotted')\n",
    "\n",
    "# plot the training epochs vs. the epochs' classification error\n",
    "ax.plot(np.array(range(1, len(train_epoch_losses)+1)), train_epoch_losses, label='epoch loss (blue)')\n",
    "\n",
    "# add axis legends\n",
    "ax.set_xlabel(\"[training epoch $e_i$]\", fontsize=10)\n",
    "ax.set_ylabel(\"[Classification Error $\\mathcal{L}^{NLL}$]\", fontsize=10)\n",
    "\n",
    "# set plot legend\n",
    "plt.legend(loc=\"upper right\", numpoints=1, fancybox=True)\n",
    "\n",
    "# add plot title\n",
    "plt.title('Training Epochs $e_i$ vs. Classification Error $L^{NLL}$', fontsize=10);"
   ]
  },
  {
   "cell_type": "markdown",
   "metadata": {},
   "source": [
    "Ok, fantastic. The training error converges nicely. We could definitely train the network a couple more epochs until the error converges. But let's stay with the 20 training epochs for now and continue with evaluating our trained model."
   ]
  },
  {
   "cell_type": "markdown",
   "metadata": {},
   "source": [
    "### 4. Evaluation of the Trained Neural Network Model"
   ]
  },
  {
   "cell_type": "markdown",
   "metadata": {},
   "source": [
    "Prior to evaluating our model, let's load the best performing model. Remember, that we stored a snapshot of the model after each training epoch to our local model directory. We will now load the last snapshot saved."
   ]
  },
  {
   "cell_type": "code",
   "execution_count": null,
   "metadata": {},
   "outputs": [],
   "source": [
    "# restore pre-trained model snapshot\n",
    "best_model_name = \"cifar10_model_epoch_19.pth\"\n",
    "\n",
    "# init pre-trained model class\n",
    "best_model = CIFAR10Net()\n",
    "\n",
    "# load pre-trained models\n",
    "best_model.load_state_dict(torch.load(os.path.join(\"models\", best_model_name), map_location=torch.device('cpu')))"
   ]
  },
  {
   "cell_type": "markdown",
   "metadata": {},
   "source": [
    "Let's inspect if the model was loaded successfully: "
   ]
  },
  {
   "cell_type": "code",
   "execution_count": null,
   "metadata": {},
   "outputs": [],
   "source": [
    "# set model in evaluation mode\n",
    "best_model.eval()"
   ]
  },
  {
   "cell_type": "markdown",
   "metadata": {},
   "source": [
    "In order to evaluate our trained model, we need to feed the CIFAR10 images reserved for evaluation (the images that we didn't use as part of the training process) through the model. Therefore, let's again define a corresponding PyTorch data loader that feeds the image tensors to our neural network: "
   ]
  },
  {
   "cell_type": "code",
   "execution_count": null,
   "metadata": {},
   "outputs": [],
   "source": [
    "cifar10_eval_dataloader = torch.utils.data.DataLoader(cifar10_eval_data, batch_size=10000, shuffle=False)"
   ]
  },
  {
   "cell_type": "markdown",
   "metadata": {},
   "source": [
    "We will now evaluate the trained model using the same mini-batch approach as we did when training the network and derive the mean negative log-likelihood loss of all mini-batches processed in an epoch:"
   ]
  },
  {
   "cell_type": "code",
   "execution_count": null,
   "metadata": {},
   "outputs": [],
   "source": [
    "# init collection of mini-batch losses\n",
    "eval_mini_batch_losses = []\n",
    "\n",
    "# iterate over all-mini batches\n",
    "for i, (images, labels) in enumerate(cifar10_eval_dataloader):\n",
    "\n",
    "    # run forward pass through the network\n",
    "    output = best_model(images)\n",
    "\n",
    "    # determine classification loss\n",
    "    loss = nll_loss(output, labels)\n",
    "\n",
    "    # collect mini-batch reconstruction loss\n",
    "    eval_mini_batch_losses.append(loss.data.item())\n",
    "\n",
    "# determine mean min-batch loss of epoch\n",
    "eval_loss = np.mean(eval_mini_batch_losses)\n",
    "\n",
    "# print epoch loss\n",
    "now = datetime.utcnow().strftime(\"%Y%m%d-%H:%M:%S\")\n",
    "print('[LOG {}] eval-loss: {}'.format(str(now), str(eval_loss)))"
   ]
  },
  {
   "cell_type": "markdown",
   "metadata": {},
   "source": [
    "Ok, great. The evaluation loss looks in-line with our training loss. Let's now inspect a few sample predictions to get an impression of the model quality. Therefore, we will again pick a random image of our evaluation dataset and retrieve its PyTorch tensor as well as the corresponding label:"
   ]
  },
  {
   "cell_type": "code",
   "execution_count": null,
   "metadata": {},
   "outputs": [],
   "source": [
    "# set (random) image id\n",
    "image_id = 777\n",
    "\n",
    "# retrieve image exhibiting the image id\n",
    "cifar10_eval_image, cifar10_eval_label = cifar10_eval_data[image_id]"
   ]
  },
  {
   "cell_type": "markdown",
   "metadata": {},
   "source": [
    "Let's now inspect the true class of the image we selected:"
   ]
  },
  {
   "cell_type": "code",
   "execution_count": null,
   "metadata": {},
   "outputs": [],
   "source": [
    "cifar10_classes[cifar10_eval_label]"
   ]
  },
  {
   "cell_type": "markdown",
   "metadata": {},
   "source": [
    "Ok, the randomly selected image should contain a two (2). Let's inspect the image accordingly:"
   ]
  },
  {
   "cell_type": "code",
   "execution_count": null,
   "metadata": {},
   "outputs": [],
   "source": [
    "# define tensor to image transformation\n",
    "trans = torchvision.transforms.ToPILImage()\n",
    "\n",
    "# set image plot title \n",
    "plt.title('Example: {}, Label: {}'.format(str(image_id), str(cifar10_classes[cifar10_eval_label])))\n",
    "\n",
    "# un-normalize cifar 10 image sample\n",
    "cifar10_eval_image_plot = cifar10_eval_image / 2.0 + 0.5\n",
    "\n",
    "# plot cifar 10 image sample\n",
    "plt.imshow(trans(cifar10_eval_image_plot))"
   ]
  },
  {
   "cell_type": "markdown",
   "metadata": {},
   "source": [
    "Ok, let's compare the true label with the prediction of our model:"
   ]
  },
  {
   "cell_type": "code",
   "execution_count": null,
   "metadata": {},
   "outputs": [],
   "source": [
    "best_model(cifar10_eval_image.unsqueeze(0))"
   ]
  },
  {
   "cell_type": "markdown",
   "metadata": {},
   "source": [
    "We can even determine the likelihood of the most probable class:"
   ]
  },
  {
   "cell_type": "code",
   "execution_count": null,
   "metadata": {},
   "outputs": [],
   "source": [
    "cifar10_classes[torch.argmax(best_model(Variable(cifar10_eval_image.unsqueeze(0))), dim=1).item()]"
   ]
  },
  {
   "cell_type": "markdown",
   "metadata": {},
   "source": [
    "Let's now obtain the predictions for all the CIFAR-10 images of the evaluation data:"
   ]
  },
  {
   "cell_type": "code",
   "execution_count": null,
   "metadata": {},
   "outputs": [],
   "source": [
    "predictions = torch.argmax(best_model(iter(cifar10_eval_dataloader).next()[0]), dim=1)"
   ]
  },
  {
   "cell_type": "markdown",
   "metadata": {},
   "source": [
    "Furthermore, let's obtain the overall classification accuracy:"
   ]
  },
  {
   "cell_type": "code",
   "execution_count": null,
   "metadata": {},
   "outputs": [],
   "source": [
    "metrics.accuracy_score(cifar10_eval_data.targets, predictions.detach())"
   ]
  },
  {
   "cell_type": "markdown",
   "metadata": {},
   "source": [
    "Let's also inspect the confusion matrix of the model predictions to determine major sources of misclassification:"
   ]
  },
  {
   "cell_type": "code",
   "execution_count": null,
   "metadata": {},
   "outputs": [],
   "source": [
    "# determine classification matrix of the predicted and target classes\n",
    "mat = confusion_matrix(cifar10_eval_data.targets, predictions.detach())\n",
    "\n",
    "# plot corresponding confusion matrix\n",
    "sns.heatmap(mat.T, square=True, annot=True, fmt='d', cbar=False, cmap='YlOrRd_r', xticklabels=cifar10_classes, yticklabels=cifar10_classes)\n",
    "plt.title('CIFAR-10 classification matrix')\n",
    "plt.xlabel('[true label]')\n",
    "plt.ylabel('[predicted label]');"
   ]
  },
  {
   "cell_type": "markdown",
   "metadata": {},
   "source": [
    "Ok, we can easily see that our current model confuses images of cats and dogs as well as images of trucks and cars quite often. This is again not surprising since those image categories exhibit a high semantic and therefore visual similarity."
   ]
  },
  {
   "cell_type": "markdown",
   "metadata": {},
   "source": [
    "### Exercises:"
   ]
  },
  {
   "cell_type": "markdown",
   "metadata": {},
   "source": [
    "We recommend you try the following exercises as part of the lab:\n",
    "\n",
    "**1. Train the network a couple more epochs and evaluate its prediction accuracy.**\n",
    "\n",
    "> Increase the number of training epochs up to 50 epochs and re-run the network training. Load and evaluate the model exhibiting the lowest training loss. What kind of behavior in terms of prediction accuracy can be observed with increasing the training epochs?"
   ]
  },
  {
   "cell_type": "code",
   "execution_count": null,
   "metadata": {},
   "outputs": [],
   "source": [
    "# ***************************************************\n",
    "# INSERT YOUR CODE HERE\n",
    "# ***************************************************"
   ]
  },
  {
   "cell_type": "markdown",
   "metadata": {},
   "source": [
    "**2. Evaluation of \"shallow\" vs. \"deep\" neural network architectures.**\n",
    "\n",
    "> In addition to the architecture of the lab notebook, evaluate further (more shallow as well as more deep) neural network architectures by (1) either removing or adding layers to the network and/or (2) increasing/decreasing the number of neurons per layer. Train a model (using the architectures you selected) for at least 50 training epochs. Analyze the prediction performance of the trained models in terms of training time and prediction accuracy. "
   ]
  },
  {
   "cell_type": "code",
   "execution_count": null,
   "metadata": {},
   "outputs": [],
   "source": [
    "# ***************************************************\n",
    "# INSERT YOUR CODE HERE\n",
    "# ***************************************************"
   ]
  },
  {
   "cell_type": "markdown",
   "metadata": {},
   "source": [
    "### 5. [Bonus]: Deep Residual Learning 'ResNet' Architecture"
   ]
  },
  {
   "cell_type": "markdown",
   "metadata": {},
   "source": [
    "Deep neural networks have led to a series of breakthroughs for image classification. In general, deep networks naturally integrate low/mid/high-level features and classifiers in an end-to-end multilayer fashion, and the 'levels' of features can be enriched by the depth (or number of stacked layers) of the network. Driven by the significance of depth, the question arises: **Will stacking more layers improve feature learning and therefore increase the classification capability of a model?**\n",
    "\n",
    "In 2015, in their work **'Deep Residual Learning for Image Recognition'** He et al. (https://arxiv.org/abs/1512.03385) proposed an enhanced deep convolutional neural network architecture. The architecture is referred to as **Residual Neural Networks** since it encompasses so called **Residual Layers** or **Residual Blocks**. Using the architecture He et al. demonstrated that they were able to outperform a variety of image classification benchmark challanges at the time. We have a closer look into the distinct characteristic of the architecture on the following section of the notebook."
   ]
  },
  {
   "cell_type": "markdown",
   "metadata": {},
   "source": [
    "#### 5.1. Implementation of the \"ResNet\" Architecture"
   ]
  },
  {
   "cell_type": "markdown",
   "metadata": {},
   "source": [
    "In general, a **residual block** simply denotes that the activation of a layer can be fast-forwarded to a deeper layer in the neural network. As you can observe in the image below, the activation from a previous layer is being added to the final activation of a deeper layer in the network."
   ]
  },
  {
   "cell_type": "markdown",
   "metadata": {},
   "source": [
    "<img align=\"center\" style=\"max-width: 400px\" src=\"residualblock.png\">\n",
    "\n",
    "(Source: 'Deep Residual Learning for Image Recognition', He, K., Zhang, X., Ren, S., and, Sun, J., 2015)"
   ]
  },
  {
   "cell_type": "markdown",
   "metadata": {},
   "source": [
    "Let's implement such a **Residual Block**, as shown above, using `PyTorch`library: "
   ]
  },
  {
   "cell_type": "code",
   "execution_count": null,
   "metadata": {},
   "outputs": [],
   "source": [
    "# implement ResNet residual block\n",
    "class ResidualBlock(nn.Module):\n",
    "\n",
    "    # define the class constructor\n",
    "    def __init__(self, in_channels, out_channels, stride=1, downsample=None):\n",
    "\n",
    "        # call super class constructor\n",
    "        super(ResidualBlock, self).__init__()\n",
    "\n",
    "        # init first convolutional layer of residual block\n",
    "        self.conv1 = nn.Conv2d(in_channels, out_channels, kernel_size=3, stride=stride, padding=1, bias=False)\n",
    "        self.bn1 = nn.BatchNorm2d(out_channels) # batch-normalization\n",
    "        self.relu1 = nn.ReLU(inplace=True) # non-linearity\n",
    "        \n",
    "        # init second convolutional layer of residual block\n",
    "        self.conv2 = nn.Conv2d(out_channels, out_channels, kernel_size=3, stride=stride, padding=1, bias=False)\n",
    "        self.bn2 = nn.BatchNorm2d(out_channels) # batch-normalization\n",
    "        self.relu2 = nn.ReLU(inplace=True) # non-linearity\n",
    "        \n",
    "        # init down-sample flag\n",
    "        self.downsample = downsample\n",
    "\n",
    "    # define the block forward pass\n",
    "    def forward(self, x):\n",
    "\n",
    "        # determine residual\n",
    "        residual = x\n",
    "        \n",
    "        # case: down-sampling needed\n",
    "        if self.downsample:\n",
    "            \n",
    "            # determine down-sampled residual\n",
    "            residual = self.downsample(residual)\n",
    "\n",
    "        # run forward pass through first layer\n",
    "        out = self.conv1(x)\n",
    "        out = self.bn1(out)\n",
    "        out = self.relu1(out)\n",
    "        \n",
    "        # run forward pass through second layer\n",
    "        out = self.conv2(out)\n",
    "        out = self.bn2(out)\n",
    "\n",
    "        # merge output and residual\n",
    "        # the skip connection :) \n",
    "        out += residual\n",
    "        \n",
    "        # run second non-linearity\n",
    "        out = self.relu2(out)\n",
    "\n",
    "        # return residual block output\n",
    "        return out"
   ]
  },
  {
   "cell_type": "markdown",
   "metadata": {},
   "source": [
    "Let's implement a `ResNet` network architecture and subsequently have a more in-depth look into its architectural details:"
   ]
  },
  {
   "cell_type": "code",
   "execution_count": null,
   "metadata": {},
   "outputs": [],
   "source": [
    "# implement the ResNet architecture\n",
    "class ResNet(nn.Module):\n",
    "\n",
    "    # define the class constructor\n",
    "    def __init__(self, layers):\n",
    "        \n",
    "        # call super class constructor\n",
    "        super(ResNet, self).__init__()\n",
    "        \n",
    "        #### feature learning layers\n",
    "\n",
    "        # init initial convolutional layer\n",
    "        self.conv = nn.Conv2d(in_channels=3, out_channels=16, kernel_size=3, stride=1, padding=1, bias=False)\n",
    "        self.bn = nn.BatchNorm2d(16) # batch-normalization\n",
    "        self.relu = nn.ReLU(inplace=True) # non-linearity\n",
    "\n",
    "        # init first residual layer \n",
    "        self.layer1 = self.make_residual_layer(in_channels=16, out_channels=16, blocks=layers[0], stride=1)\n",
    "        \n",
    "        # init second residual layer \n",
    "        self.layer2 = self.make_residual_layer(in_channels=16, out_channels=32, blocks=layers[1], stride=1)\n",
    "        \n",
    "        # init third residual layer \n",
    "        self.layer3 = self.make_residual_layer(in_channels=32, out_channels=64, blocks=layers[2], stride=1)\n",
    "\n",
    "        # init average pooling\n",
    "        self.avg_pool = nn.AvgPool2d(8)\n",
    "\n",
    "        #### feature classification layers\n",
    "        \n",
    "        # define fully connected layer \n",
    "        self.fc = nn.Linear(1024, 10)\n",
    "\n",
    "        # define log-softmax probability conversion\n",
    "        self.logsoftmax = nn.LogSoftmax(dim=1)\n",
    "\n",
    "    # create residual layer \n",
    "    def make_residual_layer(self, in_channels, out_channels, blocks, stride=1):\n",
    "\n",
    "        # init down-sample flag\n",
    "        downsample = None\n",
    "\n",
    "        # init array of residual layer elements \n",
    "        layers = []\n",
    "        \n",
    "        # case: down sampling needed\n",
    "        if in_channels != out_channels:\n",
    "\n",
    "            # init down-sampling layer \n",
    "            downsample = nn.Sequential(\n",
    "                \n",
    "                # init down-sampling convolution\n",
    "                nn.Conv2d(in_channels, out_channels, kernel_size=3, stride=stride, padding=1, bias=False),\n",
    "                \n",
    "                # init down-sampling batch normalization \n",
    "                nn.BatchNorm2d(out_channels)\n",
    "            )\n",
    "        \n",
    "        # init and append initial residual block\n",
    "        layers.append(ResidualBlock(in_channels, out_channels, stride, downsample))\n",
    "\n",
    "        # reset input channels\n",
    "        self.in_channels = out_channels\n",
    "\n",
    "        # iterate over remaining residual blocks\n",
    "        for i in range(1, blocks):\n",
    "\n",
    "            # init and append remaining residual blocks\n",
    "            layers.append(ResidualBlock(out_channels, out_channels))\n",
    "\n",
    "        # stack layers \n",
    "        residual_layer = nn.Sequential(*layers)\n",
    "        \n",
    "        # return residual layer \n",
    "        return residual_layer\n",
    "\n",
    "    # define the network forward pass\n",
    "    def forward(self, x):\n",
    "\n",
    "        # run through inital convolution\n",
    "        x = self.conv(x)\n",
    "        \n",
    "        # run through initial batch-normalization\n",
    "        x = self.bn(x)\n",
    "        \n",
    "        # run trough first residual block\n",
    "        x = self.layer1(x)\n",
    "        \n",
    "        # run through second residual block\n",
    "        x = self.layer2(x)\n",
    "        \n",
    "        # run through third residual block\n",
    "        x = self.layer3(x)\n",
    "        \n",
    "        # conduct average pooling of learned features\n",
    "        x = self.avg_pool(x)\n",
    "        \n",
    "        # reshape the feature map\n",
    "        x = x.view(x.size(0), -1)\n",
    "        \n",
    "        # run final fully-connected layer\n",
    "        x = self.fc(x)\n",
    "        \n",
    "        # run final log-softmax\n",
    "        x = self.logsoftmax(x)\n",
    "\n",
    "        # return forward pass result\n",
    "        return x"
   ]
  },
  {
   "cell_type": "markdown",
   "metadata": {},
   "source": [
    "Now, that we have implemented our `ResNet` architecture we are ready to instantiate a network model to be trained. In the following we instantiate a `ResNet` where each residual layer consists of two residual blocks: "
   ]
  },
  {
   "cell_type": "code",
   "execution_count": null,
   "metadata": {},
   "outputs": [],
   "source": [
    "resnet_model = ResNet(layers=[2, 2, 2])"
   ]
  },
  {
   "cell_type": "markdown",
   "metadata": {},
   "source": [
    "Let's push the initialized `ResNet` model to the computing `device` that is enabled:"
   ]
  },
  {
   "cell_type": "code",
   "execution_count": null,
   "metadata": {},
   "outputs": [],
   "source": [
    "resnet_model = resnet_model.to(device)"
   ]
  },
  {
   "cell_type": "markdown",
   "metadata": {},
   "source": [
    "Let's double check if our model was deployed to the GPU if available:"
   ]
  },
  {
   "cell_type": "code",
   "execution_count": null,
   "metadata": {},
   "outputs": [],
   "source": [
    "!nvidia-smi"
   ]
  },
  {
   "cell_type": "markdown",
   "metadata": {},
   "source": [
    "Once the model is initialized we can visualize the model structure and review the implemented network architecture by execution of the following cell:"
   ]
  },
  {
   "cell_type": "code",
   "execution_count": null,
   "metadata": {},
   "outputs": [],
   "source": [
    "# print the initialized architectures\n",
    "print('[LOG] ResNet architecture:\\n\\n{}\\n'.format(resnet_model))"
   ]
  },
  {
   "cell_type": "markdown",
   "metadata": {},
   "source": [
    "Looks like intended? Brilliant! Finally, let's have a look into the number of model parameters that we aim to train in the next steps of the notebook:"
   ]
  },
  {
   "cell_type": "code",
   "execution_count": null,
   "metadata": {},
   "outputs": [],
   "source": [
    "# init the number of model parameters\n",
    "num_params = 0\n",
    "\n",
    "# iterate over the distinct parameters\n",
    "for param in resnet_model.parameters():\n",
    "\n",
    "    # collect number of parameters\n",
    "    num_params += param.numel()\n",
    "    \n",
    "# print the number of model paramters\n",
    "print('[LOG] Number of to be trained ResNet model parameters: {}.'.format(num_params))"
   ]
  },
  {
   "cell_type": "markdown",
   "metadata": {},
   "source": [
    "Ok, our `ResNet` model encompasses a total of 205'338 model parameters to be trained. That's quite an increase in comparison to the prior `CIFAR10Net` that corresponded to 62'006 parameters. "
   ]
  },
  {
   "cell_type": "markdown",
   "metadata": {},
   "source": [
    "#### 5.2. Training of the \"ResNet\" Architecture"
   ]
  },
  {
   "cell_type": "markdown",
   "metadata": {},
   "source": [
    "Similarly to training the `CIFAR10Net`, we will use the **Stochastic Gradient Descent (SGD) optimization** and set the `learning-rate to 0.001`. Each mini-batch step the optimizer will update the model parameters $\\theta$ values according to the degree of classification error (the NLL loss)."
   ]
  },
  {
   "cell_type": "code",
   "execution_count": null,
   "metadata": {},
   "outputs": [],
   "source": [
    "# define learning rate and optimization strategy\n",
    "learning_rate = 0.001\n",
    "optimizer = optim.SGD(params=resnet_model.parameters(), lr=learning_rate)"
   ]
  },
  {
   "cell_type": "markdown",
   "metadata": {},
   "source": [
    "Let's now start to train a `ResNet`corresponding model for **20 epochs** and a **mini-batch size of 128** CIFAR-10 images per batch. This implies that the whole dataset will be fed to the architecture 20 times in chunks of 128 images yielding to **391 mini-batches** (50.000 training images / 128 images per mini-batch) per epoch. After the processing of each mini-batch, the parameters of the network will be updated. "
   ]
  },
  {
   "cell_type": "code",
   "execution_count": null,
   "metadata": {},
   "outputs": [],
   "source": [
    "# specify the training parameters\n",
    "num_epochs = 1 # 20 # number of training epochs\n",
    "mini_batch_size = 128 # size of the mini-batches"
   ]
  },
  {
   "cell_type": "markdown",
   "metadata": {},
   "source": []
  },
  {
   "cell_type": "code",
   "execution_count": null,
   "metadata": {},
   "outputs": [],
   "source": [
    "# init collection of training epoch losses\n",
    "train_epoch_losses = []\n",
    "\n",
    "# set the model in training mode\n",
    "resnet_model.train()\n",
    "\n",
    "# train the CIFAR10 model\n",
    "for epoch in range(num_epochs):\n",
    "    \n",
    "    # init collection of mini-batch losses\n",
    "    train_mini_batch_losses = []\n",
    "    \n",
    "    # iterate over all-mini batches\n",
    "    for i, (images, labels) in enumerate(cifar10_train_dataloader):\n",
    "        \n",
    "        # push mini-batch data to computation device\n",
    "        images = images.to(device)\n",
    "        labels = labels.to(device)\n",
    "\n",
    "        # run forward pass through the network\n",
    "        output = resnet_model(images)\n",
    "        \n",
    "        # reset graph gradients\n",
    "        resnet_model.zero_grad()\n",
    "        \n",
    "        # determine classification loss\n",
    "        loss = nll_loss(output, labels)\n",
    "        \n",
    "        # run backward pass\n",
    "        loss.backward()\n",
    "        \n",
    "        # update network paramaters\n",
    "        optimizer.step()\n",
    "        \n",
    "        # collect mini-batch reconstruction loss\n",
    "        train_mini_batch_losses.append(loss.data.item())\n",
    "        \n",
    "        # print mini-batch loss\n",
    "        now = datetime.utcnow().strftime(\"%Y%m%d-%H:%M:%S\")\n",
    "        print('[LOG {}] epoch: {}, batch: {} train-loss: {}'.format(str(now), str(epoch), str(i), str(loss.item())))\n",
    "\n",
    "    # determine mean min-batch loss of epoch\n",
    "    train_epoch_loss = np.mean(train_mini_batch_losses)\n",
    "    \n",
    "    # print epoch loss\n",
    "    now = datetime.utcnow().strftime(\"%Y%m%d-%H:%M:%S\")\n",
    "    print('[LOG {}] epoch: {} train-loss: {}'.format(str(now), str(epoch), str(train_epoch_loss)))\n",
    "    \n",
    "    # save model to local directory\n",
    "    model_name = 'cifar10_resnet_model_epoch_{}.pth'.format(str(epoch))\n",
    "    torch.save(resnet_model.state_dict(), os.path.join(\"./models\", model_name))\n",
    "    \n",
    "    # determine mean min-batch loss of epoch\n",
    "    train_epoch_losses.append(train_epoch_loss)"
   ]
  },
  {
   "cell_type": "markdown",
   "metadata": {},
   "source": [
    "Upon successfull training let's visualize and inspect the loss per training iteration (mini-batch):"
   ]
  },
  {
   "cell_type": "code",
   "execution_count": null,
   "metadata": {},
   "outputs": [],
   "source": [
    "# prepare plot\n",
    "fig = plt.figure()\n",
    "ax = fig.add_subplot(111)\n",
    "\n",
    "# add grid\n",
    "ax.grid(linestyle='dotted')\n",
    "\n",
    "# plot the training epochs vs. the epochs' classification error\n",
    "ax.plot(np.array(range(1, len(train_mini_batch_losses)+1)), train_mini_batch_losses, label='mini-batch loss (blue)')\n",
    "\n",
    "# add axis legends\n",
    "ax.set_xlabel(\"[training mini-batch $mb_i$]\", fontsize=10)\n",
    "ax.set_ylabel(\"[Classification Error $\\mathcal{L}^{NLL}$]\", fontsize=10)\n",
    "\n",
    "# set plot legend\n",
    "plt.legend(loc=\"upper right\", numpoints=1, fancybox=True)\n",
    "\n",
    "# add plot title\n",
    "plt.title('Training Iterations $mb_i$ vs. Classification Error $L^{NLL}$', fontsize=10);"
   ]
  },
  {
   "cell_type": "markdown",
   "metadata": {},
   "source": [
    "#### 5.3. Evaluation of the Trained \"ResNet\" Model"
   ]
  },
  {
   "cell_type": "markdown",
   "metadata": {},
   "source": [
    "We will conduct our evaluation based on a model that was already pre-trained for a total of 200 training epochs. Remember, that we stored a snapshot of the model after each training epoch to our local model directory. We will now load a pre-trained snapshot."
   ]
  },
  {
   "cell_type": "code",
   "execution_count": null,
   "metadata": {},
   "outputs": [],
   "source": [
    "# restore pre-trained model snapshot\n",
    "best_resnet_model_name = \"cifar10_resnet_model_epoch_199.pth\"\n",
    "\n",
    "# init pre-trained model class\n",
    "best_resnet_model = ResNet(layers=[2, 2, 2])\n",
    "\n",
    "# load pre-trained models\n",
    "best_resnet_model.load_state_dict(torch.load(os.path.join(\"models\", best_resnet_model_name), map_location=torch.device('cpu')))"
   ]
  },
  {
   "cell_type": "markdown",
   "metadata": {},
   "source": [
    "Let's again inspect if the pre-trained model was loaded successfully: "
   ]
  },
  {
   "cell_type": "code",
   "execution_count": null,
   "metadata": {
    "scrolled": true
   },
   "outputs": [],
   "source": [
    "# set model in evaluation mode\n",
    "best_resnet_model.eval()"
   ]
  },
  {
   "cell_type": "markdown",
   "metadata": {},
   "source": [
    "Similarly to the `CIFAR10Net` above we will now evaluate the pre-trained `ResNet` model based on the mini-batches of the evaluation dataset to derive the mean negative log-likelihood loss:"
   ]
  },
  {
   "cell_type": "code",
   "execution_count": null,
   "metadata": {},
   "outputs": [],
   "source": [
    "# init collection of mini-batch losses\n",
    "eval_mini_batch_losses = []\n",
    "\n",
    "# iterate over all-mini batches\n",
    "for i, (images, labels) in enumerate(cifar10_eval_dataloader):\n",
    "\n",
    "    # run forward pass through the network\n",
    "    output = best_resnet_model(images)\n",
    "\n",
    "    # determine classification loss\n",
    "    loss = nll_loss(output, labels)\n",
    "\n",
    "    # collect mini-batch reconstruction loss\n",
    "    eval_mini_batch_losses.append(loss.data.item())\n",
    "\n",
    "# determine mean min-batch loss of epoch\n",
    "eval_loss = np.mean(eval_mini_batch_losses)\n",
    "\n",
    "# print epoch loss\n",
    "now = datetime.utcnow().strftime(\"%Y%m%d-%H:%M:%S\")\n",
    "print('[LOG {}] eval-loss: {}'.format(str(now), str(eval_loss)))"
   ]
  },
  {
   "cell_type": "markdown",
   "metadata": {},
   "source": [
    "Ok, great. The evaluation loss obtained by `ResNet` model looks significantly compared to the one achieved by the `CIFAR10Net` model. Let's now inspect a few sample predictions to get an impression of the model quality. Therefore, we will again pick a random image of our evaluation dataset and retrieve its PyTorch tensor as well as the corresponding label:"
   ]
  },
  {
   "cell_type": "code",
   "execution_count": null,
   "metadata": {},
   "outputs": [],
   "source": [
    "# select a sample image id\n",
    "image_id = 11\n",
    "\n",
    "# obtain the image from the dataloader\n",
    "cifar10_eval_image = iter(cifar10_eval_dataloader).next()[0][image_id]\n",
    "\n",
    "# obtain the true label of the image\n",
    "label = cifar10_eval_data.targets[image_id]\n",
    "\n",
    "# obtain the model's class prediction\n",
    "prediction = torch.argmax(best_resnet_model(cifar10_eval_image.unsqueeze(0)), dim=1).item()\n",
    "\n",
    "# define tensor to image transformation\n",
    "trans = torchvision.transforms.ToPILImage()\n",
    "\n",
    "# set image plot title \n",
    "plt.title('Example: {}, Label: {}, Prediction: {}'.format(str(image_id), str(cifar10_classes[label]), str(cifar10_classes[prediction])))\n",
    "\n",
    "# un-normalize cifar 10 image sample\n",
    "cifar10_eval_image_plot = cifar10_eval_image / 2.0 + 0.5\n",
    "\n",
    "# plot cifar 10 image sample\n",
    "plt.imshow(trans(cifar10_eval_image_plot))"
   ]
  },
  {
   "cell_type": "markdown",
   "metadata": {},
   "source": [
    "Let's now obtain the predictions for all the `CIFAR10` images of the evaluation data using the pre-trained `ResNet`model:"
   ]
  },
  {
   "cell_type": "code",
   "execution_count": null,
   "metadata": {},
   "outputs": [],
   "source": [
    "predictions = torch.argmax(best_resnet_model(iter(cifar10_eval_dataloader).next()[0]), dim=1)"
   ]
  },
  {
   "cell_type": "markdown",
   "metadata": {},
   "source": [
    "Let's obtain the overall classification accuracy of the trained `ResNet` model:"
   ]
  },
  {
   "cell_type": "code",
   "execution_count": null,
   "metadata": {},
   "outputs": [],
   "source": [
    "metrics.accuracy_score(cifar10_eval_data.targets, predictions.detach())"
   ]
  },
  {
   "cell_type": "markdown",
   "metadata": {},
   "source": [
    "In addition, let's inspect the confusion matrix of the model predictions to determine major sources of misclassification:"
   ]
  },
  {
   "cell_type": "code",
   "execution_count": null,
   "metadata": {},
   "outputs": [],
   "source": [
    "# determine classification matrix of the predicted and target classes\n",
    "mat = confusion_matrix(cifar10_eval_data.targets, predictions.detach())\n",
    "\n",
    "# plot corresponding confusion matrix\n",
    "sns.heatmap(mat.T, square=True, annot=True, fmt='d', cbar=False, cmap='YlOrRd_r', xticklabels=cifar10_classes, yticklabels=cifar10_classes)\n",
    "plt.title('CIFAR-10 ResNet classification matrix')\n",
    "plt.xlabel('[true label]')\n",
    "plt.ylabel('[predicted label]');"
   ]
  },
  {
   "cell_type": "markdown",
   "metadata": {},
   "source": [
    "### Lab Summary:"
   ]
  },
  {
   "cell_type": "markdown",
   "metadata": {},
   "source": [
    "In this lab, a step by step introduction into **design, implementation, training and evaluation** of convolutional neural networks CNNs to classify tiny images of objects is presented. The code and exercises presented in this lab may serves as a starting point for developing more complex, deeper and more tailored CNNs."
   ]
  },
  {
   "cell_type": "markdown",
   "metadata": {},
   "source": [
    "You may want to execute the content of your lab outside of the Jupyter notebook environment, e.g. on a compute node or a server. The cell below converts the lab notebook into a standalone and executable python script. Pls. note that to convert the notebook, you need to install Python's **nbconvert** library and its extensions:"
   ]
  },
  {
   "cell_type": "code",
   "execution_count": null,
   "metadata": {},
   "outputs": [],
   "source": [
    "# installing the nbconvert library\n",
    "!pip install nbconvert\n",
    "!pip install jupyter_contrib_nbextensions"
   ]
  },
  {
   "cell_type": "markdown",
   "metadata": {},
   "source": [
    "Let's now convert the Jupyter notebook into a plain Python script:"
   ]
  },
  {
   "cell_type": "code",
   "execution_count": null,
   "metadata": {},
   "outputs": [],
   "source": [
    "!jupyter nbconvert --to script ml_lab_05.ipynb"
   ]
  }
 ],
 "metadata": {
  "kernelspec": {
   "display_name": "Python 3",
   "language": "python",
   "name": "python3"
  },
  "language_info": {
   "codemirror_mode": {
    "name": "ipython",
    "version": 3
   },
   "file_extension": ".py",
   "mimetype": "text/x-python",
   "name": "python",
   "nbconvert_exporter": "python",
   "pygments_lexer": "ipython3",
   "version": "3.7.4"
  },
  "toc": {
   "base_numbering": 1,
   "nav_menu": {},
   "number_sections": false,
   "sideBar": true,
   "skip_h1_title": false,
   "title_cell": "Table of Contents",
   "title_sidebar": "Contents",
   "toc_cell": false,
   "toc_position": {
    "height": "calc(100% - 180px)",
    "left": "10px",
    "top": "150px",
    "width": "254.39999389648438px"
   },
   "toc_section_display": true,
   "toc_window_display": true
  }
 },
 "nbformat": 4,
 "nbformat_minor": 2
}
